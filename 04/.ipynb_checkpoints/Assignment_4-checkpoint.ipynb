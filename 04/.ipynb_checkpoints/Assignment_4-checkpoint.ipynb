{
 "cells": [
  {
   "cell_type": "markdown",
   "metadata": {},
   "source": [
    "# Assignment 4"
   ]
  },
  {
   "cell_type": "markdown",
   "metadata": {},
   "source": [
    "### 1. 复习上课内容以及复现课程代码"
   ]
  },
  {
   "cell_type": "markdown",
   "metadata": {},
   "source": [
    "在本部分，你需要复习上课内容和课程代码后，自己复现课程代码。"
   ]
  },
  {
   "cell_type": "code",
   "execution_count": 129,
   "metadata": {},
   "outputs": [],
   "source": [
    "import numpy as np\n",
    "\n",
    "class Node:\n",
    "    def __init__(self, inputs=[]):\n",
    "        self.inputs = inputs\n",
    "        self.outputs = []\n",
    "\n",
    "        for n in self.inputs:\n",
    "            n.outputs.append(self)\n",
    "            # set 'self' node as inbound_nodes's outbound_nodes\n",
    "\n",
    "        self.value = None\n",
    "\n",
    "        self.gradients = {}\n",
    "        # keys are the inputs to this node, and their\n",
    "        # values are the partials of this node with \n",
    "        # respect to that input.\n",
    "        # \\partial{node}{input_i}\n",
    "        \n",
    "\n",
    "    def forward(self):\n",
    "        '''\n",
    "        Forward propagation. \n",
    "        Compute the output value vased on 'inbound_nodes' and store the \n",
    "        result in self.value\n",
    "        '''\n",
    "\n",
    "        raise NotImplemented\n",
    "    \n",
    "\n",
    "    def backward(self):\n",
    "\n",
    "        raise NotImplemented\n",
    "        \n",
    "class Input(Node):\n",
    "    def __init__(self):\n",
    "        '''\n",
    "        An Input node has no inbound nodes.\n",
    "        So no need to pass anything to the Node instantiator.\n",
    "        '''\n",
    "        Node.__init__(self)\n",
    "\n",
    "    def forward(self, value=None):\n",
    "        '''\n",
    "        Only input node is the node where the value may be passed\n",
    "        as an argument to forward().\n",
    "        All other node implementations should get the value of the \n",
    "        previous node from self.inbound_nodes\n",
    "        \n",
    "        Example: \n",
    "        val0: self.inbound_nodes[0].value\n",
    "        '''\n",
    "        if value is not None:\n",
    "            self.value = value\n",
    "            ## It's is input node, when need to forward, this node initiate self's value.\n",
    "\n",
    "        # Input subclass just holds a value, such as a data feature or a model parameter(weight/bias)\n",
    "        \n",
    "    def backward(self):\n",
    "        self.gradients = {self:0}\n",
    "        for n in self.outputs:\n",
    "            grad_cost = n.gradients[self]\n",
    "            self.gradients[self] = grad_cost * 1\n",
    "            \n",
    "        \n",
    "        # input N --> N1, N2\n",
    "        # \\partial L / \\partial N \n",
    "        # ==> \\partial L / \\partial N1 * \\ partial N1 / \\partial N\n",
    "\n",
    "\n",
    "class Add(Node):\n",
    "    def __init__(self, *nodes):\n",
    "        Node.__init__(self, nodes)\n",
    "\n",
    "\n",
    "    def forward(self):\n",
    "        self.value = sum(map(lambda n: n.value, self.inputs))\n",
    "        ## when execute forward, this node caculate value as defined.\n",
    "\n",
    "class Linear(Node):\n",
    "    def __init__(self, nodes, weights, bias):\n",
    "        Node.__init__(self, [nodes, weights, bias])\n",
    "\n",
    "    def forward(self):\n",
    "        inputs = self.inputs[0].value\n",
    "        weights = self.inputs[1].value\n",
    "        bias = self.inputs[2].value\n",
    "\n",
    "        self.value = np.dot(inputs, weights) + bias\n",
    "        \n",
    "    def backward(self):\n",
    "\n",
    "        # initial a partial for each of the inbound_nodes.\n",
    "        self.gradients = {n: np.zeros_like(n.value) for n in self.inputs}\n",
    "\n",
    "        for n in self.outputs:\n",
    "            # Get the partial of the cost w.r.t this node.\n",
    "            grad_cost = n.gradients[self]\n",
    "\n",
    "            self.gradients[self.inputs[0]] = np.dot(grad_cost, self.inputs[1].value.T)\n",
    "            self.gradients[self.inputs[1]] = np.dot(self.inputs[0].value.T, grad_cost)\n",
    "            self.gradients[self.inputs[2]] = np.sum(grad_cost, axis=0, keepdims=False)\n",
    "\n",
    "        # WX + B / W ==> X\n",
    "        # WX + B / X ==> W\n",
    "\n",
    "class Sigmoid(Node):\n",
    "    def __init__(self, node):\n",
    "        Node.__init__(self, [node])\n",
    "\n",
    "\n",
    "    def _sigmoid(self, x):\n",
    "        return 1./(1 + np.exp(-1 * x))\n",
    "\n",
    "    def forward(self):\n",
    "        self.x = self.inputs[0].value\n",
    "        self.value = self._sigmoid(self.x)\n",
    "\n",
    "    def backward(self):\n",
    "        self.partial = self._sigmoid(self.x) * (1 - self._sigmoid(self.x))\n",
    "        \n",
    "        # y = 1 / (1 + e^-x)\n",
    "        # y' = 1 / (1 + e^-x) (1 - 1 / (1 + e^-x))\n",
    "        \n",
    "        self.gradients = {n: np.zeros_like(n.value) for n in self.inputs}\n",
    "\n",
    "        for n in self.outputs:\n",
    "            grad_cost = n.gradients[self]  # Get the partial of the cost with respect to this node.\n",
    "\n",
    "            self.gradients[self.inputs[0]] = grad_cost * self.partial\n",
    "            # use * to keep all the dimension same!.\n",
    "\n",
    "\n",
    "\n",
    "class MSE(Node):\n",
    "    def __init__(self, y, a):\n",
    "        Node.__init__(self, [y, a])\n",
    "\n",
    "\n",
    "    def forward(self):\n",
    "        y = self.inputs[0].value.reshape(-1, 1)\n",
    "        a = self.inputs[1].value.reshape(-1, 1)\n",
    "        assert(y.shape == a.shape)\n",
    "\n",
    "        self.m = self.inputs[0].value.shape[0]\n",
    "        self.diff = y - a\n",
    "\n",
    "        self.value = np.mean(self.diff**2)\n",
    "\n",
    "\n",
    "    def backward(self):\n",
    "        self.gradients[self.inputs[0]] = (2 / self.m) * self.diff\n",
    "        self.gradients[self.inputs[1]] = (-2 / self.m) * self.diff\n",
    "\n",
    "\n",
    "def forward_and_backward(outputnode, graph):\n",
    "    # execute all the forward method of sorted_nodes.\n",
    "\n",
    "    ## In practice, it's common to feed in mutiple data example in each forward pass rather than just 1. Because the examples can be processed in parallel. The number of examples is called batch size.\n",
    "    for n in graph:\n",
    "        n.forward()\n",
    "        ## each node execute forward, get self.value based on the topological sort result.\n",
    "\n",
    "    for n in  graph[::-1]:\n",
    "        n.backward()\n",
    "\n",
    "    #return outputnode.value\n",
    "\n",
    "###   v -->  a -->  C\n",
    "##    b --> C\n",
    "##    b --> v -- a --> C\n",
    "##    v --> v ---> a -- > C\n",
    "\n",
    "def topological_sort(feed_dict):\n",
    "    \"\"\"\n",
    "    Sort generic nodes in topological order using Kahn's Algorithm.\n",
    "    `feed_dict`: A dictionary where the key is a `Input` node and the value is the respective value feed to that node.\n",
    "    Returns a list of sorted nodes.\n",
    "    \"\"\"\n",
    "\n",
    "    input_nodes = [n for n in feed_dict.keys()]\n",
    "\n",
    "    G = {}\n",
    "    nodes = [n for n in input_nodes]\n",
    "    while len(nodes) > 0:\n",
    "        n = nodes.pop(0)\n",
    "        if n not in G:\n",
    "            G[n] = {'in': set(), 'out': set()}\n",
    "        for m in n.outputs:\n",
    "            if m not in G:\n",
    "                G[m] = {'in': set(), 'out': set()}\n",
    "            G[n]['out'].add(m)\n",
    "            G[m]['in'].add(n)\n",
    "            nodes.append(m)\n",
    "\n",
    "    L = []\n",
    "    S = set(input_nodes)\n",
    "    while len(S) > 0:\n",
    "        n = S.pop()\n",
    "\n",
    "        if isinstance(n, Input):\n",
    "            n.value = feed_dict[n]\n",
    "            ## if n is Input Node, set n'value as \n",
    "            ## feed_dict[n]\n",
    "            ## else, n's value is caculate as its\n",
    "            ## inbounds\n",
    "\n",
    "        L.append(n)\n",
    "        for m in n.outputs:\n",
    "            G[n]['out'].remove(m)\n",
    "            G[m]['in'].remove(n)\n",
    "            # if no other incoming edges add to S\n",
    "            if len(G[m]['in']) == 0:\n",
    "                S.add(m)\n",
    "    return L\n",
    "\n",
    "\n",
    "def sgd_update(trainables, learning_rate=1e-2):\n",
    "    # there are so many other update / optimization methods\n",
    "    # such as Adam, Mom, \n",
    "    for t in trainables:\n",
    "        t.value += -1 * learning_rate * t.gradients[t]"
   ]
  },
  {
   "cell_type": "code",
   "execution_count": 130,
   "metadata": {},
   "outputs": [],
   "source": [
    "from sklearn.datasets import load_boston"
   ]
  },
  {
   "cell_type": "code",
   "execution_count": 131,
   "metadata": {},
   "outputs": [],
   "source": [
    "data = load_boston()"
   ]
  },
  {
   "cell_type": "code",
   "execution_count": 132,
   "metadata": {},
   "outputs": [],
   "source": [
    "losses = []"
   ]
  },
  {
   "cell_type": "code",
   "execution_count": 133,
   "metadata": {},
   "outputs": [
    {
     "data": {
      "text/plain": [
       "array([[6.3200e-03, 1.8000e+01, 2.3100e+00, ..., 1.5300e+01, 3.9690e+02,\n",
       "        4.9800e+00],\n",
       "       [2.7310e-02, 0.0000e+00, 7.0700e+00, ..., 1.7800e+01, 3.9690e+02,\n",
       "        9.1400e+00],\n",
       "       [2.7290e-02, 0.0000e+00, 7.0700e+00, ..., 1.7800e+01, 3.9283e+02,\n",
       "        4.0300e+00],\n",
       "       ...,\n",
       "       [6.0760e-02, 0.0000e+00, 1.1930e+01, ..., 2.1000e+01, 3.9690e+02,\n",
       "        5.6400e+00],\n",
       "       [1.0959e-01, 0.0000e+00, 1.1930e+01, ..., 2.1000e+01, 3.9345e+02,\n",
       "        6.4800e+00],\n",
       "       [4.7410e-02, 0.0000e+00, 1.1930e+01, ..., 2.1000e+01, 3.9690e+02,\n",
       "        7.8800e+00]])"
      ]
     },
     "execution_count": 133,
     "metadata": {},
     "output_type": "execute_result"
    },
    {
     "data": {
      "text/plain": [
       "array([24. , 21.6, 34.7, 33.4, 36.2, 28.7, 22.9, 27.1, 16.5, 18.9, 15. ,\n",
       "       18.9, 21.7, 20.4, 18.2, 19.9, 23.1, 17.5, 20.2, 18.2, 13.6, 19.6,\n",
       "       15.2, 14.5, 15.6, 13.9, 16.6, 14.8, 18.4, 21. , 12.7, 14.5, 13.2,\n",
       "       13.1, 13.5, 18.9, 20. , 21. , 24.7, 30.8, 34.9, 26.6, 25.3, 24.7,\n",
       "       21.2, 19.3, 20. , 16.6, 14.4, 19.4, 19.7, 20.5, 25. , 23.4, 18.9,\n",
       "       35.4, 24.7, 31.6, 23.3, 19.6, 18.7, 16. , 22.2, 25. , 33. , 23.5,\n",
       "       19.4, 22. , 17.4, 20.9, 24.2, 21.7, 22.8, 23.4, 24.1, 21.4, 20. ,\n",
       "       20.8, 21.2, 20.3, 28. , 23.9, 24.8, 22.9, 23.9, 26.6, 22.5, 22.2,\n",
       "       23.6, 28.7, 22.6, 22. , 22.9, 25. , 20.6, 28.4, 21.4, 38.7, 43.8,\n",
       "       33.2, 27.5, 26.5, 18.6, 19.3, 20.1, 19.5, 19.5, 20.4, 19.8, 19.4,\n",
       "       21.7, 22.8, 18.8, 18.7, 18.5, 18.3, 21.2, 19.2, 20.4, 19.3, 22. ,\n",
       "       20.3, 20.5, 17.3, 18.8, 21.4, 15.7, 16.2, 18. , 14.3, 19.2, 19.6,\n",
       "       23. , 18.4, 15.6, 18.1, 17.4, 17.1, 13.3, 17.8, 14. , 14.4, 13.4,\n",
       "       15.6, 11.8, 13.8, 15.6, 14.6, 17.8, 15.4, 21.5, 19.6, 15.3, 19.4,\n",
       "       17. , 15.6, 13.1, 41.3, 24.3, 23.3, 27. , 50. , 50. , 50. , 22.7,\n",
       "       25. , 50. , 23.8, 23.8, 22.3, 17.4, 19.1, 23.1, 23.6, 22.6, 29.4,\n",
       "       23.2, 24.6, 29.9, 37.2, 39.8, 36.2, 37.9, 32.5, 26.4, 29.6, 50. ,\n",
       "       32. , 29.8, 34.9, 37. , 30.5, 36.4, 31.1, 29.1, 50. , 33.3, 30.3,\n",
       "       34.6, 34.9, 32.9, 24.1, 42.3, 48.5, 50. , 22.6, 24.4, 22.5, 24.4,\n",
       "       20. , 21.7, 19.3, 22.4, 28.1, 23.7, 25. , 23.3, 28.7, 21.5, 23. ,\n",
       "       26.7, 21.7, 27.5, 30.1, 44.8, 50. , 37.6, 31.6, 46.7, 31.5, 24.3,\n",
       "       31.7, 41.7, 48.3, 29. , 24. , 25.1, 31.5, 23.7, 23.3, 22. , 20.1,\n",
       "       22.2, 23.7, 17.6, 18.5, 24.3, 20.5, 24.5, 26.2, 24.4, 24.8, 29.6,\n",
       "       42.8, 21.9, 20.9, 44. , 50. , 36. , 30.1, 33.8, 43.1, 48.8, 31. ,\n",
       "       36.5, 22.8, 30.7, 50. , 43.5, 20.7, 21.1, 25.2, 24.4, 35.2, 32.4,\n",
       "       32. , 33.2, 33.1, 29.1, 35.1, 45.4, 35.4, 46. , 50. , 32.2, 22. ,\n",
       "       20.1, 23.2, 22.3, 24.8, 28.5, 37.3, 27.9, 23.9, 21.7, 28.6, 27.1,\n",
       "       20.3, 22.5, 29. , 24.8, 22. , 26.4, 33.1, 36.1, 28.4, 33.4, 28.2,\n",
       "       22.8, 20.3, 16.1, 22.1, 19.4, 21.6, 23.8, 16.2, 17.8, 19.8, 23.1,\n",
       "       21. , 23.8, 23.1, 20.4, 18.5, 25. , 24.6, 23. , 22.2, 19.3, 22.6,\n",
       "       19.8, 17.1, 19.4, 22.2, 20.7, 21.1, 19.5, 18.5, 20.6, 19. , 18.7,\n",
       "       32.7, 16.5, 23.9, 31.2, 17.5, 17.2, 23.1, 24.5, 26.6, 22.9, 24.1,\n",
       "       18.6, 30.1, 18.2, 20.6, 17.8, 21.7, 22.7, 22.6, 25. , 19.9, 20.8,\n",
       "       16.8, 21.9, 27.5, 21.9, 23.1, 50. , 50. , 50. , 50. , 50. , 13.8,\n",
       "       13.8, 15. , 13.9, 13.3, 13.1, 10.2, 10.4, 10.9, 11.3, 12.3,  8.8,\n",
       "        7.2, 10.5,  7.4, 10.2, 11.5, 15.1, 23.2,  9.7, 13.8, 12.7, 13.1,\n",
       "       12.5,  8.5,  5. ,  6.3,  5.6,  7.2, 12.1,  8.3,  8.5,  5. , 11.9,\n",
       "       27.9, 17.2, 27.5, 15. , 17.2, 17.9, 16.3,  7. ,  7.2,  7.5, 10.4,\n",
       "        8.8,  8.4, 16.7, 14.2, 20.8, 13.4, 11.7,  8.3, 10.2, 10.9, 11. ,\n",
       "        9.5, 14.5, 14.1, 16.1, 14.3, 11.7, 13.4,  9.6,  8.7,  8.4, 12.8,\n",
       "       10.5, 17.1, 18.4, 15.4, 10.8, 11.8, 14.9, 12.6, 14.1, 13. , 13.4,\n",
       "       15.2, 16.1, 17.8, 14.9, 14.1, 12.7, 13.5, 14.9, 20. , 16.4, 17.7,\n",
       "       19.5, 20.2, 21.4, 19.9, 19. , 19.1, 19.1, 20.1, 19.9, 19.6, 23.2,\n",
       "       29.8, 13.8, 13.3, 16.7, 12. , 14.6, 21.4, 23. , 23.7, 25. , 21.8,\n",
       "       20.6, 21.2, 19.1, 20.6, 15.2,  7. ,  8.1, 13.6, 20.1, 21.8, 24.5,\n",
       "       23.1, 19.7, 18.3, 21.2, 17.5, 16.8, 22.4, 20.6, 23.9, 22. , 11.9])"
      ]
     },
     "execution_count": 133,
     "metadata": {},
     "output_type": "execute_result"
    },
    {
     "data": {
      "text/plain": [
       "(506, 13)"
      ]
     },
     "execution_count": 133,
     "metadata": {},
     "output_type": "execute_result"
    },
    {
     "data": {
      "text/plain": [
       "(506,)"
      ]
     },
     "execution_count": 133,
     "metadata": {},
     "output_type": "execute_result"
    }
   ],
   "source": [
    "data['data']\n",
    "data['target']\n",
    "data['data'].shape\n",
    "data['target'].shape"
   ]
  },
  {
   "cell_type": "code",
   "execution_count": 175,
   "metadata": {},
   "outputs": [
    {
     "name": "stdout",
     "output_type": "stream",
     "text": [
      "Total number of example = 506\n",
      "Epoch:1, Loss:138.101\n",
      "Epoch:101, Loss:5.215\n",
      "Epoch:201, Loss:5.223\n",
      "Epoch:301, Loss:4.660\n",
      "Epoch:401, Loss:5.139\n",
      "Epoch:501, Loss:4.426\n",
      "Epoch:601, Loss:4.747\n",
      "Epoch:701, Loss:6.091\n",
      "Epoch:801, Loss:3.140\n",
      "Epoch:901, Loss:4.703\n"
     ]
    }
   ],
   "source": [
    "import numpy as np\n",
    "from sklearn.datasets import load_boston\n",
    "from sklearn.utils import shuffle, resample\n",
    "\n",
    "data = load_boston()\n",
    "X_ = data['data']\n",
    "y_ = data['target']\n",
    "\n",
    "X_ = (X_ - np.mean(X_, axis = 0)) / np.std(X_, axis = 0)\n",
    "\n",
    "n_features = X_.shape[1]\n",
    "n_hidden = 10\n",
    "W1_ = np.random.randn(n_features, n_hidden)\n",
    "b1_ = np.zeros(n_hidden)\n",
    "W2_ = np.random.randn(n_hidden, 1)\n",
    "b2_ = np.zeros(1)\n",
    "\n",
    "X, y = Input(), Input()\n",
    "W1, b1 = Input(), Input()\n",
    "W2, b2 = Input(), Input()\n",
    "\n",
    "l1 = Linear(X, W1, b1)\n",
    "s1 = Sigmoid(l1)\n",
    "l2 = Linear(s1, W2, b2)\n",
    "cost = MSE(y, l2)\n",
    "\n",
    "feed_dict = {\n",
    "    X: X_, \n",
    "    y: y_,\n",
    "    W1:W1_,\n",
    "    b1:b1_,\n",
    "    W2:W2_,\n",
    "    b2:b2_,\n",
    "}\n",
    "\n",
    "epochs = 1000\n",
    "\n",
    "m = X_.shape[0]\n",
    "batch_size = 16\n",
    "steps_per_epoch = m // batch_size\n",
    "\n",
    "graph = topological_sort(feed_dict)\n",
    "trainables = [W1, b1, W2, b2]\n",
    "\n",
    "print(\"Total number of example = {}\".format(m))\n",
    "\n",
    "for i in range(epochs):\n",
    "    loss = 0\n",
    "    for j in range(steps_per_epoch):\n",
    "        X_batch, y_batch = resample(X_, y_, n_samples = batch_size)\n",
    "        \n",
    "        X.value = X_batch\n",
    "        y.value = y_batch\n",
    "        \n",
    "        _ = None\n",
    "        forward_and_backward(_, graph)\n",
    "        \n",
    "        rate = 1e-2\n",
    "        sgd_update(trainables, rate)\n",
    "        loss += graph[-1].value\n",
    "        \n",
    "    if i % 100 == 0:\n",
    "        print(\"Epoch:{}, Loss:{:.3f}\".format(i + 1, loss / steps_per_epoch))\n",
    "        losses.append(loss)\n"
   ]
  },
  {
   "cell_type": "code",
   "execution_count": 135,
   "metadata": {},
   "outputs": [],
   "source": [
    "import matplotlib.pyplot as plt"
   ]
  },
  {
   "cell_type": "code",
   "execution_count": 136,
   "metadata": {},
   "outputs": [
    {
     "data": {
      "text/plain": [
       "[5581.797840434258,\n",
       " 227.43372327171153,\n",
       " 175.2594716503442,\n",
       " 152.6289597009385,\n",
       " 131.09243580899522,\n",
       " 147.39532569702087,\n",
       " 132.7830663178073,\n",
       " 139.12443931937605,\n",
       " 111.68595320977639,\n",
       " 132.07201397419647,\n",
       " 109.78969397528464,\n",
       " 116.0244508814887,\n",
       " 114.39654420285282,\n",
       " 106.49655690644771,\n",
       " 105.08894138485033,\n",
       " 111.38892703663204,\n",
       " 126.65098628321078,\n",
       " 112.70884999831587,\n",
       " 121.60030588914127,\n",
       " 107.78472843822523,\n",
       " 128.66412311617708,\n",
       " 116.41869717478662,\n",
       " 115.50384528921064,\n",
       " 126.82412905313757,\n",
       " 117.79367324083807,\n",
       " 112.89805453129459,\n",
       " 106.5022975381088,\n",
       " 118.18299188227657,\n",
       " 109.43312141505355,\n",
       " 114.95215246309073,\n",
       " 109.14069415747666,\n",
       " 108.03685975909995,\n",
       " 116.96317523187845,\n",
       " 106.68515993078196,\n",
       " 110.26431875254033,\n",
       " 113.97890699158839,\n",
       " 96.92145253190004,\n",
       " 108.92054530457219,\n",
       " 120.78199059781804,\n",
       " 111.4377082184791,\n",
       " 123.2952236666735,\n",
       " 99.46365126375707,\n",
       " 112.84430639641498,\n",
       " 103.81808944509325,\n",
       " 111.21112212839475,\n",
       " 103.88248840568374,\n",
       " 104.64133561880617,\n",
       " 114.85746206740534,\n",
       " 101.86166792671855,\n",
       " 106.24869948483926]"
      ]
     },
     "execution_count": 136,
     "metadata": {},
     "output_type": "execute_result"
    },
    {
     "data": {
      "text/plain": [
       "[<matplotlib.lines.Line2D at 0x7f933c5ebda0>]"
      ]
     },
     "execution_count": 136,
     "metadata": {},
     "output_type": "execute_result"
    },
    {
     "data": {
      "image/png": "[encoded data removed]",
      "text/plain": [
       "<Figure size 432x288 with 1 Axes>"
      ]
     },
     "metadata": {
      "needs_background": "light"
     },
     "output_type": "display_data"
    }
   ],
   "source": [
    "losses\n",
    "plt.plot(range(len(losses)), losses)"
   ]
  },
  {
   "cell_type": "code",
   "execution_count": 137,
   "metadata": {},
   "outputs": [
    {
     "data": {
      "text/plain": [
       "array([[ 3.87971988],\n",
       "       [ 5.56914563],\n",
       "       [10.50205376],\n",
       "       [ 6.89899938],\n",
       "       [10.959741  ],\n",
       "       [ 7.69521483],\n",
       "       [ 4.68769599],\n",
       "       [ 5.52412674],\n",
       "       [ 6.36829352],\n",
       "       [ 5.43954192]])"
      ]
     },
     "execution_count": 137,
     "metadata": {},
     "output_type": "execute_result"
    }
   ],
   "source": [
    "W2.value"
   ]
  },
  {
   "cell_type": "code",
   "execution_count": 138,
   "metadata": {},
   "outputs": [
    {
     "data": {
      "text/plain": [
       "array([-2.95014541])"
      ]
     },
     "execution_count": 138,
     "metadata": {},
     "output_type": "execute_result"
    }
   ],
   "source": [
    "b2.value"
   ]
  },
  {
   "cell_type": "code",
   "execution_count": 139,
   "metadata": {},
   "outputs": [],
   "source": [
    "import keras"
   ]
  },
  {
   "cell_type": "code",
   "execution_count": 140,
   "metadata": {},
   "outputs": [
    {
     "data": {
      "text/plain": [
       "array([-0.41978194,  0.28482986, -1.2879095 , -0.27259857, -0.14421743,\n",
       "        0.41367189, -0.12001342,  0.1402136 , -0.98284286, -0.66660821,\n",
       "       -1.45900038,  0.44105193, -1.0755623 ])"
      ]
     },
     "execution_count": 140,
     "metadata": {},
     "output_type": "execute_result"
    },
    {
     "data": {
      "text/plain": [
       "(13,)"
      ]
     },
     "execution_count": 140,
     "metadata": {},
     "output_type": "execute_result"
    }
   ],
   "source": [
    "X_[0]\n",
    "X_[0].shape"
   ]
  },
  {
   "cell_type": "code",
   "execution_count": 177,
   "metadata": {},
   "outputs": [],
   "source": [
    "from tensorflow.keras.layers import Dense\n",
    "from tensorflow.keras.models import Sequential\n",
    "\n",
    "model = Sequential()\n",
    "\n",
    "model.add(Dense(units = 64, activation = 'sigmoid', input_dim = 13))\n",
    "model.add(Dense(units = 30, activation = 'sigmoid', input_dim = 64))\n",
    "model.add(Dense(units = 1))\n",
    "\n",
    "model.compile(loss='mse',\n",
    "             optimizer='sgd',\n",
    "             metrics=['mse'])\n",
    "          "
   ]
  },
  {
   "cell_type": "code",
   "execution_count": 178,
   "metadata": {},
   "outputs": [
    {
     "name": "stdout",
     "output_type": "stream",
     "text": [
      "Train on 506 samples\n",
      "Epoch 1/500\n",
      "506/506 [==============================] - 0s 612us/sample - loss: 147.1917 - mse: 147.1917\n",
      "Epoch 2/500\n",
      "506/506 [==============================] - 0s 75us/sample - loss: 63.4974 - mse: 63.4974\n",
      "Epoch 3/500\n",
      "506/506 [==============================] - 0s 99us/sample - loss: 46.6441 - mse: 46.6441\n",
      "Epoch 4/500\n",
      "506/506 [==============================] - 0s 89us/sample - loss: 36.7877 - mse: 36.7877\n",
      "Epoch 5/500\n",
      "506/506 [==============================] - 0s 76us/sample - loss: 30.7150 - mse: 30.7150\n",
      "Epoch 6/500\n",
      "506/506 [==============================] - 0s 98us/sample - loss: 25.9047 - mse: 25.9047\n",
      "Epoch 7/500\n",
      "506/506 [==============================] - 0s 91us/sample - loss: 24.3169 - mse: 24.3169\n",
      "Epoch 8/500\n",
      "506/506 [==============================] - 0s 81us/sample - loss: 22.9718 - mse: 22.9718\n",
      "Epoch 9/500\n",
      "506/506 [==============================] - 0s 71us/sample - loss: 22.2699 - mse: 22.2699\n",
      "Epoch 10/500\n",
      "506/506 [==============================] - 0s 75us/sample - loss: 20.8133 - mse: 20.8133\n",
      "Epoch 11/500\n",
      "506/506 [==============================] - 0s 76us/sample - loss: 21.3469 - mse: 21.3469\n",
      "Epoch 12/500\n",
      "506/506 [==============================] - 0s 95us/sample - loss: 19.8728 - mse: 19.8728\n",
      "Epoch 13/500\n",
      "506/506 [==============================] - 0s 83us/sample - loss: 18.8129 - mse: 18.8129\n",
      "Epoch 14/500\n",
      "506/506 [==============================] - 0s 85us/sample - loss: 18.5998 - mse: 18.5998\n",
      "Epoch 15/500\n",
      "506/506 [==============================] - 0s 79us/sample - loss: 17.1287 - mse: 17.1287\n",
      "Epoch 16/500\n",
      "506/506 [==============================] - 0s 79us/sample - loss: 17.5781 - mse: 17.5781\n",
      "Epoch 17/500\n",
      "506/506 [==============================] - 0s 86us/sample - loss: 16.7208 - mse: 16.7208\n",
      "Epoch 18/500\n",
      "506/506 [==============================] - 0s 87us/sample - loss: 16.4002 - mse: 16.4002\n",
      "Epoch 19/500\n",
      "506/506 [==============================] - 0s 82us/sample - loss: 15.7040 - mse: 15.7040\n",
      "Epoch 20/500\n",
      "506/506 [==============================] - 0s 92us/sample - loss: 15.8968 - mse: 15.8968\n",
      "Epoch 21/500\n",
      "506/506 [==============================] - 0s 83us/sample - loss: 15.1780 - mse: 15.1780\n",
      "Epoch 22/500\n",
      "506/506 [==============================] - 0s 74us/sample - loss: 15.0947 - mse: 15.0947\n",
      "Epoch 23/500\n",
      "506/506 [==============================] - 0s 74us/sample - loss: 14.5462 - mse: 14.5462\n",
      "Epoch 24/500\n",
      "506/506 [==============================] - 0s 89us/sample - loss: 14.3945 - mse: 14.3945\n",
      "Epoch 25/500\n",
      "506/506 [==============================] - 0s 94us/sample - loss: 14.7093 - mse: 14.7093\n",
      "Epoch 26/500\n",
      "506/506 [==============================] - 0s 78us/sample - loss: 14.2313 - mse: 14.2313\n",
      "Epoch 27/500\n",
      "506/506 [==============================] - 0s 100us/sample - loss: 14.1367 - mse: 14.1367\n",
      "Epoch 28/500\n",
      "506/506 [==============================] - 0s 62us/sample - loss: 13.6973 - mse: 13.6973\n",
      "Epoch 29/500\n",
      "506/506 [==============================] - 0s 85us/sample - loss: 13.4162 - mse: 13.4162\n",
      "Epoch 30/500\n",
      "506/506 [==============================] - 0s 81us/sample - loss: 13.3484 - mse: 13.3484\n",
      "Epoch 31/500\n",
      "506/506 [==============================] - 0s 81us/sample - loss: 13.5457 - mse: 13.5457\n",
      "Epoch 32/500\n",
      "506/506 [==============================] - 0s 80us/sample - loss: 13.0123 - mse: 13.0123\n",
      "Epoch 33/500\n",
      "506/506 [==============================] - 0s 69us/sample - loss: 13.0806 - mse: 13.0806\n",
      "Epoch 34/500\n",
      "506/506 [==============================] - 0s 78us/sample - loss: 13.0338 - mse: 13.0338\n",
      "Epoch 35/500\n",
      "506/506 [==============================] - 0s 88us/sample - loss: 12.9909 - mse: 12.9910\n",
      "Epoch 36/500\n",
      "506/506 [==============================] - 0s 87us/sample - loss: 12.8300 - mse: 12.8300\n",
      "Epoch 37/500\n",
      "506/506 [==============================] - 0s 85us/sample - loss: 12.3541 - mse: 12.3541\n",
      "Epoch 38/500\n",
      "506/506 [==============================] - 0s 87us/sample - loss: 12.6785 - mse: 12.6785\n",
      "Epoch 39/500\n",
      "506/506 [==============================] - 0s 90us/sample - loss: 13.1479 - mse: 13.1479\n",
      "Epoch 40/500\n",
      "506/506 [==============================] - 0s 84us/sample - loss: 12.8755 - mse: 12.8755\n",
      "Epoch 41/500\n",
      "506/506 [==============================] - 0s 81us/sample - loss: 12.5018 - mse: 12.5018\n",
      "Epoch 42/500\n",
      "506/506 [==============================] - 0s 98us/sample - loss: 12.1400 - mse: 12.1400\n",
      "Epoch 43/500\n",
      "506/506 [==============================] - 0s 75us/sample - loss: 12.2141 - mse: 12.2141\n",
      "Epoch 44/500\n",
      "506/506 [==============================] - 0s 82us/sample - loss: 12.3173 - mse: 12.3173\n",
      "Epoch 45/500\n",
      "506/506 [==============================] - 0s 71us/sample - loss: 12.0338 - mse: 12.0338\n",
      "Epoch 46/500\n",
      "506/506 [==============================] - 0s 73us/sample - loss: 11.5347 - mse: 11.5347\n",
      "Epoch 47/500\n",
      "506/506 [==============================] - 0s 87us/sample - loss: 12.2776 - mse: 12.2776\n",
      "Epoch 48/500\n",
      "506/506 [==============================] - 0s 79us/sample - loss: 11.7357 - mse: 11.7357\n",
      "Epoch 49/500\n",
      "506/506 [==============================] - 0s 84us/sample - loss: 11.8635 - mse: 11.8635\n",
      "Epoch 50/500\n",
      "506/506 [==============================] - 0s 82us/sample - loss: 11.1123 - mse: 11.1123\n",
      "Epoch 51/500\n",
      "506/506 [==============================] - 0s 86us/sample - loss: 11.9688 - mse: 11.9688\n",
      "Epoch 52/500\n",
      "506/506 [==============================] - 0s 90us/sample - loss: 11.5215 - mse: 11.5215\n",
      "Epoch 53/500\n",
      "506/506 [==============================] - 0s 95us/sample - loss: 11.2112 - mse: 11.2112\n",
      "Epoch 54/500\n",
      "506/506 [==============================] - 0s 88us/sample - loss: 11.0978 - mse: 11.0978\n",
      "Epoch 55/500\n",
      "506/506 [==============================] - 0s 86us/sample - loss: 11.5798 - mse: 11.5798\n",
      "Epoch 56/500\n",
      "506/506 [==============================] - 0s 76us/sample - loss: 10.9671 - mse: 10.9671\n",
      "Epoch 57/500\n",
      "506/506 [==============================] - 0s 85us/sample - loss: 11.2190 - mse: 11.2190\n",
      "Epoch 58/500\n",
      "506/506 [==============================] - 0s 79us/sample - loss: 10.8803 - mse: 10.8803\n",
      "Epoch 59/500\n",
      "506/506 [==============================] - 0s 90us/sample - loss: 10.6646 - mse: 10.6646\n",
      "Epoch 60/500\n",
      "506/506 [==============================] - 0s 84us/sample - loss: 10.6146 - mse: 10.6146\n",
      "Epoch 61/500\n",
      "506/506 [==============================] - 0s 76us/sample - loss: 10.3481 - mse: 10.3481\n",
      "Epoch 62/500\n",
      "506/506 [==============================] - 0s 87us/sample - loss: 10.4963 - mse: 10.4963\n",
      "Epoch 63/500\n",
      "506/506 [==============================] - 0s 82us/sample - loss: 10.3408 - mse: 10.3408\n",
      "Epoch 64/500\n",
      "506/506 [==============================] - 0s 90us/sample - loss: 10.3745 - mse: 10.3745\n",
      "Epoch 65/500\n",
      "506/506 [==============================] - 0s 76us/sample - loss: 10.0090 - mse: 10.0090\n",
      "Epoch 66/500\n",
      "506/506 [==============================] - 0s 91us/sample - loss: 10.5908 - mse: 10.5908\n",
      "Epoch 67/500\n",
      "506/506 [==============================] - 0s 66us/sample - loss: 9.8713 - mse: 9.8713\n",
      "Epoch 68/500\n",
      "506/506 [==============================] - 0s 101us/sample - loss: 10.0470 - mse: 10.0470\n",
      "Epoch 69/500\n",
      "506/506 [==============================] - 0s 87us/sample - loss: 10.3454 - mse: 10.3454\n",
      "Epoch 70/500\n",
      "506/506 [==============================] - 0s 73us/sample - loss: 10.1582 - mse: 10.1582\n",
      "Epoch 71/500\n",
      "506/506 [==============================] - 0s 89us/sample - loss: 9.8537 - mse: 9.8537\n",
      "Epoch 72/500\n",
      "506/506 [==============================] - 0s 73us/sample - loss: 10.3471 - mse: 10.3471\n",
      "Epoch 73/500\n",
      "506/506 [==============================] - 0s 79us/sample - loss: 9.5525 - mse: 9.5525\n",
      "Epoch 74/500\n",
      "506/506 [==============================] - 0s 71us/sample - loss: 10.2852 - mse: 10.2852\n",
      "Epoch 75/500\n",
      "506/506 [==============================] - 0s 80us/sample - loss: 9.5664 - mse: 9.5664\n",
      "Epoch 76/500\n",
      "506/506 [==============================] - 0s 65us/sample - loss: 9.4244 - mse: 9.4244\n",
      "Epoch 77/500\n",
      "506/506 [==============================] - 0s 75us/sample - loss: 9.3822 - mse: 9.3822\n",
      "Epoch 78/500\n",
      "506/506 [==============================] - 0s 79us/sample - loss: 9.7575 - mse: 9.7575\n",
      "Epoch 79/500\n",
      "506/506 [==============================] - 0s 91us/sample - loss: 9.7084 - mse: 9.7084\n",
      "Epoch 80/500\n",
      "506/506 [==============================] - 0s 78us/sample - loss: 9.7256 - mse: 9.7256\n",
      "Epoch 81/500\n"
     ]
    },
    {
     "name": "stdout",
     "output_type": "stream",
     "text": [
      "506/506 [==============================] - 0s 70us/sample - loss: 9.0575 - mse: 9.0575\n",
      "Epoch 82/500\n",
      "506/506 [==============================] - 0s 73us/sample - loss: 8.9798 - mse: 8.9798\n",
      "Epoch 83/500\n",
      "506/506 [==============================] - 0s 90us/sample - loss: 9.1923 - mse: 9.1923\n",
      "Epoch 84/500\n",
      "506/506 [==============================] - 0s 82us/sample - loss: 8.9513 - mse: 8.9513\n",
      "Epoch 85/500\n",
      "506/506 [==============================] - 0s 78us/sample - loss: 8.6968 - mse: 8.6968\n",
      "Epoch 86/500\n",
      "506/506 [==============================] - 0s 75us/sample - loss: 9.0778 - mse: 9.0778\n",
      "Epoch 87/500\n",
      "506/506 [==============================] - 0s 78us/sample - loss: 8.7809 - mse: 8.7809\n",
      "Epoch 88/500\n",
      "506/506 [==============================] - 0s 69us/sample - loss: 8.8813 - mse: 8.8813\n",
      "Epoch 89/500\n",
      "506/506 [==============================] - 0s 70us/sample - loss: 8.6517 - mse: 8.6517\n",
      "Epoch 90/500\n",
      "506/506 [==============================] - 0s 85us/sample - loss: 8.6436 - mse: 8.6436\n",
      "Epoch 91/500\n",
      "506/506 [==============================] - 0s 74us/sample - loss: 8.4366 - mse: 8.4366\n",
      "Epoch 92/500\n",
      "506/506 [==============================] - 0s 85us/sample - loss: 8.6063 - mse: 8.6063\n",
      "Epoch 93/500\n",
      "506/506 [==============================] - 0s 81us/sample - loss: 8.2371 - mse: 8.2371\n",
      "Epoch 94/500\n",
      "506/506 [==============================] - 0s 64us/sample - loss: 8.4386 - mse: 8.4386\n",
      "Epoch 95/500\n",
      "506/506 [==============================] - 0s 75us/sample - loss: 8.3117 - mse: 8.3117\n",
      "Epoch 96/500\n",
      "506/506 [==============================] - 0s 81us/sample - loss: 8.3372 - mse: 8.3372\n",
      "Epoch 97/500\n",
      "506/506 [==============================] - 0s 63us/sample - loss: 8.0871 - mse: 8.0871\n",
      "Epoch 98/500\n",
      "506/506 [==============================] - 0s 65us/sample - loss: 8.4086 - mse: 8.4086\n",
      "Epoch 99/500\n",
      "506/506 [==============================] - 0s 76us/sample - loss: 8.2035 - mse: 8.2035\n",
      "Epoch 100/500\n",
      "506/506 [==============================] - 0s 73us/sample - loss: 7.9825 - mse: 7.9825\n",
      "Epoch 101/500\n",
      "506/506 [==============================] - 0s 80us/sample - loss: 8.0279 - mse: 8.0279\n",
      "Epoch 102/500\n",
      "506/506 [==============================] - 0s 75us/sample - loss: 8.2934 - mse: 8.2934\n",
      "Epoch 103/500\n",
      "506/506 [==============================] - 0s 70us/sample - loss: 8.0832 - mse: 8.0832\n",
      "Epoch 104/500\n",
      "506/506 [==============================] - 0s 81us/sample - loss: 7.9383 - mse: 7.9383\n",
      "Epoch 105/500\n",
      "506/506 [==============================] - ETA: 0s - loss: 2.3616 - mse: 2.361 - 0s 80us/sample - loss: 7.8316 - mse: 7.8316\n",
      "Epoch 106/500\n",
      "506/506 [==============================] - 0s 65us/sample - loss: 7.7297 - mse: 7.7297\n",
      "Epoch 107/500\n",
      "506/506 [==============================] - 0s 71us/sample - loss: 7.8472 - mse: 7.8472\n",
      "Epoch 108/500\n",
      "506/506 [==============================] - 0s 72us/sample - loss: 7.8276 - mse: 7.8276\n",
      "Epoch 109/500\n",
      "506/506 [==============================] - 0s 77us/sample - loss: 7.6856 - mse: 7.6856\n",
      "Epoch 110/500\n",
      "506/506 [==============================] - 0s 73us/sample - loss: 7.6269 - mse: 7.6269\n",
      "Epoch 111/500\n",
      "506/506 [==============================] - 0s 72us/sample - loss: 7.6543 - mse: 7.6543\n",
      "Epoch 112/500\n",
      "506/506 [==============================] - 0s 69us/sample - loss: 7.5534 - mse: 7.5534\n",
      "Epoch 113/500\n",
      "506/506 [==============================] - 0s 80us/sample - loss: 7.8244 - mse: 7.8244\n",
      "Epoch 114/500\n",
      "506/506 [==============================] - 0s 77us/sample - loss: 7.6705 - mse: 7.6705\n",
      "Epoch 115/500\n",
      "506/506 [==============================] - 0s 72us/sample - loss: 7.2893 - mse: 7.2893\n",
      "Epoch 116/500\n",
      "506/506 [==============================] - 0s 77us/sample - loss: 7.1191 - mse: 7.1191\n",
      "Epoch 117/500\n",
      "506/506 [==============================] - 0s 71us/sample - loss: 7.3848 - mse: 7.3848\n",
      "Epoch 118/500\n",
      "506/506 [==============================] - 0s 78us/sample - loss: 7.2397 - mse: 7.2397\n",
      "Epoch 119/500\n",
      "506/506 [==============================] - 0s 72us/sample - loss: 7.1991 - mse: 7.1991\n",
      "Epoch 120/500\n",
      "506/506 [==============================] - 0s 71us/sample - loss: 7.3464 - mse: 7.3464\n",
      "Epoch 121/500\n",
      "506/506 [==============================] - 0s 65us/sample - loss: 7.2290 - mse: 7.2290\n",
      "Epoch 122/500\n",
      "506/506 [==============================] - 0s 62us/sample - loss: 7.0580 - mse: 7.0580\n",
      "Epoch 123/500\n",
      "506/506 [==============================] - 0s 76us/sample - loss: 7.2655 - mse: 7.2655\n",
      "Epoch 124/500\n",
      "506/506 [==============================] - 0s 74us/sample - loss: 7.2075 - mse: 7.2075\n",
      "Epoch 125/500\n",
      "506/506 [==============================] - 0s 75us/sample - loss: 7.2390 - mse: 7.2390\n",
      "Epoch 126/500\n",
      "506/506 [==============================] - 0s 79us/sample - loss: 6.9644 - mse: 6.9644\n",
      "Epoch 127/500\n",
      "506/506 [==============================] - 0s 70us/sample - loss: 7.1989 - mse: 7.1989\n",
      "Epoch 128/500\n",
      "506/506 [==============================] - 0s 80us/sample - loss: 7.1746 - mse: 7.1746\n",
      "Epoch 129/500\n",
      "506/506 [==============================] - 0s 74us/sample - loss: 6.7769 - mse: 6.7769\n",
      "Epoch 130/500\n",
      "506/506 [==============================] - 0s 70us/sample - loss: 6.9103 - mse: 6.9103\n",
      "Epoch 131/500\n",
      "506/506 [==============================] - 0s 79us/sample - loss: 6.7224 - mse: 6.7224\n",
      "Epoch 132/500\n",
      "506/506 [==============================] - 0s 53us/sample - loss: 6.8713 - mse: 6.8713\n",
      "Epoch 133/500\n",
      "506/506 [==============================] - 0s 74us/sample - loss: 6.7468 - mse: 6.7468\n",
      "Epoch 134/500\n",
      "506/506 [==============================] - 0s 72us/sample - loss: 6.6385 - mse: 6.6385\n",
      "Epoch 135/500\n",
      "506/506 [==============================] - 0s 73us/sample - loss: 6.8100 - mse: 6.8100\n",
      "Epoch 136/500\n",
      "506/506 [==============================] - 0s 73us/sample - loss: 6.8253 - mse: 6.8253\n",
      "Epoch 137/500\n",
      "506/506 [==============================] - 0s 63us/sample - loss: 6.7475 - mse: 6.7475\n",
      "Epoch 138/500\n",
      "506/506 [==============================] - 0s 68us/sample - loss: 6.6190 - mse: 6.6190\n",
      "Epoch 139/500\n",
      "506/506 [==============================] - 0s 74us/sample - loss: 6.6796 - mse: 6.6796\n",
      "Epoch 140/500\n",
      "506/506 [==============================] - 0s 69us/sample - loss: 6.6881 - mse: 6.6881\n",
      "Epoch 141/500\n",
      "506/506 [==============================] - 0s 76us/sample - loss: 6.5475 - mse: 6.5475\n",
      "Epoch 142/500\n",
      "506/506 [==============================] - 0s 75us/sample - loss: 6.6495 - mse: 6.6495\n",
      "Epoch 143/500\n",
      "506/506 [==============================] - 0s 69us/sample - loss: 6.4674 - mse: 6.4674\n",
      "Epoch 144/500\n",
      "506/506 [==============================] - 0s 59us/sample - loss: 6.5472 - mse: 6.5472\n",
      "Epoch 145/500\n",
      "506/506 [==============================] - 0s 70us/sample - loss: 6.5225 - mse: 6.5225\n",
      "Epoch 146/500\n",
      "506/506 [==============================] - 0s 71us/sample - loss: 6.5087 - mse: 6.5087\n",
      "Epoch 147/500\n",
      "506/506 [==============================] - 0s 71us/sample - loss: 6.3981 - mse: 6.3981\n",
      "Epoch 148/500\n",
      "506/506 [==============================] - 0s 59us/sample - loss: 6.2197 - mse: 6.2197\n",
      "Epoch 149/500\n",
      "506/506 [==============================] - 0s 80us/sample - loss: 6.2951 - mse: 6.2951\n",
      "Epoch 150/500\n",
      "506/506 [==============================] - 0s 64us/sample - loss: 6.3614 - mse: 6.3614\n",
      "Epoch 151/500\n",
      "506/506 [==============================] - 0s 69us/sample - loss: 6.1968 - mse: 6.1968\n",
      "Epoch 152/500\n",
      "506/506 [==============================] - 0s 76us/sample - loss: 6.2891 - mse: 6.2891\n",
      "Epoch 153/500\n",
      "506/506 [==============================] - 0s 71us/sample - loss: 6.3306 - mse: 6.3306\n",
      "Epoch 154/500\n",
      "506/506 [==============================] - 0s 67us/sample - loss: 6.3664 - mse: 6.3664\n",
      "Epoch 155/500\n",
      "506/506 [==============================] - 0s 73us/sample - loss: 6.2811 - mse: 6.2811\n",
      "Epoch 156/500\n",
      "506/506 [==============================] - 0s 66us/sample - loss: 6.0677 - mse: 6.0677\n",
      "Epoch 157/500\n",
      "506/506 [==============================] - 0s 72us/sample - loss: 6.1260 - mse: 6.1260\n",
      "Epoch 158/500\n",
      "506/506 [==============================] - 0s 69us/sample - loss: 6.0416 - mse: 6.0416\n",
      "Epoch 159/500\n",
      "506/506 [==============================] - 0s 61us/sample - loss: 6.0947 - mse: 6.0947\n",
      "Epoch 160/500\n",
      "506/506 [==============================] - 0s 65us/sample - loss: 6.0389 - mse: 6.0389\n",
      "Epoch 161/500\n",
      "506/506 [==============================] - 0s 71us/sample - loss: 6.0333 - mse: 6.0333\n",
      "Epoch 162/500\n"
     ]
    },
    {
     "name": "stdout",
     "output_type": "stream",
     "text": [
      "506/506 [==============================] - 0s 75us/sample - loss: 6.1333 - mse: 6.1333\n",
      "Epoch 163/500\n",
      "506/506 [==============================] - 0s 78us/sample - loss: 6.1828 - mse: 6.1828\n",
      "Epoch 164/500\n",
      "506/506 [==============================] - 0s 64us/sample - loss: 6.0531 - mse: 6.0531\n",
      "Epoch 165/500\n",
      "506/506 [==============================] - 0s 69us/sample - loss: 6.0090 - mse: 6.0090\n",
      "Epoch 166/500\n",
      "506/506 [==============================] - 0s 69us/sample - loss: 5.7775 - mse: 5.7775\n",
      "Epoch 167/500\n",
      "506/506 [==============================] - 0s 68us/sample - loss: 5.8726 - mse: 5.8726\n",
      "Epoch 168/500\n",
      "506/506 [==============================] - 0s 74us/sample - loss: 5.7647 - mse: 5.7647\n",
      "Epoch 169/500\n",
      "506/506 [==============================] - 0s 73us/sample - loss: 5.7489 - mse: 5.7489\n",
      "Epoch 170/500\n",
      "506/506 [==============================] - 0s 87us/sample - loss: 5.7021 - mse: 5.7021\n",
      "Epoch 171/500\n",
      "506/506 [==============================] - 0s 66us/sample - loss: 6.0277 - mse: 6.0277\n",
      "Epoch 172/500\n",
      "506/506 [==============================] - 0s 64us/sample - loss: 5.8795 - mse: 5.8795\n",
      "Epoch 173/500\n",
      "506/506 [==============================] - 0s 71us/sample - loss: 5.6638 - mse: 5.6638\n",
      "Epoch 174/500\n",
      "506/506 [==============================] - 0s 83us/sample - loss: 6.2717 - mse: 6.2717\n",
      "Epoch 175/500\n",
      "506/506 [==============================] - 0s 73us/sample - loss: 5.8272 - mse: 5.8272\n",
      "Epoch 176/500\n",
      "506/506 [==============================] - 0s 65us/sample - loss: 5.6622 - mse: 5.6622\n",
      "Epoch 177/500\n",
      "506/506 [==============================] - 0s 72us/sample - loss: 5.6919 - mse: 5.6919\n",
      "Epoch 178/500\n",
      "506/506 [==============================] - 0s 71us/sample - loss: 6.0770 - mse: 6.0770\n",
      "Epoch 179/500\n",
      "506/506 [==============================] - 0s 69us/sample - loss: 5.7647 - mse: 5.7647\n",
      "Epoch 180/500\n",
      "506/506 [==============================] - 0s 82us/sample - loss: 5.5667 - mse: 5.5667\n",
      "Epoch 181/500\n",
      "506/506 [==============================] - 0s 71us/sample - loss: 5.6489 - mse: 5.6489\n",
      "Epoch 182/500\n",
      "506/506 [==============================] - 0s 70us/sample - loss: 5.4527 - mse: 5.4527\n",
      "Epoch 183/500\n",
      "506/506 [==============================] - 0s 68us/sample - loss: 5.6726 - mse: 5.6726\n",
      "Epoch 184/500\n",
      "506/506 [==============================] - 0s 67us/sample - loss: 5.7444 - mse: 5.7444\n",
      "Epoch 185/500\n",
      "506/506 [==============================] - 0s 64us/sample - loss: 5.5999 - mse: 5.5999\n",
      "Epoch 186/500\n",
      "506/506 [==============================] - 0s 74us/sample - loss: 5.4166 - mse: 5.4166\n",
      "Epoch 187/500\n",
      "506/506 [==============================] - 0s 67us/sample - loss: 5.6492 - mse: 5.6492\n",
      "Epoch 188/500\n",
      "506/506 [==============================] - 0s 72us/sample - loss: 5.3204 - mse: 5.3204\n",
      "Epoch 189/500\n",
      "506/506 [==============================] - 0s 72us/sample - loss: 5.8698 - mse: 5.8698\n",
      "Epoch 190/500\n",
      "506/506 [==============================] - 0s 73us/sample - loss: 5.8130 - mse: 5.8130\n",
      "Epoch 191/500\n",
      "506/506 [==============================] - 0s 71us/sample - loss: 5.4883 - mse: 5.4883\n",
      "Epoch 192/500\n",
      "506/506 [==============================] - 0s 74us/sample - loss: 5.8185 - mse: 5.8185\n",
      "Epoch 193/500\n",
      "506/506 [==============================] - 0s 65us/sample - loss: 5.5726 - mse: 5.5726\n",
      "Epoch 194/500\n",
      "506/506 [==============================] - 0s 80us/sample - loss: 5.4459 - mse: 5.4459\n",
      "Epoch 195/500\n",
      "506/506 [==============================] - 0s 73us/sample - loss: 5.5746 - mse: 5.5746\n",
      "Epoch 196/500\n",
      "506/506 [==============================] - 0s 74us/sample - loss: 5.4446 - mse: 5.4446\n",
      "Epoch 197/500\n",
      "506/506 [==============================] - 0s 63us/sample - loss: 5.3621 - mse: 5.3621\n",
      "Epoch 198/500\n",
      "506/506 [==============================] - 0s 51us/sample - loss: 5.3465 - mse: 5.3465\n",
      "Epoch 199/500\n",
      "506/506 [==============================] - 0s 76us/sample - loss: 5.4186 - mse: 5.4186\n",
      "Epoch 200/500\n",
      "506/506 [==============================] - 0s 73us/sample - loss: 5.3925 - mse: 5.3925\n",
      "Epoch 201/500\n",
      "506/506 [==============================] - 0s 75us/sample - loss: 5.3447 - mse: 5.3447\n",
      "Epoch 202/500\n",
      "506/506 [==============================] - 0s 56us/sample - loss: 5.4478 - mse: 5.4478\n",
      "Epoch 203/500\n",
      "506/506 [==============================] - 0s 77us/sample - loss: 5.3110 - mse: 5.3110\n",
      "Epoch 204/500\n",
      "506/506 [==============================] - 0s 65us/sample - loss: 5.5167 - mse: 5.5167\n",
      "Epoch 205/500\n",
      "506/506 [==============================] - 0s 80us/sample - loss: 5.3168 - mse: 5.3168\n",
      "Epoch 206/500\n",
      "506/506 [==============================] - 0s 68us/sample - loss: 5.2771 - mse: 5.2771\n",
      "Epoch 207/500\n",
      "506/506 [==============================] - 0s 70us/sample - loss: 5.3916 - mse: 5.3916\n",
      "Epoch 208/500\n",
      "506/506 [==============================] - 0s 74us/sample - loss: 5.2076 - mse: 5.2076\n",
      "Epoch 209/500\n",
      "506/506 [==============================] - 0s 70us/sample - loss: 5.3477 - mse: 5.3477\n",
      "Epoch 210/500\n",
      "506/506 [==============================] - 0s 60us/sample - loss: 5.0923 - mse: 5.0923\n",
      "Epoch 211/500\n",
      "506/506 [==============================] - 0s 82us/sample - loss: 5.0021 - mse: 5.0021\n",
      "Epoch 212/500\n",
      "506/506 [==============================] - 0s 70us/sample - loss: 5.2681 - mse: 5.2681\n",
      "Epoch 213/500\n",
      "506/506 [==============================] - 0s 74us/sample - loss: 5.0575 - mse: 5.0575\n",
      "Epoch 214/500\n",
      "506/506 [==============================] - 0s 73us/sample - loss: 5.6374 - mse: 5.6374\n",
      "Epoch 215/500\n",
      "506/506 [==============================] - 0s 68us/sample - loss: 5.6087 - mse: 5.6087\n",
      "Epoch 216/500\n",
      "506/506 [==============================] - 0s 67us/sample - loss: 5.2195 - mse: 5.2195\n",
      "Epoch 217/500\n",
      "506/506 [==============================] - 0s 70us/sample - loss: 5.0174 - mse: 5.0174\n",
      "Epoch 218/500\n",
      "506/506 [==============================] - 0s 76us/sample - loss: 5.0907 - mse: 5.0907\n",
      "Epoch 219/500\n",
      "506/506 [==============================] - 0s 76us/sample - loss: 4.9821 - mse: 4.9821\n",
      "Epoch 220/500\n",
      "506/506 [==============================] - 0s 72us/sample - loss: 4.9879 - mse: 4.9879\n",
      "Epoch 221/500\n",
      "506/506 [==============================] - 0s 79us/sample - loss: 5.0999 - mse: 5.0999\n",
      "Epoch 222/500\n",
      "506/506 [==============================] - 0s 75us/sample - loss: 5.0249 - mse: 5.0249\n",
      "Epoch 223/500\n",
      "506/506 [==============================] - 0s 87us/sample - loss: 5.9986 - mse: 5.9986\n",
      "Epoch 224/500\n",
      "506/506 [==============================] - 0s 68us/sample - loss: 5.1765 - mse: 5.1765\n",
      "Epoch 225/500\n",
      "506/506 [==============================] - 0s 67us/sample - loss: 5.1580 - mse: 5.1580\n",
      "Epoch 226/500\n",
      "506/506 [==============================] - 0s 77us/sample - loss: 4.8279 - mse: 4.8279\n",
      "Epoch 227/500\n",
      "506/506 [==============================] - 0s 65us/sample - loss: 4.8722 - mse: 4.8722\n",
      "Epoch 228/500\n",
      "506/506 [==============================] - 0s 79us/sample - loss: 5.0280 - mse: 5.0280\n",
      "Epoch 229/500\n",
      "506/506 [==============================] - 0s 72us/sample - loss: 4.9475 - mse: 4.9475\n",
      "Epoch 230/500\n",
      "506/506 [==============================] - 0s 70us/sample - loss: 4.8928 - mse: 4.8928\n",
      "Epoch 231/500\n",
      "506/506 [==============================] - 0s 83us/sample - loss: 5.0068 - mse: 5.0068\n",
      "Epoch 232/500\n",
      "506/506 [==============================] - 0s 74us/sample - loss: 4.8658 - mse: 4.8658\n",
      "Epoch 233/500\n",
      "506/506 [==============================] - 0s 77us/sample - loss: 4.9038 - mse: 4.9038\n",
      "Epoch 234/500\n",
      "506/506 [==============================] - 0s 79us/sample - loss: 4.8696 - mse: 4.8696\n",
      "Epoch 235/500\n",
      "506/506 [==============================] - 0s 79us/sample - loss: 4.8297 - mse: 4.8297\n",
      "Epoch 236/500\n",
      "506/506 [==============================] - 0s 83us/sample - loss: 4.8508 - mse: 4.8508\n",
      "Epoch 237/500\n",
      "506/506 [==============================] - 0s 69us/sample - loss: 4.7898 - mse: 4.7898\n",
      "Epoch 238/500\n",
      "506/506 [==============================] - ETA: 0s - loss: 3.6914 - mse: 3.691 - 0s 81us/sample - loss: 4.9408 - mse: 4.9408\n",
      "Epoch 239/500\n",
      "506/506 [==============================] - 0s 76us/sample - loss: 4.7312 - mse: 4.7312\n",
      "Epoch 240/500\n",
      "506/506 [==============================] - 0s 78us/sample - loss: 4.7981 - mse: 4.7981\n",
      "Epoch 241/500\n",
      "506/506 [==============================] - 0s 87us/sample - loss: 4.8880 - mse: 4.8880\n",
      "Epoch 242/500\n"
     ]
    },
    {
     "name": "stdout",
     "output_type": "stream",
     "text": [
      "506/506 [==============================] - 0s 74us/sample - loss: 4.7668 - mse: 4.7668\n",
      "Epoch 243/500\n",
      "506/506 [==============================] - 0s 78us/sample - loss: 4.8355 - mse: 4.8355\n",
      "Epoch 244/500\n",
      "506/506 [==============================] - 0s 72us/sample - loss: 4.8359 - mse: 4.8359\n",
      "Epoch 245/500\n",
      "506/506 [==============================] - 0s 74us/sample - loss: 4.7673 - mse: 4.7673\n",
      "Epoch 246/500\n",
      "506/506 [==============================] - 0s 77us/sample - loss: 4.6594 - mse: 4.6594\n",
      "Epoch 247/500\n",
      "506/506 [==============================] - 0s 75us/sample - loss: 4.8802 - mse: 4.8802\n",
      "Epoch 248/500\n",
      "506/506 [==============================] - 0s 79us/sample - loss: 4.6533 - mse: 4.6533\n",
      "Epoch 249/500\n",
      "506/506 [==============================] - 0s 76us/sample - loss: 4.8667 - mse: 4.8667\n",
      "Epoch 250/500\n",
      "506/506 [==============================] - 0s 70us/sample - loss: 4.7419 - mse: 4.7419\n",
      "Epoch 251/500\n",
      "506/506 [==============================] - 0s 76us/sample - loss: 4.5274 - mse: 4.5274\n",
      "Epoch 252/500\n",
      "506/506 [==============================] - 0s 66us/sample - loss: 4.8872 - mse: 4.8872\n",
      "Epoch 253/500\n",
      "506/506 [==============================] - 0s 65us/sample - loss: 4.5446 - mse: 4.5446\n",
      "Epoch 254/500\n",
      "506/506 [==============================] - 0s 76us/sample - loss: 4.5577 - mse: 4.5577\n",
      "Epoch 255/500\n",
      "506/506 [==============================] - 0s 75us/sample - loss: 4.7052 - mse: 4.7052\n",
      "Epoch 256/500\n",
      "506/506 [==============================] - 0s 102us/sample - loss: 4.6252 - mse: 4.6252\n",
      "Epoch 257/500\n",
      "506/506 [==============================] - 0s 75us/sample - loss: 4.7299 - mse: 4.7299\n",
      "Epoch 258/500\n",
      "506/506 [==============================] - 0s 71us/sample - loss: 4.5998 - mse: 4.5998\n",
      "Epoch 259/500\n",
      "506/506 [==============================] - 0s 58us/sample - loss: 4.6151 - mse: 4.6151\n",
      "Epoch 260/500\n",
      "506/506 [==============================] - 0s 64us/sample - loss: 4.6028 - mse: 4.6028\n",
      "Epoch 261/500\n",
      "506/506 [==============================] - 0s 66us/sample - loss: 4.5689 - mse: 4.5689\n",
      "Epoch 262/500\n",
      "506/506 [==============================] - 0s 59us/sample - loss: 4.4678 - mse: 4.4678\n",
      "Epoch 263/500\n",
      "506/506 [==============================] - 0s 53us/sample - loss: 4.6618 - mse: 4.6618\n",
      "Epoch 264/500\n",
      "506/506 [==============================] - 0s 76us/sample - loss: 4.5714 - mse: 4.5714\n",
      "Epoch 265/500\n",
      "506/506 [==============================] - 0s 76us/sample - loss: 4.4726 - mse: 4.4726\n",
      "Epoch 266/500\n",
      "506/506 [==============================] - 0s 69us/sample - loss: 4.4810 - mse: 4.4810\n",
      "Epoch 267/500\n",
      "506/506 [==============================] - 0s 65us/sample - loss: 4.6450 - mse: 4.6450\n",
      "Epoch 268/500\n",
      "506/506 [==============================] - 0s 83us/sample - loss: 4.5866 - mse: 4.5866\n",
      "Epoch 269/500\n",
      "506/506 [==============================] - 0s 73us/sample - loss: 4.4832 - mse: 4.4832\n",
      "Epoch 270/500\n",
      "506/506 [==============================] - 0s 71us/sample - loss: 4.3752 - mse: 4.3752\n",
      "Epoch 271/500\n",
      "506/506 [==============================] - 0s 56us/sample - loss: 4.5939 - mse: 4.5939\n",
      "Epoch 272/500\n",
      "506/506 [==============================] - 0s 69us/sample - loss: 4.5154 - mse: 4.5154\n",
      "Epoch 273/500\n",
      "506/506 [==============================] - 0s 74us/sample - loss: 4.5643 - mse: 4.5643\n",
      "Epoch 274/500\n",
      "506/506 [==============================] - 0s 60us/sample - loss: 4.5584 - mse: 4.5584\n",
      "Epoch 275/500\n",
      "506/506 [==============================] - 0s 73us/sample - loss: 4.4321 - mse: 4.4321\n",
      "Epoch 276/500\n",
      "506/506 [==============================] - 0s 102us/sample - loss: 4.2707 - mse: 4.2707\n",
      "Epoch 277/500\n",
      "506/506 [==============================] - 0s 76us/sample - loss: 4.4047 - mse: 4.4047\n",
      "Epoch 278/500\n",
      "506/506 [==============================] - 0s 58us/sample - loss: 4.3048 - mse: 4.3048\n",
      "Epoch 279/500\n",
      "506/506 [==============================] - 0s 84us/sample - loss: 4.7332 - mse: 4.7332\n",
      "Epoch 280/500\n",
      "506/506 [==============================] - 0s 78us/sample - loss: 4.3288 - mse: 4.3288\n",
      "Epoch 281/500\n",
      "506/506 [==============================] - 0s 95us/sample - loss: 4.4372 - mse: 4.4372\n",
      "Epoch 282/500\n",
      "506/506 [==============================] - 0s 96us/sample - loss: 4.2211 - mse: 4.2211\n",
      "Epoch 283/500\n",
      "506/506 [==============================] - 0s 96us/sample - loss: 4.6607 - mse: 4.6607\n",
      "Epoch 284/500\n",
      "506/506 [==============================] - 0s 77us/sample - loss: 4.5911 - mse: 4.5911\n",
      "Epoch 285/500\n",
      "506/506 [==============================] - 0s 87us/sample - loss: 4.4991 - mse: 4.4991\n",
      "Epoch 286/500\n",
      "506/506 [==============================] - 0s 69us/sample - loss: 4.5440 - mse: 4.5440\n",
      "Epoch 287/500\n",
      "506/506 [==============================] - 0s 74us/sample - loss: 4.2251 - mse: 4.2251\n",
      "Epoch 288/500\n",
      "506/506 [==============================] - 0s 72us/sample - loss: 4.1679 - mse: 4.1679\n",
      "Epoch 289/500\n",
      "506/506 [==============================] - 0s 64us/sample - loss: 4.1232 - mse: 4.1232\n",
      "Epoch 290/500\n",
      "506/506 [==============================] - 0s 84us/sample - loss: 4.1905 - mse: 4.1905\n",
      "Epoch 291/500\n",
      "506/506 [==============================] - 0s 58us/sample - loss: 4.0738 - mse: 4.0738\n",
      "Epoch 292/500\n",
      "506/506 [==============================] - 0s 67us/sample - loss: 4.1923 - mse: 4.1923\n",
      "Epoch 293/500\n",
      "506/506 [==============================] - 0s 83us/sample - loss: 4.2030 - mse: 4.2030\n",
      "Epoch 294/500\n",
      "506/506 [==============================] - 0s 87us/sample - loss: 4.2094 - mse: 4.2094\n",
      "Epoch 295/500\n",
      "506/506 [==============================] - 0s 63us/sample - loss: 4.1920 - mse: 4.1920\n",
      "Epoch 296/500\n",
      "506/506 [==============================] - 0s 69us/sample - loss: 4.4264 - mse: 4.4264\n",
      "Epoch 297/500\n",
      "506/506 [==============================] - 0s 74us/sample - loss: 4.1293 - mse: 4.1293\n",
      "Epoch 298/500\n",
      "506/506 [==============================] - 0s 96us/sample - loss: 4.2055 - mse: 4.2055\n",
      "Epoch 299/500\n",
      "506/506 [==============================] - 0s 71us/sample - loss: 4.0760 - mse: 4.0760\n",
      "Epoch 300/500\n",
      "506/506 [==============================] - 0s 59us/sample - loss: 4.0532 - mse: 4.0532\n",
      "Epoch 301/500\n",
      "506/506 [==============================] - 0s 92us/sample - loss: 4.1247 - mse: 4.1247\n",
      "Epoch 302/500\n",
      "506/506 [==============================] - 0s 70us/sample - loss: 4.2505 - mse: 4.2505\n",
      "Epoch 303/500\n",
      "506/506 [==============================] - 0s 62us/sample - loss: 4.2888 - mse: 4.2888\n",
      "Epoch 304/500\n",
      "506/506 [==============================] - 0s 56us/sample - loss: 4.4240 - mse: 4.4240\n",
      "Epoch 305/500\n",
      "506/506 [==============================] - 0s 73us/sample - loss: 4.0950 - mse: 4.0950\n",
      "Epoch 306/500\n",
      "506/506 [==============================] - 0s 72us/sample - loss: 4.0847 - mse: 4.0847\n",
      "Epoch 307/500\n",
      "506/506 [==============================] - 0s 104us/sample - loss: 4.0621 - mse: 4.0621\n",
      "Epoch 308/500\n",
      "506/506 [==============================] - 0s 68us/sample - loss: 4.0738 - mse: 4.0738\n",
      "Epoch 309/500\n",
      "506/506 [==============================] - 0s 76us/sample - loss: 4.1240 - mse: 4.1240\n",
      "Epoch 310/500\n",
      "506/506 [==============================] - 0s 74us/sample - loss: 4.0297 - mse: 4.0297\n",
      "Epoch 311/500\n",
      "506/506 [==============================] - 0s 73us/sample - loss: 4.0836 - mse: 4.0836\n",
      "Epoch 312/500\n",
      "506/506 [==============================] - 0s 83us/sample - loss: 3.9264 - mse: 3.9264\n",
      "Epoch 313/500\n",
      "506/506 [==============================] - 0s 68us/sample - loss: 4.2414 - mse: 4.2414\n",
      "Epoch 314/500\n",
      "506/506 [==============================] - 0s 51us/sample - loss: 4.1326 - mse: 4.1326\n",
      "Epoch 315/500\n",
      "506/506 [==============================] - 0s 69us/sample - loss: 4.0444 - mse: 4.0444\n",
      "Epoch 316/500\n",
      "506/506 [==============================] - 0s 73us/sample - loss: 4.1124 - mse: 4.1124\n",
      "Epoch 317/500\n",
      "506/506 [==============================] - 0s 97us/sample - loss: 4.0373 - mse: 4.0373\n",
      "Epoch 318/500\n",
      "506/506 [==============================] - 0s 90us/sample - loss: 4.1060 - mse: 4.1060\n",
      "Epoch 319/500\n",
      "506/506 [==============================] - 0s 85us/sample - loss: 3.8598 - mse: 3.8598\n",
      "Epoch 320/500\n",
      "506/506 [==============================] - 0s 82us/sample - loss: 3.8932 - mse: 3.8932\n",
      "Epoch 321/500\n",
      "506/506 [==============================] - 0s 96us/sample - loss: 3.9921 - mse: 3.9921\n",
      "Epoch 322/500\n",
      "506/506 [==============================] - 0s 61us/sample - loss: 3.8391 - mse: 3.8391\n",
      "Epoch 323/500\n"
     ]
    },
    {
     "name": "stdout",
     "output_type": "stream",
     "text": [
      "506/506 [==============================] - 0s 65us/sample - loss: 3.9747 - mse: 3.9747\n",
      "Epoch 324/500\n",
      "506/506 [==============================] - ETA: 0s - loss: 2.5177 - mse: 2.517 - 0s 86us/sample - loss: 3.8961 - mse: 3.8961\n",
      "Epoch 325/500\n",
      "506/506 [==============================] - 0s 62us/sample - loss: 3.8401 - mse: 3.8401\n",
      "Epoch 326/500\n",
      "506/506 [==============================] - 0s 69us/sample - loss: 3.9792 - mse: 3.9792\n",
      "Epoch 327/500\n",
      "506/506 [==============================] - 0s 68us/sample - loss: 3.9426 - mse: 3.9426\n",
      "Epoch 328/500\n",
      "506/506 [==============================] - 0s 68us/sample - loss: 3.8892 - mse: 3.8892\n",
      "Epoch 329/500\n",
      "506/506 [==============================] - 0s 76us/sample - loss: 3.9196 - mse: 3.9196\n",
      "Epoch 330/500\n",
      "506/506 [==============================] - 0s 70us/sample - loss: 3.8151 - mse: 3.8151\n",
      "Epoch 331/500\n",
      "506/506 [==============================] - 0s 68us/sample - loss: 3.8785 - mse: 3.8785\n",
      "Epoch 332/500\n",
      "506/506 [==============================] - 0s 79us/sample - loss: 3.6932 - mse: 3.6932\n",
      "Epoch 333/500\n",
      "506/506 [==============================] - 0s 97us/sample - loss: 3.7163 - mse: 3.7163\n",
      "Epoch 334/500\n",
      "506/506 [==============================] - 0s 79us/sample - loss: 3.7343 - mse: 3.7343\n",
      "Epoch 335/500\n",
      "506/506 [==============================] - 0s 89us/sample - loss: 4.0402 - mse: 4.0402\n",
      "Epoch 336/500\n",
      "506/506 [==============================] - 0s 99us/sample - loss: 3.8484 - mse: 3.8484\n",
      "Epoch 337/500\n",
      "506/506 [==============================] - 0s 90us/sample - loss: 3.8698 - mse: 3.8698\n",
      "Epoch 338/500\n",
      "506/506 [==============================] - 0s 89us/sample - loss: 3.7383 - mse: 3.7383\n",
      "Epoch 339/500\n",
      "506/506 [==============================] - 0s 82us/sample - loss: 3.6261 - mse: 3.6261\n",
      "Epoch 340/500\n",
      "506/506 [==============================] - 0s 61us/sample - loss: 3.7667 - mse: 3.7667\n",
      "Epoch 341/500\n",
      "506/506 [==============================] - 0s 61us/sample - loss: 3.6424 - mse: 3.6424\n",
      "Epoch 342/500\n",
      "506/506 [==============================] - 0s 72us/sample - loss: 3.8226 - mse: 3.8226\n",
      "Epoch 343/500\n",
      "506/506 [==============================] - 0s 66us/sample - loss: 3.6494 - mse: 3.6494\n",
      "Epoch 344/500\n",
      "506/506 [==============================] - 0s 79us/sample - loss: 3.9095 - mse: 3.9095\n",
      "Epoch 345/500\n",
      "506/506 [==============================] - 0s 92us/sample - loss: 3.5650 - mse: 3.5650\n",
      "Epoch 346/500\n",
      "506/506 [==============================] - 0s 68us/sample - loss: 3.6463 - mse: 3.6463\n",
      "Epoch 347/500\n",
      "506/506 [==============================] - 0s 51us/sample - loss: 3.7602 - mse: 3.7602\n",
      "Epoch 348/500\n",
      "506/506 [==============================] - 0s 72us/sample - loss: 3.6836 - mse: 3.6836\n",
      "Epoch 349/500\n",
      "506/506 [==============================] - 0s 71us/sample - loss: 3.6877 - mse: 3.6877\n",
      "Epoch 350/500\n",
      "506/506 [==============================] - 0s 67us/sample - loss: 3.7692 - mse: 3.7692\n",
      "Epoch 351/500\n",
      "506/506 [==============================] - 0s 58us/sample - loss: 3.6536 - mse: 3.6536\n",
      "Epoch 352/500\n",
      "506/506 [==============================] - 0s 76us/sample - loss: 3.5426 - mse: 3.5426\n",
      "Epoch 353/500\n",
      "506/506 [==============================] - 0s 93us/sample - loss: 3.5331 - mse: 3.5331\n",
      "Epoch 354/500\n",
      "506/506 [==============================] - 0s 67us/sample - loss: 3.6508 - mse: 3.6508\n",
      "Epoch 355/500\n",
      "506/506 [==============================] - 0s 70us/sample - loss: 3.7073 - mse: 3.7073\n",
      "Epoch 356/500\n",
      "506/506 [==============================] - 0s 63us/sample - loss: 3.7859 - mse: 3.7859\n",
      "Epoch 357/500\n",
      "506/506 [==============================] - 0s 76us/sample - loss: 3.6684 - mse: 3.6684\n",
      "Epoch 358/500\n",
      "506/506 [==============================] - 0s 65us/sample - loss: 3.7987 - mse: 3.7987\n",
      "Epoch 359/500\n",
      "506/506 [==============================] - 0s 64us/sample - loss: 3.5432 - mse: 3.5432\n",
      "Epoch 360/500\n",
      "506/506 [==============================] - 0s 79us/sample - loss: 3.4590 - mse: 3.4590\n",
      "Epoch 361/500\n",
      "506/506 [==============================] - 0s 68us/sample - loss: 3.4525 - mse: 3.4525\n",
      "Epoch 362/500\n",
      "506/506 [==============================] - 0s 70us/sample - loss: 3.5536 - mse: 3.5536\n",
      "Epoch 363/500\n",
      "506/506 [==============================] - 0s 72us/sample - loss: 3.4309 - mse: 3.4309\n",
      "Epoch 364/500\n",
      "506/506 [==============================] - 0s 68us/sample - loss: 3.4849 - mse: 3.4849\n",
      "Epoch 365/500\n",
      "506/506 [==============================] - 0s 66us/sample - loss: 3.5051 - mse: 3.5051\n",
      "Epoch 366/500\n",
      "506/506 [==============================] - 0s 67us/sample - loss: 3.4504 - mse: 3.4504\n",
      "Epoch 367/500\n",
      "506/506 [==============================] - 0s 76us/sample - loss: 3.5337 - mse: 3.5337\n",
      "Epoch 368/500\n",
      "506/506 [==============================] - 0s 57us/sample - loss: 3.4515 - mse: 3.4515\n",
      "Epoch 369/500\n",
      "506/506 [==============================] - 0s 62us/sample - loss: 3.4440 - mse: 3.4440\n",
      "Epoch 370/500\n",
      "506/506 [==============================] - 0s 71us/sample - loss: 3.5461 - mse: 3.5461\n",
      "Epoch 371/500\n",
      "506/506 [==============================] - 0s 71us/sample - loss: 3.6728 - mse: 3.6728\n",
      "Epoch 372/500\n",
      "506/506 [==============================] - 0s 58us/sample - loss: 3.5291 - mse: 3.5291\n",
      "Epoch 373/500\n",
      "506/506 [==============================] - 0s 81us/sample - loss: 3.5442 - mse: 3.5442\n",
      "Epoch 374/500\n",
      "506/506 [==============================] - 0s 78us/sample - loss: 3.5810 - mse: 3.5810\n",
      "Epoch 375/500\n",
      "506/506 [==============================] - 0s 58us/sample - loss: 3.4216 - mse: 3.4216\n",
      "Epoch 376/500\n",
      "506/506 [==============================] - 0s 71us/sample - loss: 3.4859 - mse: 3.4859\n",
      "Epoch 377/500\n",
      "506/506 [==============================] - 0s 72us/sample - loss: 3.5403 - mse: 3.5403\n",
      "Epoch 378/500\n",
      "506/506 [==============================] - 0s 69us/sample - loss: 3.5427 - mse: 3.5427\n",
      "Epoch 379/500\n",
      "506/506 [==============================] - 0s 95us/sample - loss: 3.4515 - mse: 3.4515\n",
      "Epoch 380/500\n",
      "506/506 [==============================] - 0s 67us/sample - loss: 3.3449 - mse: 3.3449\n",
      "Epoch 381/500\n",
      "506/506 [==============================] - 0s 82us/sample - loss: 3.4572 - mse: 3.4572\n",
      "Epoch 382/500\n",
      "506/506 [==============================] - 0s 69us/sample - loss: 3.5712 - mse: 3.5712\n",
      "Epoch 383/500\n",
      "506/506 [==============================] - 0s 77us/sample - loss: 3.3503 - mse: 3.3503\n",
      "Epoch 384/500\n",
      "506/506 [==============================] - 0s 63us/sample - loss: 3.4865 - mse: 3.4865\n",
      "Epoch 385/500\n",
      "506/506 [==============================] - 0s 70us/sample - loss: 3.3181 - mse: 3.3181\n",
      "Epoch 386/500\n",
      "506/506 [==============================] - 0s 67us/sample - loss: 3.5746 - mse: 3.5746\n",
      "Epoch 387/500\n",
      "506/506 [==============================] - 0s 69us/sample - loss: 3.6593 - mse: 3.6593\n",
      "Epoch 388/500\n",
      "506/506 [==============================] - 0s 64us/sample - loss: 3.4569 - mse: 3.4569\n",
      "Epoch 389/500\n",
      "506/506 [==============================] - 0s 69us/sample - loss: 3.5738 - mse: 3.5738\n",
      "Epoch 390/500\n",
      "506/506 [==============================] - 0s 72us/sample - loss: 3.3731 - mse: 3.3731\n",
      "Epoch 391/500\n",
      "506/506 [==============================] - 0s 70us/sample - loss: 3.2521 - mse: 3.2521\n",
      "Epoch 392/500\n",
      "506/506 [==============================] - 0s 62us/sample - loss: 3.4660 - mse: 3.4660\n",
      "Epoch 393/500\n",
      "506/506 [==============================] - 0s 68us/sample - loss: 3.4850 - mse: 3.4850\n",
      "Epoch 394/500\n",
      "506/506 [==============================] - 0s 67us/sample - loss: 3.3092 - mse: 3.3092\n",
      "Epoch 395/500\n",
      "506/506 [==============================] - 0s 76us/sample - loss: 3.3690 - mse: 3.3690\n",
      "Epoch 396/500\n",
      "506/506 [==============================] - 0s 74us/sample - loss: 3.2899 - mse: 3.2899\n",
      "Epoch 397/500\n",
      "506/506 [==============================] - 0s 58us/sample - loss: 3.2824 - mse: 3.2824\n",
      "Epoch 398/500\n",
      "506/506 [==============================] - 0s 64us/sample - loss: 3.3225 - mse: 3.3225\n",
      "Epoch 399/500\n",
      "506/506 [==============================] - 0s 69us/sample - loss: 3.2151 - mse: 3.2151\n",
      "Epoch 400/500\n",
      "506/506 [==============================] - 0s 77us/sample - loss: 3.4195 - mse: 3.4195\n",
      "Epoch 401/500\n",
      "506/506 [==============================] - 0s 76us/sample - loss: 3.3084 - mse: 3.3084\n",
      "Epoch 402/500\n",
      "506/506 [==============================] - 0s 67us/sample - loss: 3.4364 - mse: 3.4364\n",
      "Epoch 403/500\n"
     ]
    },
    {
     "name": "stdout",
     "output_type": "stream",
     "text": [
      "506/506 [==============================] - 0s 75us/sample - loss: 3.2532 - mse: 3.2532\n",
      "Epoch 404/500\n",
      "506/506 [==============================] - 0s 67us/sample - loss: 3.2532 - mse: 3.2532\n",
      "Epoch 405/500\n",
      "506/506 [==============================] - 0s 69us/sample - loss: 3.2484 - mse: 3.2484\n",
      "Epoch 406/500\n",
      "506/506 [==============================] - 0s 69us/sample - loss: 3.4016 - mse: 3.4016\n",
      "Epoch 407/500\n",
      "506/506 [==============================] - 0s 65us/sample - loss: 3.3263 - mse: 3.3263\n",
      "Epoch 408/500\n",
      "506/506 [==============================] - 0s 71us/sample - loss: 3.3090 - mse: 3.3090\n",
      "Epoch 409/500\n",
      "506/506 [==============================] - 0s 74us/sample - loss: 3.1044 - mse: 3.1044\n",
      "Epoch 410/500\n",
      "506/506 [==============================] - 0s 73us/sample - loss: 3.2127 - mse: 3.2127\n",
      "Epoch 411/500\n",
      "506/506 [==============================] - 0s 60us/sample - loss: 3.2252 - mse: 3.2252\n",
      "Epoch 412/500\n",
      "506/506 [==============================] - 0s 62us/sample - loss: 3.1687 - mse: 3.1687\n",
      "Epoch 413/500\n",
      "506/506 [==============================] - 0s 68us/sample - loss: 3.2245 - mse: 3.2245\n",
      "Epoch 414/500\n",
      "506/506 [==============================] - 0s 61us/sample - loss: 3.2976 - mse: 3.2976\n",
      "Epoch 415/500\n",
      "506/506 [==============================] - 0s 77us/sample - loss: 3.2531 - mse: 3.2531\n",
      "Epoch 416/500\n",
      "506/506 [==============================] - 0s 63us/sample - loss: 3.2080 - mse: 3.2080\n",
      "Epoch 417/500\n",
      "506/506 [==============================] - 0s 75us/sample - loss: 3.1446 - mse: 3.1446\n",
      "Epoch 418/500\n",
      "506/506 [==============================] - 0s 85us/sample - loss: 3.2650 - mse: 3.2650\n",
      "Epoch 419/500\n",
      "506/506 [==============================] - 0s 67us/sample - loss: 3.2152 - mse: 3.2152\n",
      "Epoch 420/500\n",
      "506/506 [==============================] - 0s 91us/sample - loss: 3.4088 - mse: 3.4088\n",
      "Epoch 421/500\n",
      "506/506 [==============================] - 0s 71us/sample - loss: 3.1139 - mse: 3.1139\n",
      "Epoch 422/500\n",
      "506/506 [==============================] - 0s 89us/sample - loss: 3.2819 - mse: 3.2819\n",
      "Epoch 423/500\n",
      "506/506 [==============================] - 0s 66us/sample - loss: 3.1944 - mse: 3.1944\n",
      "Epoch 424/500\n",
      "506/506 [==============================] - 0s 79us/sample - loss: 3.1159 - mse: 3.1159\n",
      "Epoch 425/500\n",
      "506/506 [==============================] - 0s 64us/sample - loss: 3.1954 - mse: 3.1954\n",
      "Epoch 426/500\n",
      "506/506 [==============================] - 0s 66us/sample - loss: 3.1051 - mse: 3.1051\n",
      "Epoch 427/500\n",
      "506/506 [==============================] - 0s 69us/sample - loss: 3.0286 - mse: 3.0286\n",
      "Epoch 428/500\n",
      "506/506 [==============================] - 0s 86us/sample - loss: 3.4536 - mse: 3.4536\n",
      "Epoch 429/500\n",
      "506/506 [==============================] - 0s 65us/sample - loss: 3.0293 - mse: 3.0293\n",
      "Epoch 430/500\n",
      "506/506 [==============================] - 0s 63us/sample - loss: 3.1006 - mse: 3.1006\n",
      "Epoch 431/500\n",
      "506/506 [==============================] - 0s 73us/sample - loss: 3.1666 - mse: 3.1666\n",
      "Epoch 432/500\n",
      "506/506 [==============================] - 0s 80us/sample - loss: 3.0073 - mse: 3.0073\n",
      "Epoch 433/500\n",
      "506/506 [==============================] - 0s 68us/sample - loss: 3.0109 - mse: 3.0109\n",
      "Epoch 434/500\n",
      "506/506 [==============================] - 0s 68us/sample - loss: 2.9998 - mse: 2.9998\n",
      "Epoch 435/500\n",
      "506/506 [==============================] - 0s 74us/sample - loss: 3.0144 - mse: 3.0144\n",
      "Epoch 436/500\n",
      "506/506 [==============================] - 0s 66us/sample - loss: 2.9750 - mse: 2.9750\n",
      "Epoch 437/500\n",
      "506/506 [==============================] - 0s 81us/sample - loss: 3.0946 - mse: 3.0946\n",
      "Epoch 438/500\n",
      "506/506 [==============================] - 0s 69us/sample - loss: 3.1587 - mse: 3.1587\n",
      "Epoch 439/500\n",
      "506/506 [==============================] - 0s 67us/sample - loss: 2.9867 - mse: 2.9867\n",
      "Epoch 440/500\n",
      "506/506 [==============================] - 0s 70us/sample - loss: 3.2069 - mse: 3.2069\n",
      "Epoch 441/500\n",
      "506/506 [==============================] - 0s 68us/sample - loss: 3.0146 - mse: 3.0146\n",
      "Epoch 442/500\n",
      "506/506 [==============================] - 0s 70us/sample - loss: 2.9473 - mse: 2.9473\n",
      "Epoch 443/500\n",
      "506/506 [==============================] - 0s 58us/sample - loss: 2.9497 - mse: 2.9497\n",
      "Epoch 444/500\n",
      "506/506 [==============================] - 0s 61us/sample - loss: 3.0633 - mse: 3.0633\n",
      "Epoch 445/500\n",
      "506/506 [==============================] - 0s 90us/sample - loss: 2.9098 - mse: 2.9098\n",
      "Epoch 446/500\n",
      "506/506 [==============================] - 0s 75us/sample - loss: 3.0165 - mse: 3.0165\n",
      "Epoch 447/500\n",
      "506/506 [==============================] - 0s 81us/sample - loss: 2.9154 - mse: 2.9154\n",
      "Epoch 448/500\n",
      "506/506 [==============================] - 0s 76us/sample - loss: 3.0568 - mse: 3.0568\n",
      "Epoch 449/500\n",
      "506/506 [==============================] - 0s 74us/sample - loss: 3.0275 - mse: 3.0275\n",
      "Epoch 450/500\n",
      "506/506 [==============================] - 0s 62us/sample - loss: 3.0468 - mse: 3.0468\n",
      "Epoch 451/500\n",
      "506/506 [==============================] - 0s 56us/sample - loss: 3.0191 - mse: 3.0191\n",
      "Epoch 452/500\n",
      "506/506 [==============================] - 0s 68us/sample - loss: 3.0173 - mse: 3.0173\n",
      "Epoch 453/500\n",
      "506/506 [==============================] - 0s 74us/sample - loss: 2.8837 - mse: 2.8837\n",
      "Epoch 454/500\n",
      "506/506 [==============================] - 0s 64us/sample - loss: 2.9985 - mse: 2.9985\n",
      "Epoch 455/500\n",
      "506/506 [==============================] - 0s 75us/sample - loss: 2.9843 - mse: 2.9843\n",
      "Epoch 456/500\n",
      "506/506 [==============================] - 0s 86us/sample - loss: 2.9106 - mse: 2.9106\n",
      "Epoch 457/500\n",
      "506/506 [==============================] - 0s 80us/sample - loss: 2.9817 - mse: 2.9817\n",
      "Epoch 458/500\n",
      "506/506 [==============================] - 0s 95us/sample - loss: 2.8922 - mse: 2.8922\n",
      "Epoch 459/500\n",
      "506/506 [==============================] - 0s 78us/sample - loss: 2.9961 - mse: 2.9961\n",
      "Epoch 460/500\n",
      "506/506 [==============================] - 0s 70us/sample - loss: 2.9609 - mse: 2.9609\n",
      "Epoch 461/500\n",
      "506/506 [==============================] - 0s 66us/sample - loss: 2.9030 - mse: 2.9030\n",
      "Epoch 462/500\n",
      "506/506 [==============================] - 0s 64us/sample - loss: 2.9106 - mse: 2.9106\n",
      "Epoch 463/500\n",
      "506/506 [==============================] - 0s 82us/sample - loss: 2.9991 - mse: 2.9991\n",
      "Epoch 464/500\n",
      "506/506 [==============================] - 0s 72us/sample - loss: 2.9865 - mse: 2.9865\n",
      "Epoch 465/500\n",
      "506/506 [==============================] - 0s 73us/sample - loss: 2.8879 - mse: 2.8879\n",
      "Epoch 466/500\n",
      "506/506 [==============================] - 0s 55us/sample - loss: 2.8856 - mse: 2.8856\n",
      "Epoch 467/500\n",
      "506/506 [==============================] - 0s 74us/sample - loss: 2.8810 - mse: 2.8810\n",
      "Epoch 468/500\n",
      "506/506 [==============================] - 0s 71us/sample - loss: 2.8470 - mse: 2.8470\n",
      "Epoch 469/500\n",
      "506/506 [==============================] - 0s 79us/sample - loss: 2.8621 - mse: 2.8621\n",
      "Epoch 470/500\n",
      "506/506 [==============================] - 0s 58us/sample - loss: 2.9081 - mse: 2.9081\n",
      "Epoch 471/500\n",
      "506/506 [==============================] - 0s 67us/sample - loss: 2.8464 - mse: 2.8464\n",
      "Epoch 472/500\n",
      "506/506 [==============================] - 0s 83us/sample - loss: 2.7598 - mse: 2.7598\n",
      "Epoch 473/500\n",
      "506/506 [==============================] - 0s 59us/sample - loss: 3.0284 - mse: 3.0284\n",
      "Epoch 474/500\n",
      "506/506 [==============================] - 0s 87us/sample - loss: 2.7821 - mse: 2.7821\n",
      "Epoch 475/500\n",
      "506/506 [==============================] - 0s 85us/sample - loss: 2.8232 - mse: 2.8232\n",
      "Epoch 476/500\n",
      "506/506 [==============================] - 0s 81us/sample - loss: 2.7773 - mse: 2.7773\n",
      "Epoch 477/500\n",
      "506/506 [==============================] - 0s 74us/sample - loss: 2.8004 - mse: 2.8004\n",
      "Epoch 478/500\n",
      "506/506 [==============================] - 0s 66us/sample - loss: 2.9242 - mse: 2.9242\n",
      "Epoch 479/500\n",
      "506/506 [==============================] - 0s 66us/sample - loss: 2.9080 - mse: 2.9080\n",
      "Epoch 480/500\n",
      "506/506 [==============================] - 0s 71us/sample - loss: 2.7668 - mse: 2.7668\n",
      "Epoch 481/500\n",
      "506/506 [==============================] - 0s 67us/sample - loss: 2.7858 - mse: 2.7858\n",
      "Epoch 482/500\n",
      "506/506 [==============================] - 0s 81us/sample - loss: 2.9404 - mse: 2.9404\n",
      "Epoch 483/500\n",
      "506/506 [==============================] - 0s 107us/sample - loss: 2.8659 - mse: 2.8659\n",
      "Epoch 484/500\n"
     ]
    },
    {
     "name": "stdout",
     "output_type": "stream",
     "text": [
      "506/506 [==============================] - 0s 96us/sample - loss: 2.8307 - mse: 2.8307\n",
      "Epoch 485/500\n",
      "506/506 [==============================] - 0s 74us/sample - loss: 2.8332 - mse: 2.8332\n",
      "Epoch 486/500\n",
      "506/506 [==============================] - 0s 79us/sample - loss: 2.7749 - mse: 2.7749\n",
      "Epoch 487/500\n",
      "506/506 [==============================] - 0s 72us/sample - loss: 2.8738 - mse: 2.8738\n",
      "Epoch 488/500\n",
      "506/506 [==============================] - 0s 90us/sample - loss: 2.7778 - mse: 2.7778\n",
      "Epoch 489/500\n",
      "506/506 [==============================] - 0s 69us/sample - loss: 2.7070 - mse: 2.7070\n",
      "Epoch 490/500\n",
      "506/506 [==============================] - 0s 84us/sample - loss: 2.8508 - mse: 2.8508\n",
      "Epoch 491/500\n",
      "506/506 [==============================] - 0s 77us/sample - loss: 2.6607 - mse: 2.6607\n",
      "Epoch 492/500\n",
      "506/506 [==============================] - 0s 65us/sample - loss: 2.7457 - mse: 2.7457\n",
      "Epoch 493/500\n",
      "506/506 [==============================] - 0s 65us/sample - loss: 2.8005 - mse: 2.8005\n",
      "Epoch 494/500\n",
      "506/506 [==============================] - 0s 65us/sample - loss: 2.8286 - mse: 2.8286\n",
      "Epoch 495/500\n",
      "506/506 [==============================] - 0s 63us/sample - loss: 2.9679 - mse: 2.9679\n",
      "Epoch 496/500\n",
      "506/506 [==============================] - 0s 63us/sample - loss: 2.7054 - mse: 2.7054\n",
      "Epoch 497/500\n",
      "506/506 [==============================] - 0s 61us/sample - loss: 2.6599 - mse: 2.6599\n",
      "Epoch 498/500\n",
      "506/506 [==============================] - 0s 67us/sample - loss: 2.7097 - mse: 2.7097\n",
      "Epoch 499/500\n",
      "506/506 [==============================] - 0s 82us/sample - loss: 2.7839 - mse: 2.7839\n",
      "Epoch 500/500\n",
      "506/506 [==============================] - 0s 66us/sample - loss: 2.7040 - mse: 2.7040\n"
     ]
    },
    {
     "data": {
      "text/plain": [
       "<tensorflow.python.keras.callbacks.History at 0x7f93315ed588>"
      ]
     },
     "execution_count": 178,
     "metadata": {},
     "output_type": "execute_result"
    }
   ],
   "source": [
    "model.fit(X_, y_, epochs = 500, batch_size = 32)"
   ]
  },
  {
   "cell_type": "markdown",
   "metadata": {},
   "source": [
    "### 2. 回答一下理论题目"
   ]
  },
  {
   "cell_type": "markdown",
   "metadata": {},
   "source": [
    "#### 1. What does a neuron compute?"
   ]
  },
  {
   "cell_type": "markdown",
   "metadata": {},
   "source": [
    "每个神经元计算的是前向传播和反向传播过程中权重和特征间的关系"
   ]
  },
  {
   "cell_type": "markdown",
   "metadata": {},
   "source": [
    "####  2. Why we use non-linear activation funcitons in neural networks?"
   ]
  },
  {
   "cell_type": "markdown",
   "metadata": {},
   "source": [
    "因为多个线性激活函数的嵌套本质上可以写成一个线性激活函数，失去了神经网络多层次的特点。"
   ]
  },
  {
   "cell_type": "markdown",
   "metadata": {},
   "source": [
    "#### 3. What is the 'Logistic Loss' ?"
   ]
  },
  {
   "cell_type": "markdown",
   "metadata": {},
   "source": [
    "Logistic Loss 也叫交叉熵损失或者对数似然损失。他通过惩罚错误的分类，实现对分类器的准确度的量化，最小化对数损失基本等价于最大化分类器的准确度，为了计算对数损失，分类器必须提供对输入的所属的每个类别的概率值，不只是最可能的类别。  \n",
    "对数损失的公式为  \n",
    "$Loss = \\frac{1}{N}\\sum_{i=1}^N\\sum_{j=1}^{M}y_{ij}log(p_{ij})$  \n"
   ]
  },
  {
   "cell_type": "markdown",
   "metadata": {},
   "source": [
    "#### 4. Assume that you are building a binary classifier for detecting if an image containing cats, which activation functions would you recommen using for the output layer ?\n",
    "\n",
    "A. ReLU    \n",
    "B. Leaky ReLU    \n",
    "C. sigmoid    \n",
    "D. tanh  "
   ]
  },
  {
   "cell_type": "markdown",
   "metadata": {},
   "source": [
    "C"
   ]
  },
  {
   "cell_type": "markdown",
   "metadata": {},
   "source": [
    "#### 5. Why we don't use zero initialization for all parameters ?"
   ]
  },
  {
   "cell_type": "markdown",
   "metadata": {},
   "source": [
    "如果所有参数都初始化为0，同一层各个节点反向传播更新得到的新参数是相同的，这就失去了多个节点的意义"
   ]
  },
  {
   "cell_type": "markdown",
   "metadata": {},
   "source": [
    "#### 6. Can you implement the softmax function using python ? "
   ]
  },
  {
   "cell_type": "code",
   "execution_count": 143,
   "metadata": {},
   "outputs": [
    {
     "name": "stdout",
     "output_type": "stream",
     "text": [
      "[0.8360188  0.11314284 0.05083836]\n",
      "[[0.04978707 0.13533528 0.36787944 1.        ]\n",
      " [0.04978707 0.13533528 0.36787944 1.        ]]\n",
      "[[0.0320586  0.08714432 0.23688282 0.64391426]\n",
      " [0.0320586  0.08714432 0.23688282 0.64391426]]\n"
     ]
    }
   ],
   "source": [
    "import numpy as np\n",
    "\n",
    "def softmax(x):\n",
    "    orig_shape = x.shape\n",
    "    \n",
    "    if len(orig_shape) > 1:\n",
    "        exp_minmax = lambda x: np.exp(x - np.max(x))\n",
    "        denom = lambda x: 1.0 / np.sum(x)\n",
    "        x = np.apply_along_axis(exp_minmax, 1, x)\n",
    "        print(x)\n",
    "        denominator = np.apply_along_axis(denom, 1, x)\n",
    "        \n",
    "        if len(denominator.shape) == 1:\n",
    "            denominator = denominator.reshape((denominator.shape[0], 1))\n",
    "        \n",
    "        x = x * denominator\n",
    "    else:\n",
    "        x_max = np.max(x)\n",
    "        x = x - x_max\n",
    "        numerator = np.exp(x)\n",
    "        denominator = 1.0 / np.sum(numerator)\n",
    "        x = numerator.dot(denominator)\n",
    "    return x\n",
    "\n",
    "scores = np.array([3., 1., 0.2])\n",
    "a = np.array([[1,2,3,4],[1,2,3,4]])\n",
    "print(softmax(scores))\n",
    "print(softmax(a))"
   ]
  },
  {
   "cell_type": "markdown",
   "metadata": {},
   "source": [
    "### 3.实践题"
   ]
  },
  {
   "cell_type": "markdown",
   "metadata": {},
   "source": [
    "#### In this practical part, you will build a simple digits recognizer to check if the digit in the image is larger than 5. This assignmnet will guide you step by step to finish your first small project in this course ."
   ]
  },
  {
   "cell_type": "markdown",
   "metadata": {},
   "source": [
    "#### 1 - Packages  \n",
    "sklearn is a famous package for machine learning.   \n",
    "matplotlib is a common package for vasualization."
   ]
  },
  {
   "cell_type": "code",
   "execution_count": 144,
   "metadata": {},
   "outputs": [],
   "source": [
    "from sklearn import datasets\n",
    "import matplotlib.pyplot as plt\n",
    "from sklearn.model_selection import train_test_split"
   ]
  },
  {
   "cell_type": "markdown",
   "metadata": {},
   "source": [
    "#### 2 - Overvie of the dataset  \n",
    "    - a training set has m_train images labeled as 0 if the digit < 5 or 1 if the digit >= 5\n",
    "    - a test set contains m_test images labels as if the digit < 5 or 1 if the digit >= 5\n",
    "    - eah image if of shape (num_px, num_px ). Thus, each image is square(height=num_px and  width = num_px)"
   ]
  },
  {
   "cell_type": "code",
   "execution_count": 145,
   "metadata": {},
   "outputs": [],
   "source": [
    "# Loading the data \n",
    "digits = datasets.load_digits()"
   ]
  },
  {
   "cell_type": "code",
   "execution_count": 146,
   "metadata": {},
   "outputs": [
    {
     "data": {
      "text/plain": [
       "<matplotlib.axes._subplots.AxesSubplot at 0x7f933c05d470>"
      ]
     },
     "execution_count": 146,
     "metadata": {},
     "output_type": "execute_result"
    },
    {
     "data": {
      "text/plain": [
       "<matplotlib.image.AxesImage at 0x7f933054d668>"
      ]
     },
     "execution_count": 146,
     "metadata": {},
     "output_type": "execute_result"
    },
    {
     "data": {
      "text/plain": [
       "Text(3, 10, '0')"
      ]
     },
     "execution_count": 146,
     "metadata": {},
     "output_type": "execute_result"
    },
    {
     "data": {
      "text/plain": [
       "([], <a list of 0 Text xticklabel objects>)"
      ]
     },
     "execution_count": 146,
     "metadata": {},
     "output_type": "execute_result"
    },
    {
     "data": {
      "text/plain": [
       "([], <a list of 0 Text yticklabel objects>)"
      ]
     },
     "execution_count": 146,
     "metadata": {},
     "output_type": "execute_result"
    },
    {
     "data": {
      "text/plain": [
       "<matplotlib.axes._subplots.AxesSubplot at 0x7f933c05dd30>"
      ]
     },
     "execution_count": 146,
     "metadata": {},
     "output_type": "execute_result"
    },
    {
     "data": {
      "text/plain": [
       "<matplotlib.image.AxesImage at 0x7f933054db38>"
      ]
     },
     "execution_count": 146,
     "metadata": {},
     "output_type": "execute_result"
    },
    {
     "data": {
      "text/plain": [
       "Text(3, 10, '1')"
      ]
     },
     "execution_count": 146,
     "metadata": {},
     "output_type": "execute_result"
    },
    {
     "data": {
      "text/plain": [
       "([], <a list of 0 Text xticklabel objects>)"
      ]
     },
     "execution_count": 146,
     "metadata": {},
     "output_type": "execute_result"
    },
    {
     "data": {
      "text/plain": [
       "([], <a list of 0 Text yticklabel objects>)"
      ]
     },
     "execution_count": 146,
     "metadata": {},
     "output_type": "execute_result"
    },
    {
     "data": {
      "text/plain": [
       "<matplotlib.axes._subplots.AxesSubplot at 0x7f933055d940>"
      ]
     },
     "execution_count": 146,
     "metadata": {},
     "output_type": "execute_result"
    },
    {
     "data": {
      "text/plain": [
       "<matplotlib.image.AxesImage at 0x7f93307ef470>"
      ]
     },
     "execution_count": 146,
     "metadata": {},
     "output_type": "execute_result"
    },
    {
     "data": {
      "text/plain": [
       "Text(3, 10, '2')"
      ]
     },
     "execution_count": 146,
     "metadata": {},
     "output_type": "execute_result"
    },
    {
     "data": {
      "text/plain": [
       "([], <a list of 0 Text xticklabel objects>)"
      ]
     },
     "execution_count": 146,
     "metadata": {},
     "output_type": "execute_result"
    },
    {
     "data": {
      "text/plain": [
       "([], <a list of 0 Text yticklabel objects>)"
      ]
     },
     "execution_count": 146,
     "metadata": {},
     "output_type": "execute_result"
    },
    {
     "data": {
      "text/plain": [
       "<matplotlib.axes._subplots.AxesSubplot at 0x7f93307cff60>"
      ]
     },
     "execution_count": 146,
     "metadata": {},
     "output_type": "execute_result"
    },
    {
     "data": {
      "text/plain": [
       "<matplotlib.image.AxesImage at 0x7f9330791fd0>"
      ]
     },
     "execution_count": 146,
     "metadata": {},
     "output_type": "execute_result"
    },
    {
     "data": {
      "text/plain": [
       "Text(3, 10, '3')"
      ]
     },
     "execution_count": 146,
     "metadata": {},
     "output_type": "execute_result"
    },
    {
     "data": {
      "text/plain": [
       "([], <a list of 0 Text xticklabel objects>)"
      ]
     },
     "execution_count": 146,
     "metadata": {},
     "output_type": "execute_result"
    },
    {
     "data": {
      "text/plain": [
       "([], <a list of 0 Text yticklabel objects>)"
      ]
     },
     "execution_count": 146,
     "metadata": {},
     "output_type": "execute_result"
    },
    {
     "data": {
      "text/plain": [
       "<matplotlib.axes._subplots.AxesSubplot at 0x7f933078a5c0>"
      ]
     },
     "execution_count": 146,
     "metadata": {},
     "output_type": "execute_result"
    },
    {
     "data": {
      "text/plain": [
       "<matplotlib.image.AxesImage at 0x7f9330752208>"
      ]
     },
     "execution_count": 146,
     "metadata": {},
     "output_type": "execute_result"
    },
    {
     "data": {
      "text/plain": [
       "Text(3, 10, '4')"
      ]
     },
     "execution_count": 146,
     "metadata": {},
     "output_type": "execute_result"
    },
    {
     "data": {
      "text/plain": [
       "([], <a list of 0 Text xticklabel objects>)"
      ]
     },
     "execution_count": 146,
     "metadata": {},
     "output_type": "execute_result"
    },
    {
     "data": {
      "text/plain": [
       "([], <a list of 0 Text yticklabel objects>)"
      ]
     },
     "execution_count": 146,
     "metadata": {},
     "output_type": "execute_result"
    },
    {
     "data": {
      "text/plain": [
       "<matplotlib.axes._subplots.AxesSubplot at 0x7f93307b6be0>"
      ]
     },
     "execution_count": 146,
     "metadata": {},
     "output_type": "execute_result"
    },
    {
     "data": {
      "text/plain": [
       "<matplotlib.image.AxesImage at 0x7f9330707b00>"
      ]
     },
     "execution_count": 146,
     "metadata": {},
     "output_type": "execute_result"
    },
    {
     "data": {
      "text/plain": [
       "Text(3, 10, '5')"
      ]
     },
     "execution_count": 146,
     "metadata": {},
     "output_type": "execute_result"
    },
    {
     "data": {
      "text/plain": [
       "([], <a list of 0 Text xticklabel objects>)"
      ]
     },
     "execution_count": 146,
     "metadata": {},
     "output_type": "execute_result"
    },
    {
     "data": {
      "text/plain": [
       "([], <a list of 0 Text yticklabel objects>)"
      ]
     },
     "execution_count": 146,
     "metadata": {},
     "output_type": "execute_result"
    },
    {
     "data": {
      "text/plain": [
       "<matplotlib.axes._subplots.AxesSubplot at 0x7f933076bbe0>"
      ]
     },
     "execution_count": 146,
     "metadata": {},
     "output_type": "execute_result"
    },
    {
     "data": {
      "text/plain": [
       "<matplotlib.image.AxesImage at 0x7f933071ac88>"
      ]
     },
     "execution_count": 146,
     "metadata": {},
     "output_type": "execute_result"
    },
    {
     "data": {
      "text/plain": [
       "Text(3, 10, '6')"
      ]
     },
     "execution_count": 146,
     "metadata": {},
     "output_type": "execute_result"
    },
    {
     "data": {
      "text/plain": [
       "([], <a list of 0 Text xticklabel objects>)"
      ]
     },
     "execution_count": 146,
     "metadata": {},
     "output_type": "execute_result"
    },
    {
     "data": {
      "text/plain": [
       "([], <a list of 0 Text yticklabel objects>)"
      ]
     },
     "execution_count": 146,
     "metadata": {},
     "output_type": "execute_result"
    },
    {
     "data": {
      "text/plain": [
       "<matplotlib.axes._subplots.AxesSubplot at 0x7f93306da128>"
      ]
     },
     "execution_count": 146,
     "metadata": {},
     "output_type": "execute_result"
    },
    {
     "data": {
      "text/plain": [
       "<matplotlib.image.AxesImage at 0x7f93306ccc18>"
      ]
     },
     "execution_count": 146,
     "metadata": {},
     "output_type": "execute_result"
    },
    {
     "data": {
      "text/plain": [
       "Text(3, 10, '7')"
      ]
     },
     "execution_count": 146,
     "metadata": {},
     "output_type": "execute_result"
    },
    {
     "data": {
      "text/plain": [
       "([], <a list of 0 Text xticklabel objects>)"
      ]
     },
     "execution_count": 146,
     "metadata": {},
     "output_type": "execute_result"
    },
    {
     "data": {
      "text/plain": [
       "([], <a list of 0 Text yticklabel objects>)"
      ]
     },
     "execution_count": 146,
     "metadata": {},
     "output_type": "execute_result"
    },
    {
     "data": {
      "text/plain": [
       "<matplotlib.axes._subplots.AxesSubplot at 0x7f93306daeb8>"
      ]
     },
     "execution_count": 146,
     "metadata": {},
     "output_type": "execute_result"
    },
    {
     "data": {
      "text/plain": [
       "<matplotlib.image.AxesImage at 0x7f9330696b00>"
      ]
     },
     "execution_count": 146,
     "metadata": {},
     "output_type": "execute_result"
    },
    {
     "data": {
      "text/plain": [
       "Text(3, 10, '8')"
      ]
     },
     "execution_count": 146,
     "metadata": {},
     "output_type": "execute_result"
    },
    {
     "data": {
      "text/plain": [
       "([], <a list of 0 Text xticklabel objects>)"
      ]
     },
     "execution_count": 146,
     "metadata": {},
     "output_type": "execute_result"
    },
    {
     "data": {
      "text/plain": [
       "([], <a list of 0 Text yticklabel objects>)"
      ]
     },
     "execution_count": 146,
     "metadata": {},
     "output_type": "execute_result"
    },
    {
     "data": {
      "text/plain": [
       "<matplotlib.axes._subplots.AxesSubplot at 0x7f9330696518>"
      ]
     },
     "execution_count": 146,
     "metadata": {},
     "output_type": "execute_result"
    },
    {
     "data": {
      "text/plain": [
       "<matplotlib.image.AxesImage at 0x7f9330656e80>"
      ]
     },
     "execution_count": 146,
     "metadata": {},
     "output_type": "execute_result"
    },
    {
     "data": {
      "text/plain": [
       "Text(3, 10, '9')"
      ]
     },
     "execution_count": 146,
     "metadata": {},
     "output_type": "execute_result"
    },
    {
     "data": {
      "text/plain": [
       "([], <a list of 0 Text xticklabel objects>)"
      ]
     },
     "execution_count": 146,
     "metadata": {},
     "output_type": "execute_result"
    },
    {
     "data": {
      "text/plain": [
       "([], <a list of 0 Text yticklabel objects>)"
      ]
     },
     "execution_count": 146,
     "metadata": {},
     "output_type": "execute_result"
    },
    {
     "data": {
      "image/png": "[encoded data removed]",
      "text/plain": [
       "<Figure size 432x288 with 10 Axes>"
      ]
     },
     "metadata": {},
     "output_type": "display_data"
    }
   ],
   "source": [
    "# Vilizating the data\n",
    "for i in range(1,11):\n",
    "    plt.subplot(2,5,i)\n",
    "    plt.imshow(digits.data[i-1].reshape([8,8]),cmap=plt.cm.gray_r)\n",
    "    plt.text(3,10,str(digits.target[i-1]))\n",
    "    plt.xticks([])\n",
    "    plt.yticks([])\n",
    "plt.show()"
   ]
  },
  {
   "cell_type": "code",
   "execution_count": 147,
   "metadata": {},
   "outputs": [
    {
     "data": {
      "text/plain": [
       "sklearn.utils.Bunch"
      ]
     },
     "execution_count": 147,
     "metadata": {},
     "output_type": "execute_result"
    }
   ],
   "source": [
    "type(digits)"
   ]
  },
  {
   "cell_type": "code",
   "execution_count": 148,
   "metadata": {},
   "outputs": [
    {
     "data": {
      "text/plain": [
       "array([[ 0.,  0.,  5., ...,  0.,  0.,  0.],\n",
       "       [ 0.,  0.,  0., ..., 10.,  0.,  0.],\n",
       "       [ 0.,  0.,  0., ..., 16.,  9.,  0.],\n",
       "       ...,\n",
       "       [ 0.,  0.,  1., ...,  6.,  0.,  0.],\n",
       "       [ 0.,  0.,  2., ..., 12.,  0.,  0.],\n",
       "       [ 0.,  0., 10., ..., 12.,  1.,  0.]])"
      ]
     },
     "execution_count": 148,
     "metadata": {},
     "output_type": "execute_result"
    },
    {
     "data": {
      "text/plain": [
       "(1797, 64)"
      ]
     },
     "execution_count": 148,
     "metadata": {},
     "output_type": "execute_result"
    },
    {
     "data": {
      "text/plain": [
       "(1797,)"
      ]
     },
     "execution_count": 148,
     "metadata": {},
     "output_type": "execute_result"
    },
    {
     "data": {
      "text/plain": [
       "array([0, 1, 2, ..., 8, 9, 8])"
      ]
     },
     "execution_count": 148,
     "metadata": {},
     "output_type": "execute_result"
    },
    {
     "data": {
      "text/plain": [
       "16.0"
      ]
     },
     "execution_count": 148,
     "metadata": {},
     "output_type": "execute_result"
    }
   ],
   "source": [
    "digits['data']\n",
    "digits['data'].shape\n",
    "digits['target'].shape\n",
    "digits['target']\n",
    "np.max(digits['data'])"
   ]
  },
  {
   "cell_type": "code",
   "execution_count": 153,
   "metadata": {},
   "outputs": [],
   "source": [
    "# Split the data into training set and test set \n",
    "X_train, X_test, y_train, y_test = train_test_split(digits.data, digits.target, test_size=0.25)"
   ]
  },
  {
   "cell_type": "code",
   "execution_count": 154,
   "metadata": {},
   "outputs": [],
   "source": [
    "# reformulate the label. \n",
    "# If the digit is smaller than 5, the label is 0.\n",
    "# If the digit is larger than 5, the label is 1.\n",
    "\n",
    "y_train[y_train < 5 ] = 0\n",
    "y_train[y_train >= 5] = 1\n",
    "y_test[y_test < 5] = 0\n",
    "y_test[y_test >= 5] = 1"
   ]
  },
  {
   "cell_type": "code",
   "execution_count": 155,
   "metadata": {},
   "outputs": [
    {
     "name": "stdout",
     "output_type": "stream",
     "text": [
      "(1347, 64)\n",
      "(450, 64)\n",
      "(1347,)\n",
      "(450,)\n"
     ]
    }
   ],
   "source": [
    "print(X_train.shape)\n",
    "print(X_test.shape)\n",
    "print(y_train.shape)\n",
    "print(y_test.shape)"
   ]
  },
  {
   "cell_type": "code",
   "execution_count": 166,
   "metadata": {},
   "outputs": [
    {
     "data": {
      "text/plain": [
       "(64, 1347)"
      ]
     },
     "execution_count": 166,
     "metadata": {},
     "output_type": "execute_result"
    },
    {
     "data": {
      "text/plain": [
       "(64, 1347)"
      ]
     },
     "execution_count": 166,
     "metadata": {},
     "output_type": "execute_result"
    },
    {
     "data": {
      "text/plain": [
       "(1, 1347)"
      ]
     },
     "execution_count": 166,
     "metadata": {},
     "output_type": "execute_result"
    },
    {
     "data": {
      "text/plain": [
       "(64, 450)"
      ]
     },
     "execution_count": 166,
     "metadata": {},
     "output_type": "execute_result"
    },
    {
     "data": {
      "text/plain": [
       "(1, 450)"
      ]
     },
     "execution_count": 166,
     "metadata": {},
     "output_type": "execute_result"
    }
   ],
   "source": [
    "X_train = X_train.T\n",
    "X_train.shape\n",
    "y_train = y_train.reshape((1, X_train.shape[1]))\n",
    "X_test = X_test.T\n",
    "y_test = y_test.reshape((1, X_test.shape[1]))\n",
    "X_train.shape\n",
    "y_train.shape\n",
    "X_test.shape\n",
    "y_test.shape"
   ]
  },
  {
   "cell_type": "markdown",
   "metadata": {},
   "source": [
    "#### 3- Architecture of the neural network"
   ]
  },
  {
   "cell_type": "markdown",
   "metadata": {},
   "source": [
    "![title](network.png)"
   ]
  },
  {
   "cell_type": "code",
   "execution_count": 156,
   "metadata": {},
   "outputs": [
    {
     "name": "stdout",
     "output_type": "stream",
     "text": [
      "/home/xuetaozhang/kaikeba/homework/04\r\n"
     ]
    }
   ],
   "source": [
    "!pwd"
   ]
  },
  {
   "cell_type": "markdown",
   "metadata": {},
   "source": [
    "##### Mathematical expression of the algorithm:"
   ]
  },
  {
   "cell_type": "markdown",
   "metadata": {},
   "source": [
    "For one example $x^{(i)}$:   \n",
    " $$ z^{(i)} = w^T * x^{(i)} +b $$   \n",
    " $$ y^{(i)} = a^{(i)} = sigmoid(z^{(i)})$$   \n",
    " $$L(a^{(i)},y^{(i)}) = -y^{(i)} log(a^{(i)})-(1-y^{(i)})log(1-a^{(i)})$$"
   ]
  },
  {
   "cell_type": "markdown",
   "metadata": {},
   "source": [
    "The total cost over all training examples:\n",
    "$$ J = \\frac{1}{m}\\sum_{i=1}^{m}L(a^{(i)},y^{(i)}) $$"
   ]
  },
  {
   "cell_type": "markdown",
   "metadata": {},
   "source": [
    "#### 4 - Building the algorithm"
   ]
  },
  {
   "cell_type": "markdown",
   "metadata": {},
   "source": [
    "##### 4.1- Activation function    \n",
    "###### Exercise:\n",
    "Finish the sigmoid funciton "
   ]
  },
  {
   "cell_type": "code",
   "execution_count": 157,
   "metadata": {},
   "outputs": [],
   "source": [
    "def sigmoid(z):\n",
    "    '''\n",
    "    Compute the sigmoid of z\n",
    "    Arguments: z -- a scalar or numpy array of any size.\n",
    "    \n",
    "    Return:\n",
    "    s -- sigmoid(z)\n",
    "    '''\n",
    "    s = 1 / (1 + np.exp(-z))\n",
    "    \n",
    "    return s"
   ]
  },
  {
   "cell_type": "code",
   "execution_count": 158,
   "metadata": {},
   "outputs": [
    {
     "name": "stdout",
     "output_type": "stream",
     "text": [
      "sigmoid([0,2]) = [0.5        0.88079708]\n"
     ]
    }
   ],
   "source": [
    "# Test your code \n",
    "# The result should be [0.5 0.88079708]\n",
    "print(\"sigmoid([0,2]) = \" + str(sigmoid(np.array([0,2]))))"
   ]
  },
  {
   "cell_type": "markdown",
   "metadata": {},
   "source": [
    "##### 4.1-Initializaing parameters\n",
    "###### Exercise:\n",
    "Finishe the initialize_parameters function below"
   ]
  },
  {
   "cell_type": "code",
   "execution_count": 159,
   "metadata": {},
   "outputs": [],
   "source": [
    "# Random innitialize the parameters\n",
    "\n",
    "def initialize_parameters(dim):\n",
    "    '''\n",
    "    Argument: dim -- size of the w vector\n",
    "    \n",
    "    Returns:\n",
    "    w -- initialized vector of shape (dim,1)\n",
    "    b -- initializaed scalar\n",
    "    '''\n",
    "    \n",
    "    #w = np.random.rand(dim, 1) \n",
    "    #b = np.random.random(1)[0]\n",
    "    w = np.zeros((dim, 1))\n",
    "    b = 0\n",
    "    assert(w.shape == (dim,1))\n",
    "    assert(isinstance(b,float) or isinstance(b,int))\n",
    "    \n",
    "    return w,b"
   ]
  },
  {
   "cell_type": "code",
   "execution_count": 160,
   "metadata": {},
   "outputs": [
    {
     "name": "stdout",
     "output_type": "stream",
     "text": [
      "(array([[0.],\n",
      "       [0.],\n",
      "       [0.]]), 0)\n"
     ]
    }
   ],
   "source": [
    "print(initialize_parameters(3))"
   ]
  },
  {
   "cell_type": "markdown",
   "metadata": {},
   "source": [
    "#### 4.3-Forward and backward propagation"
   ]
  },
  {
   "cell_type": "markdown",
   "metadata": {},
   "source": [
    "###### Some mathematical expressions\n",
    "Forward Propagation:   \n",
    ". X    \n",
    ". A = $\\sigma(w^T*X+b) = (a^{(1)},a^{(2)},...,a^{(m)}$   \n",
    ". J = $-\\frac{1}{m} \\sum_{i=1}^{m}y^{(i)}log(a^{(i)}+(1-y^{(i)})log(1-a^{(i)})$       "
   ]
  },
  {
   "cell_type": "markdown",
   "metadata": {},
   "source": [
    "Some derivative: \n",
    "$$\\frac{\\partial{J}}{\\partial{w}} = \\frac{1}{m}X*(A-Y)^T$$   \n",
    "$$\\frac{\\partial{J}}{\\partial{b}} = \\frac{1}{m}\\sum_{i=1}^m(a^{(i)}-y^{(i)}) $$"
   ]
  },
  {
   "cell_type": "markdown",
   "metadata": {},
   "source": [
    "###### Exercise:\n",
    "Finish the function below:"
   ]
  },
  {
   "cell_type": "code",
   "execution_count": 161,
   "metadata": {},
   "outputs": [],
   "source": [
    "def propagate(w,b,X,Y):\n",
    "    '''\n",
    "    Implement the cost function and its gradient for the propagation\n",
    "    \n",
    "    Arguments:\n",
    "    w - weights\n",
    "    b - bias\n",
    "    X - data\n",
    "    Y - ground truth\n",
    "    '''\n",
    "    m = X.shape[1]\n",
    "    A = 1 / (1 + np.exp(-(np.dot(w.T, X) + b)))\n",
    "    cost = -(np.dot(Y, np.log(A).T) + np.dot((1 - Y), np.log(1 - A).T)) / m\n",
    "    \n",
    "    \n",
    "    dw = np.dot(X, (A - Y).T) / m\n",
    "    db = np.sum(A - Y) / m\n",
    "    \n",
    "    assert(dw.shape == w.shape)\n",
    "    assert(db.dtype == float)\n",
    "    cost = np.squeeze(cost)\n",
    "    assert(cost.shape == ())\n",
    "    \n",
    "    grads = {'dw':dw,\n",
    "             'db':db}\n",
    "    return grads, cost"
   ]
  },
  {
   "cell_type": "markdown",
   "metadata": {},
   "source": [
    "##### 4.4 -Optimization"
   ]
  },
  {
   "cell_type": "markdown",
   "metadata": {},
   "source": [
    "###### Exercise:\n",
    "Minimizing the cost function using gradient descent.   \n",
    "$$\\theta = \\theta - \\alpha*d\\theta$$ where $\\alpha$ is the learning rate."
   ]
  },
  {
   "cell_type": "code",
   "execution_count": 162,
   "metadata": {},
   "outputs": [],
   "source": [
    "def optimize(w, b, X, Y, num_iterations, learning_rate, print_cost=False):\n",
    "    '''\n",
    "    This function optimize w and b by running a gradient descen algorithm\n",
    "    \n",
    "    Arguments:\n",
    "    w - weights\n",
    "    b - bias\n",
    "    X - data\n",
    "    Y - ground truth\n",
    "    num_iterations -- number of iterations of the optimization loop\n",
    "    learning_rate -- learning rate of the gradient descent update rule\n",
    "    print_cost -- True to print the loss every 100 steps\n",
    "    \n",
    "    Returns:\n",
    "    params - dictionary containing the weights w and bias b\n",
    "    grads -- dictionary containing the gradients of the weights and bias with respect to the cost function\n",
    "    costs -- list of all the costs computed during the optimization, this will be used to plot the learning curve.\n",
    "    \n",
    "    '''\n",
    "    \n",
    "    costs = []\n",
    "    \n",
    "    for i in range(num_iterations):\n",
    "        \n",
    "        grads, cost = propagate(w, b, X, Y) \n",
    "        \n",
    "        dw = grads['dw']\n",
    "        db = grads['db']\n",
    "        \n",
    "        w = w - dw * learning_rate \n",
    "        b = b - db * learning_rate \n",
    "        \n",
    "        if i % 100 == 0:\n",
    "            costs.append(cost)\n",
    "        if print_cost and i % 100 == 0:\n",
    "            print (\"Cost after iteration %i: %f\" %(i, cost))\n",
    "    \n",
    "    params = {\"w\":w,\n",
    "              \"b\":b}\n",
    "    \n",
    "    grads = {\"dw\":dw,\n",
    "             \"db\":db}\n",
    "    \n",
    "    return params, grads, costs"
   ]
  },
  {
   "cell_type": "markdown",
   "metadata": {},
   "source": [
    "###### Exercise\n",
    "The previous function will output the learned w and b. We are able to use w and b to predict the labels for a dataset X. Implement the predict() function.    \n",
    "Two steps to finish this task:   \n",
    "1. Calculate $\\hat{Y} = A = \\sigma(w^T*X+b)$   \n",
    "2. Convert the entries of a into 0 (if activation <= 0.5) or 1 (if activation > 0.5), stores the predictions in a vector Y_prediction. If you wish, you can use an if/else statement in a for loop (though there is also a way to vectorize this)."
   ]
  },
  {
   "cell_type": "code",
   "execution_count": 163,
   "metadata": {},
   "outputs": [],
   "source": [
    "def predict(w, b, X):\n",
    "    '''\n",
    "    Predict whether the label is 0 or 1 using learned logistic regression parameters (w, b)\n",
    "    \n",
    "    Arguments:\n",
    "    w -- weights\n",
    "    b -- bias \n",
    "    X -- data \n",
    "    \n",
    "    Returns:\n",
    "    Y_prediction -- a numpy array (vector) containing all predictions (0/1) for the examples in X\n",
    "    '''\n",
    "    m = X.shape[1]\n",
    "    Y_prediction = np.zeros((1,m))\n",
    "    w = w.reshape(X.shape[0],1)\n",
    "    \n",
    "    A = 1 / (1 + np.exp(-(np.dot(w.T, X) + b)))\n",
    "    \n",
    "    for i in range(A.shape[1]):\n",
    "        if A[0,i] <= 0.5:\n",
    "            Y_prediction[0, i] = 0\n",
    "        else:\n",
    "            Y_prediction[0, i] = 1\n",
    "    \n",
    "    assert(Y_prediction.shape == (1,m))\n",
    "    \n",
    "    return Y_prediction"
   ]
  },
  {
   "cell_type": "markdown",
   "metadata": {},
   "source": [
    "##### 5- Merge all functions into a model"
   ]
  },
  {
   "cell_type": "markdown",
   "metadata": {},
   "source": [
    "Congratulations !! You have finished all the necessary components for constructing a model. Now, Let's take the challenge to merge all the implemented function into one model."
   ]
  },
  {
   "cell_type": "code",
   "execution_count": 167,
   "metadata": {},
   "outputs": [],
   "source": [
    "def model(X_train, Y_train, X_test, Y_test, num_iterations, learning_rate,print_cost):\n",
    "    \"\"\"\n",
    "    Build the logistic regression model by calling all the functions you have implemented.\n",
    "    Arguments:\n",
    "    X_train - training set\n",
    "    Y_train - training label\n",
    "    X_test - test set\n",
    "    Y_test - test label\n",
    "    num_iteration - hyperparameter representing the number of iterations to optimize the parameters\n",
    "    learning_rate -- hyperparameter representing the learning rate used in the update rule of optimize()\n",
    "    print_cost -- Set to true to print the cost every 100 iterations\n",
    "    \n",
    "    Returns:\n",
    "    d - dictionary should contain following information w,b,training_accuracy, test_accuracy,cost\n",
    "    eg: d = {\"w\":w,\n",
    "             \"b\":b,\n",
    "             \"training_accuracy\": traing_accuracy,\n",
    "             \"test_accuracy\":test_accuracy,\n",
    "             \"cost\":cost}\n",
    "    \"\"\"\n",
    "    w, b = initialize_parameters(X_train.shape[0])\n",
    "    \n",
    "    parameters, grads, costs = optimize(w, b, X_train, Y_train, num_iterations, learning_rate, print_cost)\n",
    "    \n",
    "    w = parameters['w']\n",
    "    b = parameters['b']\n",
    "\n",
    "    Y_prediction_train = predict(w, b, X_train)\n",
    "    Y_prediction_test = predict(w, b, X_test)\n",
    "    \n",
    "    print(\"train accuray:{} %\".format(100 - np.mean(np.abs(Y_prediction_train - Y_train)) * 100))\n",
    "    print(\"test accuray:{} %\".format(100 - np.mean(np.abs(Y_prediction_test - Y_test)) * 100))\n",
    "    \n",
    "    d = {\"cost\": costs, \n",
    "        \"Y_prediction_test\": Y_prediction_test,\n",
    "        \"Y_prediction_train\": Y_prediction_train,\n",
    "        \"w\": w,\n",
    "        \"b\": b,\n",
    "        \"learning_rate\": learning_rate,\n",
    "        \"num_iterations\": num_iterations}\n",
    "    return d"
   ]
  },
  {
   "cell_type": "code",
   "execution_count": 168,
   "metadata": {},
   "outputs": [
    {
     "name": "stdout",
     "output_type": "stream",
     "text": [
      "Cost after iteration 0: 0.693147\n",
      "Cost after iteration 100: 0.418510\n",
      "Cost after iteration 200: 0.361296\n",
      "Cost after iteration 300: 0.334648\n",
      "Cost after iteration 400: 0.318458\n",
      "Cost after iteration 500: 0.307310\n",
      "Cost after iteration 600: 0.299065\n",
      "Cost after iteration 700: 0.292684\n",
      "Cost after iteration 800: 0.287585\n",
      "Cost after iteration 900: 0.283416\n",
      "train accuray:89.6807720861173 %\n",
      "test accuray:89.77777777777777 %\n"
     ]
    }
   ],
   "source": [
    "d = model(X_train, y_train, X_test, y_test, num_iterations=1000, learning_rate=0.001, print_cost=True)"
   ]
  },
  {
   "cell_type": "markdown",
   "metadata": {},
   "source": [
    "### 4.选做题"
   ]
  },
  {
   "cell_type": "markdown",
   "metadata": {},
   "source": [
    "Congratulations on building your first logistic regression model. It is your time to analyze it further."
   ]
  },
  {
   "cell_type": "markdown",
   "metadata": {},
   "source": [
    "##### 4.1 Observe the effect of learning rate on the leraning process.   \n",
    "Hits: plot the learning curve with different learning rate"
   ]
  },
  {
   "cell_type": "code",
   "execution_count": 169,
   "metadata": {},
   "outputs": [],
   "source": [
    "import matplotlib.pyplot as plt"
   ]
  },
  {
   "cell_type": "code",
   "execution_count": 170,
   "metadata": {},
   "outputs": [
    {
     "name": "stdout",
     "output_type": "stream",
     "text": [
      "Cost after iteration 0: 0.693147\n",
      "Cost after iteration 100: 0.418510\n",
      "Cost after iteration 200: 0.361296\n",
      "Cost after iteration 300: 0.334648\n",
      "Cost after iteration 400: 0.318458\n",
      "Cost after iteration 500: 0.307310\n",
      "Cost after iteration 600: 0.299065\n",
      "Cost after iteration 700: 0.292684\n",
      "Cost after iteration 800: 0.287585\n",
      "Cost after iteration 900: 0.283416\n",
      "train accuray:89.6807720861173 %\n",
      "test accuray:89.77777777777777 %\n",
      "Cost after iteration 0: 0.693147\n",
      "Cost after iteration 100: 0.303346\n",
      "Cost after iteration 200: 0.278845\n",
      "Cost after iteration 300: 0.268325\n",
      "Cost after iteration 400: 0.262677\n",
      "Cost after iteration 500: 0.259256\n",
      "Cost after iteration 600: 0.257013\n",
      "Cost after iteration 700: 0.255456\n",
      "Cost after iteration 800: 0.254326\n",
      "Cost after iteration 900: 0.253478\n",
      "train accuray:91.01707498144023 %\n",
      "test accuray:90.44444444444444 %\n",
      "Cost after iteration 0: 0.693147\n",
      "Cost after iteration 100: 0.428113\n",
      "Cost after iteration 200: 0.304316\n",
      "Cost after iteration 300: 0.292950\n",
      "Cost after iteration 400: 0.282244\n",
      "Cost after iteration 500: 0.273429\n",
      "Cost after iteration 600: 0.269448\n",
      "Cost after iteration 700: 0.268877\n",
      "Cost after iteration 800: 0.267780\n",
      "Cost after iteration 900: 0.265684\n",
      "train accuray:89.60653303637713 %\n",
      "test accuray:89.33333333333333 %\n"
     ]
    },
    {
     "data": {
      "text/plain": [
       "[<matplotlib.lines.Line2D at 0x7f93317fd240>]"
      ]
     },
     "execution_count": 170,
     "metadata": {},
     "output_type": "execute_result"
    },
    {
     "data": {
      "text/plain": [
       "[<matplotlib.lines.Line2D at 0x7f933060f550>]"
      ]
     },
     "execution_count": 170,
     "metadata": {},
     "output_type": "execute_result"
    },
    {
     "data": {
      "text/plain": [
       "[<matplotlib.lines.Line2D at 0x7f93317fd5c0>]"
      ]
     },
     "execution_count": 170,
     "metadata": {},
     "output_type": "execute_result"
    },
    {
     "data": {
      "text/plain": [
       "<matplotlib.legend.Legend at 0x7f93317fd390>"
      ]
     },
     "execution_count": 170,
     "metadata": {},
     "output_type": "execute_result"
    },
    {
     "data": {
      "image/png": "[encoded data removed]",
      "text/plain": [
       "<Figure size 432x288 with 1 Axes>"
      ]
     },
     "metadata": {
      "needs_background": "light"
     },
     "output_type": "display_data"
    }
   ],
   "source": [
    "d1 = model(X_train, y_train, X_test, y_test, num_iterations=1000, learning_rate=0.001, print_cost=True)\n",
    "d2 = model(X_train, y_train, X_test, y_test, num_iterations=1000, learning_rate=0.005, print_cost=True)\n",
    "d3 = model(X_train, y_train, X_test, y_test, num_iterations=1000, learning_rate=0.01, print_cost=True)\n",
    "plt.plot(range(len(d1['cost'])), d1['cost'], label = 'learning_rate = 0.001')\n",
    "plt.plot(range(len(d2['cost'])), d2['cost'], label = 'learning_rate = 0.005')\n",
    "plt.plot(range(len(d3['cost'])), d3['cost'], label = 'learning_rate = 0.01')\n",
    "plt.legend(loc = 'upper right')"
   ]
  },
  {
   "cell_type": "markdown",
   "metadata": {},
   "source": [
    "可以看到当learing_rate = 0.05的时候收敛的更快"
   ]
  },
  {
   "cell_type": "markdown",
   "metadata": {},
   "source": [
    "##### 4.2 Observe the effect of iteration_num on the test accuracy."
   ]
  },
  {
   "cell_type": "code",
   "execution_count": 171,
   "metadata": {},
   "outputs": [],
   "source": [
    "def compute_test_accurate(prediction_test, y_test):\n",
    "    return 100 - np.mean(np.abs(prediction_test - y_test)) * 100"
   ]
  },
  {
   "cell_type": "code",
   "execution_count": 173,
   "metadata": {},
   "outputs": [
    {
     "name": "stdout",
     "output_type": "stream",
     "text": [
      "Cost after iteration 0: 0.693147\n",
      "train accuray:88.56718634001484 %\n",
      "test accuray:88.66666666666667 %\n",
      "Cost after iteration 0: 0.693147\n",
      "Cost after iteration 100: 0.303346\n",
      "Cost after iteration 200: 0.278845\n",
      "Cost after iteration 300: 0.268325\n",
      "Cost after iteration 400: 0.262677\n",
      "train accuray:90.42316258351893 %\n",
      "test accuray:90.44444444444444 %\n",
      "Cost after iteration 0: 0.693147\n",
      "Cost after iteration 100: 0.303346\n",
      "Cost after iteration 200: 0.278845\n",
      "Cost after iteration 300: 0.268325\n",
      "Cost after iteration 400: 0.262677\n",
      "Cost after iteration 500: 0.259256\n",
      "Cost after iteration 600: 0.257013\n",
      "Cost after iteration 700: 0.255456\n",
      "Cost after iteration 800: 0.254326\n",
      "Cost after iteration 900: 0.253478\n",
      "train accuray:91.01707498144023 %\n",
      "test accuray:90.44444444444444 %\n",
      "Cost after iteration 0: 0.693147\n",
      "Cost after iteration 100: 0.303346\n",
      "Cost after iteration 200: 0.278845\n",
      "Cost after iteration 300: 0.268325\n",
      "Cost after iteration 400: 0.262677\n",
      "Cost after iteration 500: 0.259256\n",
      "Cost after iteration 600: 0.257013\n",
      "Cost after iteration 700: 0.255456\n",
      "Cost after iteration 800: 0.254326\n",
      "Cost after iteration 900: 0.253478\n",
      "Cost after iteration 1000: 0.252822\n",
      "Cost after iteration 1100: 0.252302\n",
      "Cost after iteration 1200: 0.251880\n",
      "Cost after iteration 1300: 0.251533\n",
      "Cost after iteration 1400: 0.251242\n",
      "Cost after iteration 1500: 0.250993\n",
      "Cost after iteration 1600: 0.250779\n",
      "Cost after iteration 1700: 0.250592\n",
      "Cost after iteration 1800: 0.250426\n",
      "Cost after iteration 1900: 0.250279\n",
      "train accuray:91.0913140311804 %\n",
      "test accuray:90.44444444444444 %\n"
     ]
    },
    {
     "data": {
      "text/plain": [
       "[88.66666666666667, 90.44444444444444, 90.44444444444444, 90.44444444444444]"
      ]
     },
     "execution_count": 173,
     "metadata": {},
     "output_type": "execute_result"
    },
    {
     "data": {
      "text/plain": [
       "Text(0.5, 0, 'num_iterations')"
      ]
     },
     "execution_count": 173,
     "metadata": {},
     "output_type": "execute_result"
    },
    {
     "data": {
      "text/plain": [
       "Text(0, 0.5, 'test_accuracys')"
      ]
     },
     "execution_count": 173,
     "metadata": {},
     "output_type": "execute_result"
    },
    {
     "data": {
      "text/plain": [
       "[<matplotlib.lines.Line2D at 0x7f933170feb8>]"
      ]
     },
     "execution_count": 173,
     "metadata": {},
     "output_type": "execute_result"
    },
    {
     "data": {
      "image/png": "[encoded data removed]",
      "text/plain": [
       "<Figure size 432x288 with 1 Axes>"
      ]
     },
     "metadata": {
      "needs_background": "light"
     },
     "output_type": "display_data"
    }
   ],
   "source": [
    "d1 = model(X_train, y_train, X_test, y_test, num_iterations=100, learning_rate=0.005, print_cost=True)\n",
    "d2 = model(X_train, y_train, X_test, y_test, num_iterations=500, learning_rate=0.005, print_cost=True)\n",
    "d3 = model(X_train, y_train, X_test, y_test, num_iterations=1000, learning_rate=0.005, print_cost=True)\n",
    "d4 = model(X_train, y_train, X_test, y_test, num_iterations=2000, learning_rate=0.005, print_cost=True)\n",
    "\n",
    "test_accuracys = [compute_test_accurate(d1['Y_prediction_test'], y_test),\n",
    "                  compute_test_accurate(d2['Y_prediction_test'], y_test),\n",
    "                  compute_test_accurate(d3['Y_prediction_test'], y_test),\n",
    "                  compute_test_accurate(d4['Y_prediction_test'], y_test)]\n",
    "test_accuracys\n",
    "num_iterations = [100, 500, 1000, 2000]\n",
    "plt.xlabel(\"num_iterations\")\n",
    "plt.ylabel(\"test_accuracys\")\n",
    "plt.plot(num_iterations, test_accuracys)"
   ]
  },
  {
   "cell_type": "markdown",
   "metadata": {},
   "source": [
    "# Challenge ! ! !\n",
    "\n",
    "The original data have images labeled 0,1,2,3,4,5,6,7,8,9. In our logistic model, we only detect if the digit in the image is larger or smaller than 5. Now, Let's go for a more challenging problem. Try to use softmax function to build a model to recognize which digits (0,1,2,3,4,5,6,7,8,9) is in the image."
   ]
  },
  {
   "cell_type": "markdown",
   "metadata": {},
   "source": [
    "**方案一：使用python实现**"
   ]
  },
  {
   "cell_type": "code",
   "execution_count": 120,
   "metadata": {},
   "outputs": [
    {
     "name": "stdout",
     "output_type": "stream",
     "text": [
      "iteration    0 loss: 2.226601 accuracy: 0.568671\n",
      "iteration   10 loss: 1.838038 accuracy: 0.511507\n",
      "iteration   20 loss: 1.407055 accuracy: 0.607275\n",
      "iteration   30 loss: 0.750025 accuracy: 0.766889\n",
      "iteration   40 loss: 0.470295 accuracy: 0.834447\n",
      "iteration   50 loss: 0.423350 accuracy: 0.845583\n",
      "iteration   60 loss: 0.478729 accuracy: 0.826281\n",
      "iteration   70 loss: 0.495541 accuracy: 0.825538\n",
      "iteration   80 loss: 0.417466 accuracy: 0.850037\n",
      "iteration   90 loss: 0.371389 accuracy: 0.866370\n",
      "iteration  100 loss: 0.364018 accuracy: 0.865627\n",
      "iteration  110 loss: 0.378374 accuracy: 0.858946\n",
      "iteration  120 loss: 0.387704 accuracy: 0.858946\n",
      "iteration  130 loss: 0.369523 accuracy: 0.864885\n",
      "iteration  140 loss: 0.342077 accuracy: 0.876021\n",
      "iteration  150 loss: 0.324834 accuracy: 0.881218\n",
      "iteration  160 loss: 0.319756 accuracy: 0.883445\n",
      "iteration  170 loss: 0.323732 accuracy: 0.881218\n",
      "iteration  180 loss: 0.331150 accuracy: 0.879733\n",
      "iteration  190 loss: 0.332528 accuracy: 0.879733\n",
      "iteration  200 loss: 0.322936 accuracy: 0.886414\n",
      "iteration  210 loss: 0.308892 accuracy: 0.887899\n",
      "iteration  220 loss: 0.298119 accuracy: 0.890869\n",
      "iteration  230 loss: 0.292812 accuracy: 0.890126\n",
      "iteration  240 loss: 0.292372 accuracy: 0.890869\n",
      "iteration  250 loss: 0.295617 accuracy: 0.890869\n",
      "iteration  260 loss: 0.300427 accuracy: 0.889384\n",
      "iteration  270 loss: 0.303115 accuracy: 0.889384\n",
      "iteration  280 loss: 0.300519 accuracy: 0.891611\n",
      "iteration  290 loss: 0.293527 accuracy: 0.894581\n",
      "iteration  300 loss: 0.285889 accuracy: 0.896065\n",
      "iteration  310 loss: 0.280236 accuracy: 0.897550\n",
      "iteration  320 loss: 0.277176 accuracy: 0.899777\n",
      "iteration  330 loss: 0.276428 accuracy: 0.899035\n",
      "iteration  340 loss: 0.277541 accuracy: 0.899035\n",
      "iteration  350 loss: 0.279921 accuracy: 0.898293\n",
      "iteration  360 loss: 0.282575 accuracy: 0.896065\n",
      "iteration  370 loss: 0.284101 accuracy: 0.893096\n",
      "iteration  380 loss: 0.283384 accuracy: 0.893838\n",
      "iteration  390 loss: 0.280504 accuracy: 0.898293\n",
      "iteration  400 loss: 0.276643 accuracy: 0.899777\n",
      "iteration  410 loss: 0.273054 accuracy: 0.900520\n",
      "iteration  420 loss: 0.270406 accuracy: 0.902747\n",
      "iteration  430 loss: 0.268845 accuracy: 0.903489\n",
      "iteration  440 loss: 0.268275 accuracy: 0.903489\n",
      "iteration  450 loss: 0.268525 accuracy: 0.902747\n",
      "iteration  460 loss: 0.269377 accuracy: 0.902004\n",
      "iteration  470 loss: 0.270538 accuracy: 0.902004\n",
      "iteration  480 loss: 0.271619 accuracy: 0.902004\n",
      "iteration  490 loss: 0.272203 accuracy: 0.900520\n"
     ]
    }
   ],
   "source": [
    "import numpy as np\n",
    "import matplotlib.pyplot as plt\n",
    "\n",
    "w = 0.01 * np.random.randn(64, 10)\n",
    "b = np.zeros((1, 10))\n",
    "\n",
    "learning_rate = 0.005\n",
    "#reg = 1e-3 # regularization strength\n",
    "\n",
    "\n",
    "# 获取训练样本数量\n",
    "num_examples = X_train.shape[0]\n",
    "losses = []\n",
    "num_iteratiors = []\n",
    "accuracys = []\n",
    "for i in range(500):\n",
    "\n",
    "    scores = np.dot(X_train, w) + b\n",
    "\n",
    "    exp_scores = np.exp(scores)\n",
    "    probs = exp_scores / np.sum(exp_scores, axis=1, keepdims=True)\n",
    "\n",
    "    correct_log_probs = -np.log(probs[range(num_examples), y_train])\n",
    "\n",
    "    data_loss = np.sum(correct_log_probs) / num_examples\n",
    "    # 计算正则项损失reg loss，使用L2正则\n",
    "    # reg就是lambda\n",
    "    #reg_loss = 0.5 * reg * np.sum(W * W)\n",
    "    # 计算总的损失函数\n",
    "    #loss = data_loss + reg_loss\n",
    "    loss = data_loss #+ reg_loss\n",
    "    \n",
    "    \n",
    "    dscores = probs\n",
    "    dscores[range(num_examples), y_train] -= 1\n",
    "    dscores /= num_examples\n",
    "\n",
    "    dw = np.dot(X_train.T, dscores)\n",
    "    db = np.sum(dscores, axis=0, keepdims=True)\n",
    "    #dW += reg * W # 正则项的梯度，dW不是第一次出现，必须累加\n",
    "\n",
    "    w = w - learning_rate * dw\n",
    "    b = b - learning_rate * db\n",
    "    \n",
    "    \n",
    "    scores = np.dot(X_train, w) + b\n",
    "    predicted_class = np.argmax(scores, axis=1)\n",
    "    \n",
    "    if i%10 == 0:\n",
    "        losses.append(loss)\n",
    "        num_iteratiors.append(i)\n",
    "        accuracys.append(np.mean(predicted_class == y_train))\n",
    "        print(\"iteration %4d loss: %f accuracy: %f\" % (i, loss, np.mean(predicted_class == y_train)))\n"
   ]
  },
  {
   "cell_type": "code",
   "execution_count": 124,
   "metadata": {
    "scrolled": true
   },
   "outputs": [
    {
     "data": {
      "text/plain": [
       "[<matplotlib.lines.Line2D at 0x7f933c72df28>]"
      ]
     },
     "execution_count": 124,
     "metadata": {},
     "output_type": "execute_result"
    },
    {
     "data": {
      "text/plain": [
       "Text(0.5, 0, 'num_iteratiors')"
      ]
     },
     "execution_count": 124,
     "metadata": {},
     "output_type": "execute_result"
    },
    {
     "data": {
      "text/plain": [
       "Text(0, 0.5, 'losses')"
      ]
     },
     "execution_count": 124,
     "metadata": {},
     "output_type": "execute_result"
    },
    {
     "data": {
      "text/plain": [
       "Text(0.5, 1.0, 'loss')"
      ]
     },
     "execution_count": 124,
     "metadata": {},
     "output_type": "execute_result"
    },
    {
     "data": {
      "image/png": "[encoded data removed]",
      "text/plain": [
       "<Figure size 432x288 with 1 Axes>"
      ]
     },
     "metadata": {
      "needs_background": "light"
     },
     "output_type": "display_data"
    }
   ],
   "source": [
    "plt.plot(num_iteratiors, losses)\n",
    "plt.xlabel(\"num_iteratiors\")\n",
    "plt.ylabel(\"losses\")\n",
    "plt.title(\"loss\")"
   ]
  },
  {
   "cell_type": "code",
   "execution_count": 127,
   "metadata": {},
   "outputs": [
    {
     "data": {
      "text/plain": [
       "[<matplotlib.lines.Line2D at 0x7f933c6f7be0>]"
      ]
     },
     "execution_count": 127,
     "metadata": {},
     "output_type": "execute_result"
    },
    {
     "data": {
      "text/plain": [
       "Text(0.5, 0, 'num_iteratiors')"
      ]
     },
     "execution_count": 127,
     "metadata": {},
     "output_type": "execute_result"
    },
    {
     "data": {
      "text/plain": [
       "Text(0, 0.5, 'accuracy')"
      ]
     },
     "execution_count": 127,
     "metadata": {},
     "output_type": "execute_result"
    },
    {
     "data": {
      "text/plain": [
       "Text(0.5, 1.0, 'accuracys')"
      ]
     },
     "execution_count": 127,
     "metadata": {},
     "output_type": "execute_result"
    },
    {
     "data": {
      "image/png": "[encoded data removed]",
      "text/plain": [
       "<Figure size 432x288 with 1 Axes>"
      ]
     },
     "metadata": {
      "needs_background": "light"
     },
     "output_type": "display_data"
    }
   ],
   "source": [
    "plt.plot(num_iteratiors, accuracys)\n",
    "plt.xlabel(\"num_iteratiors\")\n",
    "plt.ylabel(\"accuracy\")\n",
    "plt.title(\"accuracys\")"
   ]
  },
  {
   "cell_type": "markdown",
   "metadata": {},
   "source": [
    "**方案二：使用keras框架**"
   ]
  },
  {
   "cell_type": "code",
   "execution_count": 71,
   "metadata": {},
   "outputs": [],
   "source": [
    "from tensorflow.keras.layers import Dense\n",
    "from tensorflow.keras.models import Sequential\n",
    "from keras.utils.np_utils import to_categorical\n",
    "from sklearn.preprocessing import LabelEncoder\n",
    "from keras.wrappers.scikit_learn import KerasClassifier"
   ]
  },
  {
   "cell_type": "code",
   "execution_count": 88,
   "metadata": {},
   "outputs": [],
   "source": [
    "encoder = LabelEncoder()\n",
    "encoder_y_train = encoder.fit_transform(y_train)\n",
    "encoder_y_test = encoder.fit_transform(y_test)"
   ]
  },
  {
   "cell_type": "code",
   "execution_count": 89,
   "metadata": {},
   "outputs": [],
   "source": [
    "categorical_labels_train = to_categorical(encoder_y_train, num_classes=10)\n",
    "categorical_labels_test = to_categorical(encoder_y_test, num_classes=10)"
   ]
  },
  {
   "cell_type": "code",
   "execution_count": 90,
   "metadata": {},
   "outputs": [
    {
     "data": {
      "text/plain": [
       "(1347, 10)"
      ]
     },
     "execution_count": 90,
     "metadata": {},
     "output_type": "execute_result"
    },
    {
     "data": {
      "text/plain": [
       "(450, 10)"
      ]
     },
     "execution_count": 90,
     "metadata": {},
     "output_type": "execute_result"
    }
   ],
   "source": [
    "categorical_labels_train.shape\n",
    "categorical_labels_test.shape"
   ]
  },
  {
   "cell_type": "code",
   "execution_count": 75,
   "metadata": {},
   "outputs": [],
   "source": [
    "def baseline_model():\n",
    "    model = Sequential()\n",
    "    model.add(Dense(units = 10, activation = 'softmax', input_dim = 64))\n",
    "    model.compile(loss = 'categorical_crossentropy',\n",
    "              optimizer = 'adam',\n",
    "             metrics = ['accuracy'])\n",
    "    return model"
   ]
  },
  {
   "cell_type": "code",
   "execution_count": 76,
   "metadata": {},
   "outputs": [],
   "source": [
    "estimator = KerasClassifier(build_fn=baseline_model, epochs=200, batch_size=32)"
   ]
  },
  {
   "cell_type": "code",
   "execution_count": 94,
   "metadata": {},
   "outputs": [
    {
     "name": "stdout",
     "output_type": "stream",
     "text": [
      "Train on 1347 samples, validate on 450 samples\n",
      "Epoch 1/200\n",
      "1347/1347 [==============================] - 0s 365us/sample - loss: 15.5491 - accuracy: 0.1477 - val_loss: 9.1920 - val_accuracy: 0.2356\n",
      "Epoch 2/200\n",
      "1347/1347 [==============================] - 0s 94us/sample - loss: 4.9451 - accuracy: 0.3868 - val_loss: 2.7738 - val_accuracy: 0.4956\n",
      "Epoch 3/200\n",
      "1347/1347 [==============================] - 0s 98us/sample - loss: 2.3137 - accuracy: 0.5509 - val_loss: 2.0487 - val_accuracy: 0.5644\n",
      "Epoch 4/200\n",
      "1347/1347 [==============================] - 0s 106us/sample - loss: 1.7434 - accuracy: 0.6021 - val_loss: 1.6432 - val_accuracy: 0.5889\n",
      "Epoch 5/200\n",
      "1347/1347 [==============================] - 0s 120us/sample - loss: 1.3779 - accuracy: 0.6377 - val_loss: 1.3568 - val_accuracy: 0.6244\n",
      "Epoch 6/200\n",
      "1347/1347 [==============================] - 0s 98us/sample - loss: 1.1269 - accuracy: 0.6808 - val_loss: 1.1658 - val_accuracy: 0.6622\n",
      "Epoch 7/200\n",
      "1347/1347 [==============================] - 0s 129us/sample - loss: 0.9620 - accuracy: 0.7134 - val_loss: 1.0467 - val_accuracy: 0.6933\n",
      "Epoch 8/200\n",
      "1347/1347 [==============================] - 0s 131us/sample - loss: 0.8293 - accuracy: 0.7372 - val_loss: 0.8909 - val_accuracy: 0.7111\n",
      "Epoch 9/200\n",
      "1347/1347 [==============================] - 0s 120us/sample - loss: 0.7266 - accuracy: 0.7543 - val_loss: 0.7985 - val_accuracy: 0.7222\n",
      "Epoch 10/200\n",
      "1347/1347 [==============================] - 0s 113us/sample - loss: 0.6542 - accuracy: 0.7758 - val_loss: 0.7398 - val_accuracy: 0.7489\n",
      "Epoch 11/200\n",
      "1347/1347 [==============================] - 0s 118us/sample - loss: 0.5921 - accuracy: 0.7929 - val_loss: 0.6649 - val_accuracy: 0.7600\n",
      "Epoch 12/200\n",
      "1347/1347 [==============================] - 0s 118us/sample - loss: 0.5442 - accuracy: 0.8018 - val_loss: 0.6183 - val_accuracy: 0.7778\n",
      "Epoch 13/200\n",
      "1347/1347 [==============================] - 0s 102us/sample - loss: 0.5134 - accuracy: 0.8099 - val_loss: 0.5859 - val_accuracy: 0.7956\n",
      "Epoch 14/200\n",
      "1347/1347 [==============================] - 0s 94us/sample - loss: 0.4796 - accuracy: 0.8218 - val_loss: 0.5544 - val_accuracy: 0.8067\n",
      "Epoch 15/200\n",
      "1347/1347 [==============================] - 0s 100us/sample - loss: 0.4542 - accuracy: 0.8352 - val_loss: 0.5319 - val_accuracy: 0.8156\n",
      "Epoch 16/200\n",
      "1347/1347 [==============================] - 0s 102us/sample - loss: 0.4363 - accuracy: 0.8374 - val_loss: 0.5054 - val_accuracy: 0.8133\n",
      "Epoch 17/200\n",
      "1347/1347 [==============================] - 0s 103us/sample - loss: 0.4216 - accuracy: 0.8389 - val_loss: 0.4818 - val_accuracy: 0.8289\n",
      "Epoch 18/200\n",
      "1347/1347 [==============================] - 0s 121us/sample - loss: 0.4008 - accuracy: 0.8478 - val_loss: 0.4671 - val_accuracy: 0.8289\n",
      "Epoch 19/200\n",
      "1347/1347 [==============================] - 0s 121us/sample - loss: 0.3872 - accuracy: 0.8486 - val_loss: 0.4611 - val_accuracy: 0.8267\n",
      "Epoch 20/200\n",
      "1347/1347 [==============================] - 0s 114us/sample - loss: 0.3742 - accuracy: 0.8523 - val_loss: 0.4694 - val_accuracy: 0.8289\n",
      "Epoch 21/200\n",
      "1347/1347 [==============================] - 0s 104us/sample - loss: 0.3639 - accuracy: 0.8560 - val_loss: 0.4219 - val_accuracy: 0.8333\n",
      "Epoch 22/200\n",
      "1347/1347 [==============================] - 0s 100us/sample - loss: 0.3501 - accuracy: 0.8597 - val_loss: 0.4120 - val_accuracy: 0.8400\n",
      "Epoch 23/200\n",
      "1347/1347 [==============================] - 0s 98us/sample - loss: 0.3430 - accuracy: 0.8686 - val_loss: 0.3952 - val_accuracy: 0.8422\n",
      "Epoch 24/200\n",
      "1347/1347 [==============================] - 0s 98us/sample - loss: 0.3361 - accuracy: 0.8686 - val_loss: 0.3882 - val_accuracy: 0.8489\n",
      "Epoch 25/200\n",
      "1347/1347 [==============================] - 0s 101us/sample - loss: 0.3307 - accuracy: 0.8693 - val_loss: 0.3728 - val_accuracy: 0.8444\n",
      "Epoch 26/200\n",
      "1347/1347 [==============================] - 0s 111us/sample - loss: 0.3266 - accuracy: 0.8723 - val_loss: 0.3648 - val_accuracy: 0.8444\n",
      "Epoch 27/200\n",
      "1347/1347 [==============================] - 0s 112us/sample - loss: 0.3225 - accuracy: 0.8716 - val_loss: 0.3605 - val_accuracy: 0.8467\n",
      "Epoch 28/200\n",
      "1347/1347 [==============================] - 0s 123us/sample - loss: 0.3146 - accuracy: 0.8782 - val_loss: 0.3458 - val_accuracy: 0.8533\n",
      "Epoch 29/200\n",
      "1347/1347 [==============================] - 0s 101us/sample - loss: 0.3078 - accuracy: 0.8790 - val_loss: 0.3417 - val_accuracy: 0.8489\n",
      "Epoch 30/200\n",
      "1347/1347 [==============================] - 0s 114us/sample - loss: 0.3043 - accuracy: 0.8827 - val_loss: 0.3348 - val_accuracy: 0.8578\n",
      "Epoch 31/200\n",
      "1347/1347 [==============================] - 0s 121us/sample - loss: 0.2996 - accuracy: 0.8797 - val_loss: 0.3300 - val_accuracy: 0.8578\n",
      "Epoch 32/200\n",
      "1347/1347 [==============================] - 0s 109us/sample - loss: 0.2937 - accuracy: 0.8820 - val_loss: 0.3285 - val_accuracy: 0.8622\n",
      "Epoch 33/200\n",
      "1347/1347 [==============================] - 0s 121us/sample - loss: 0.2904 - accuracy: 0.8805 - val_loss: 0.3267 - val_accuracy: 0.8533\n",
      "Epoch 34/200\n",
      "1347/1347 [==============================] - 0s 128us/sample - loss: 0.2876 - accuracy: 0.8812 - val_loss: 0.3173 - val_accuracy: 0.8622\n",
      "Epoch 35/200\n",
      "1347/1347 [==============================] - 0s 113us/sample - loss: 0.2830 - accuracy: 0.8864 - val_loss: 0.3164 - val_accuracy: 0.8622\n",
      "Epoch 36/200\n",
      "1347/1347 [==============================] - 0s 121us/sample - loss: 0.2865 - accuracy: 0.8857 - val_loss: 0.3115 - val_accuracy: 0.8622\n",
      "Epoch 37/200\n",
      "1347/1347 [==============================] - 0s 90us/sample - loss: 0.2831 - accuracy: 0.8894 - val_loss: 0.3259 - val_accuracy: 0.8644\n",
      "Epoch 38/200\n",
      "1347/1347 [==============================] - 0s 89us/sample - loss: 0.2775 - accuracy: 0.8968 - val_loss: 0.3193 - val_accuracy: 0.8711\n",
      "Epoch 39/200\n",
      "1347/1347 [==============================] - 0s 99us/sample - loss: 0.2766 - accuracy: 0.8938 - val_loss: 0.3017 - val_accuracy: 0.8711\n",
      "Epoch 40/200\n",
      "1347/1347 [==============================] - 0s 95us/sample - loss: 0.2724 - accuracy: 0.8998 - val_loss: 0.3082 - val_accuracy: 0.8711\n",
      "Epoch 41/200\n",
      "1347/1347 [==============================] - 0s 93us/sample - loss: 0.2742 - accuracy: 0.8924 - val_loss: 0.3077 - val_accuracy: 0.8689\n",
      "Epoch 42/200\n",
      "1347/1347 [==============================] - 0s 100us/sample - loss: 0.2708 - accuracy: 0.8894 - val_loss: 0.2972 - val_accuracy: 0.8822\n",
      "Epoch 43/200\n",
      "1347/1347 [==============================] - 0s 94us/sample - loss: 0.2706 - accuracy: 0.8872 - val_loss: 0.2955 - val_accuracy: 0.8800\n",
      "Epoch 44/200\n",
      "1347/1347 [==============================] - 0s 123us/sample - loss: 0.2669 - accuracy: 0.8909 - val_loss: 0.2980 - val_accuracy: 0.8800\n",
      "Epoch 45/200\n",
      "1347/1347 [==============================] - 0s 123us/sample - loss: 0.2681 - accuracy: 0.8894 - val_loss: 0.2953 - val_accuracy: 0.8844\n",
      "Epoch 46/200\n",
      "1347/1347 [==============================] - 0s 97us/sample - loss: 0.2809 - accuracy: 0.8886 - val_loss: 0.3016 - val_accuracy: 0.8800\n",
      "Epoch 47/200\n",
      "1347/1347 [==============================] - 0s 99us/sample - loss: 0.2652 - accuracy: 0.8983 - val_loss: 0.3063 - val_accuracy: 0.8689\n",
      "Epoch 48/200\n",
      "1347/1347 [==============================] - 0s 124us/sample - loss: 0.2670 - accuracy: 0.8946 - val_loss: 0.2895 - val_accuracy: 0.8844\n",
      "Epoch 49/200\n",
      "1347/1347 [==============================] - 0s 128us/sample - loss: 0.2690 - accuracy: 0.8938 - val_loss: 0.2907 - val_accuracy: 0.8911\n",
      "Epoch 50/200\n",
      "1347/1347 [==============================] - 0s 100us/sample - loss: 0.2651 - accuracy: 0.8968 - val_loss: 0.2891 - val_accuracy: 0.8933\n",
      "Epoch 51/200\n",
      "1347/1347 [==============================] - 0s 125us/sample - loss: 0.2618 - accuracy: 0.8931 - val_loss: 0.2894 - val_accuracy: 0.8911\n",
      "Epoch 52/200\n",
      "1347/1347 [==============================] - 0s 124us/sample - loss: 0.2607 - accuracy: 0.8953 - val_loss: 0.2897 - val_accuracy: 0.8889\n",
      "Epoch 53/200\n",
      "1347/1347 [==============================] - 0s 97us/sample - loss: 0.2692 - accuracy: 0.8886 - val_loss: 0.2939 - val_accuracy: 0.8822\n",
      "Epoch 54/200\n",
      "1347/1347 [==============================] - 0s 96us/sample - loss: 0.2625 - accuracy: 0.8916 - val_loss: 0.2834 - val_accuracy: 0.8911\n",
      "Epoch 55/200\n"
     ]
    },
    {
     "name": "stdout",
     "output_type": "stream",
     "text": [
      "1347/1347 [==============================] - 0s 98us/sample - loss: 0.2632 - accuracy: 0.8961 - val_loss: 0.3001 - val_accuracy: 0.8822\n",
      "Epoch 56/200\n",
      "1347/1347 [==============================] - 0s 89us/sample - loss: 0.2629 - accuracy: 0.8953 - val_loss: 0.2941 - val_accuracy: 0.8844\n",
      "Epoch 57/200\n",
      "1347/1347 [==============================] - 0s 95us/sample - loss: 0.2617 - accuracy: 0.8924 - val_loss: 0.2827 - val_accuracy: 0.8956\n",
      "Epoch 58/200\n",
      "1347/1347 [==============================] - 0s 96us/sample - loss: 0.2591 - accuracy: 0.8961 - val_loss: 0.2849 - val_accuracy: 0.8911\n",
      "Epoch 59/200\n",
      "1347/1347 [==============================] - 0s 93us/sample - loss: 0.2622 - accuracy: 0.8946 - val_loss: 0.2806 - val_accuracy: 0.8978\n",
      "Epoch 60/200\n",
      "1347/1347 [==============================] - 0s 86us/sample - loss: 0.2578 - accuracy: 0.8961 - val_loss: 0.2809 - val_accuracy: 0.8911\n",
      "Epoch 61/200\n",
      "1347/1347 [==============================] - 0s 111us/sample - loss: 0.2577 - accuracy: 0.9035 - val_loss: 0.2854 - val_accuracy: 0.8889\n",
      "Epoch 62/200\n",
      "1347/1347 [==============================] - 0s 97us/sample - loss: 0.2624 - accuracy: 0.8976 - val_loss: 0.2803 - val_accuracy: 0.9000\n",
      "Epoch 63/200\n",
      "1347/1347 [==============================] - 0s 92us/sample - loss: 0.2665 - accuracy: 0.8901 - val_loss: 0.2891 - val_accuracy: 0.8756\n",
      "Epoch 64/200\n",
      "1347/1347 [==============================] - 0s 90us/sample - loss: 0.2624 - accuracy: 0.8968 - val_loss: 0.2776 - val_accuracy: 0.8978\n",
      "Epoch 65/200\n",
      "1347/1347 [==============================] - 0s 86us/sample - loss: 0.2573 - accuracy: 0.9020 - val_loss: 0.2998 - val_accuracy: 0.8756\n",
      "Epoch 66/200\n",
      "1347/1347 [==============================] - 0s 97us/sample - loss: 0.2582 - accuracy: 0.8990 - val_loss: 0.2792 - val_accuracy: 0.8911\n",
      "Epoch 67/200\n",
      "1347/1347 [==============================] - 0s 106us/sample - loss: 0.2602 - accuracy: 0.8924 - val_loss: 0.2768 - val_accuracy: 0.8956\n",
      "Epoch 68/200\n",
      "1347/1347 [==============================] - 0s 109us/sample - loss: 0.2544 - accuracy: 0.8968 - val_loss: 0.2795 - val_accuracy: 0.8956\n",
      "Epoch 69/200\n",
      "1347/1347 [==============================] - 0s 95us/sample - loss: 0.2566 - accuracy: 0.8953 - val_loss: 0.2884 - val_accuracy: 0.8844\n",
      "Epoch 70/200\n",
      "1347/1347 [==============================] - 0s 86us/sample - loss: 0.2550 - accuracy: 0.8983 - val_loss: 0.2820 - val_accuracy: 0.8956\n",
      "Epoch 71/200\n",
      "1347/1347 [==============================] - 0s 92us/sample - loss: 0.2605 - accuracy: 0.8953 - val_loss: 0.3036 - val_accuracy: 0.8778\n",
      "Epoch 72/200\n",
      "1347/1347 [==============================] - 0s 100us/sample - loss: 0.2530 - accuracy: 0.9005 - val_loss: 0.2752 - val_accuracy: 0.8956\n",
      "Epoch 73/200\n",
      "1347/1347 [==============================] - 0s 90us/sample - loss: 0.2521 - accuracy: 0.9005 - val_loss: 0.2766 - val_accuracy: 0.9000\n",
      "Epoch 74/200\n",
      "1347/1347 [==============================] - 0s 108us/sample - loss: 0.2627 - accuracy: 0.8968 - val_loss: 0.2807 - val_accuracy: 0.8911\n",
      "Epoch 75/200\n",
      "1347/1347 [==============================] - 0s 106us/sample - loss: 0.2612 - accuracy: 0.8983 - val_loss: 0.2862 - val_accuracy: 0.8889\n",
      "Epoch 76/200\n",
      "1347/1347 [==============================] - 0s 90us/sample - loss: 0.2529 - accuracy: 0.9050 - val_loss: 0.2779 - val_accuracy: 0.8956\n",
      "Epoch 77/200\n",
      "1347/1347 [==============================] - 0s 96us/sample - loss: 0.2527 - accuracy: 0.9020 - val_loss: 0.2795 - val_accuracy: 0.8911\n",
      "Epoch 78/200\n",
      "1347/1347 [==============================] - 0s 87us/sample - loss: 0.2587 - accuracy: 0.8938 - val_loss: 0.2832 - val_accuracy: 0.8911\n",
      "Epoch 79/200\n",
      "1347/1347 [==============================] - 0s 81us/sample - loss: 0.2583 - accuracy: 0.8976 - val_loss: 0.3078 - val_accuracy: 0.8756\n",
      "Epoch 80/200\n",
      "1347/1347 [==============================] - 0s 88us/sample - loss: 0.2584 - accuracy: 0.8990 - val_loss: 0.2740 - val_accuracy: 0.8978\n",
      "Epoch 81/200\n",
      "1347/1347 [==============================] - 0s 90us/sample - loss: 0.2607 - accuracy: 0.8924 - val_loss: 0.2729 - val_accuracy: 0.9022\n",
      "Epoch 82/200\n",
      "1347/1347 [==============================] - 0s 95us/sample - loss: 0.2545 - accuracy: 0.9013 - val_loss: 0.2821 - val_accuracy: 0.8956\n",
      "Epoch 83/200\n",
      "1347/1347 [==============================] - 0s 88us/sample - loss: 0.2563 - accuracy: 0.9005 - val_loss: 0.2819 - val_accuracy: 0.8844\n",
      "Epoch 84/200\n",
      "1347/1347 [==============================] - 0s 97us/sample - loss: 0.2556 - accuracy: 0.9050 - val_loss: 0.2780 - val_accuracy: 0.8889\n",
      "Epoch 85/200\n",
      "1347/1347 [==============================] - 0s 100us/sample - loss: 0.2535 - accuracy: 0.8998 - val_loss: 0.2771 - val_accuracy: 0.9044\n",
      "Epoch 86/200\n",
      "1347/1347 [==============================] - 0s 120us/sample - loss: 0.2611 - accuracy: 0.8961 - val_loss: 0.2780 - val_accuracy: 0.8889\n",
      "Epoch 87/200\n",
      "1347/1347 [==============================] - 0s 93us/sample - loss: 0.2593 - accuracy: 0.9027 - val_loss: 0.2757 - val_accuracy: 0.9000\n",
      "Epoch 88/200\n",
      "1347/1347 [==============================] - 0s 90us/sample - loss: 0.2509 - accuracy: 0.9079 - val_loss: 0.2800 - val_accuracy: 0.9000\n",
      "Epoch 89/200\n",
      "1347/1347 [==============================] - 0s 104us/sample - loss: 0.2499 - accuracy: 0.9005 - val_loss: 0.2771 - val_accuracy: 0.8911\n",
      "Epoch 90/200\n",
      "1347/1347 [==============================] - 0s 101us/sample - loss: 0.2501 - accuracy: 0.9005 - val_loss: 0.2771 - val_accuracy: 0.8978\n",
      "Epoch 91/200\n",
      "1347/1347 [==============================] - 0s 87us/sample - loss: 0.2545 - accuracy: 0.9005 - val_loss: 0.2866 - val_accuracy: 0.8889\n",
      "Epoch 92/200\n",
      "1347/1347 [==============================] - 0s 100us/sample - loss: 0.2603 - accuracy: 0.9005 - val_loss: 0.2766 - val_accuracy: 0.9000\n",
      "Epoch 93/200\n",
      "1347/1347 [==============================] - 0s 89us/sample - loss: 0.2554 - accuracy: 0.9005 - val_loss: 0.2802 - val_accuracy: 0.8911\n",
      "Epoch 94/200\n",
      "1347/1347 [==============================] - 0s 98us/sample - loss: 0.2597 - accuracy: 0.8968 - val_loss: 0.2791 - val_accuracy: 0.8911\n",
      "Epoch 95/200\n",
      "1347/1347 [==============================] - 0s 87us/sample - loss: 0.2527 - accuracy: 0.9065 - val_loss: 0.2775 - val_accuracy: 0.8933\n",
      "Epoch 96/200\n",
      "1347/1347 [==============================] - 0s 91us/sample - loss: 0.2486 - accuracy: 0.9013 - val_loss: 0.2762 - val_accuracy: 0.8978\n",
      "Epoch 97/200\n",
      "1347/1347 [==============================] - 0s 95us/sample - loss: 0.2499 - accuracy: 0.9079 - val_loss: 0.2845 - val_accuracy: 0.8889\n",
      "Epoch 98/200\n",
      "1347/1347 [==============================] - 0s 100us/sample - loss: 0.2514 - accuracy: 0.9042 - val_loss: 0.2759 - val_accuracy: 0.9044\n",
      "Epoch 99/200\n",
      "1347/1347 [==============================] - 0s 105us/sample - loss: 0.2524 - accuracy: 0.8976 - val_loss: 0.2763 - val_accuracy: 0.9000\n",
      "Epoch 100/200\n",
      "1347/1347 [==============================] - 0s 95us/sample - loss: 0.2521 - accuracy: 0.9013 - val_loss: 0.2736 - val_accuracy: 0.9022\n",
      "Epoch 101/200\n",
      "1347/1347 [==============================] - 0s 91us/sample - loss: 0.2575 - accuracy: 0.9042 - val_loss: 0.2779 - val_accuracy: 0.8956\n",
      "Epoch 102/200\n",
      "1347/1347 [==============================] - 0s 98us/sample - loss: 0.2513 - accuracy: 0.9079 - val_loss: 0.2840 - val_accuracy: 0.8933\n",
      "Epoch 103/200\n",
      "1347/1347 [==============================] - 0s 86us/sample - loss: 0.2592 - accuracy: 0.8961 - val_loss: 0.2744 - val_accuracy: 0.9000\n",
      "Epoch 104/200\n",
      "1347/1347 [==============================] - 0s 85us/sample - loss: 0.2488 - accuracy: 0.9042 - val_loss: 0.2740 - val_accuracy: 0.9000\n",
      "Epoch 105/200\n",
      "1347/1347 [==============================] - 0s 91us/sample - loss: 0.2484 - accuracy: 0.9005 - val_loss: 0.2749 - val_accuracy: 0.9000\n",
      "Epoch 106/200\n",
      "1347/1347 [==============================] - 0s 90us/sample - loss: 0.2504 - accuracy: 0.9042 - val_loss: 0.2759 - val_accuracy: 0.8978\n",
      "Epoch 107/200\n",
      "1347/1347 [==============================] - 0s 97us/sample - loss: 0.2498 - accuracy: 0.9057 - val_loss: 0.2865 - val_accuracy: 0.8867\n",
      "Epoch 108/200\n",
      "1347/1347 [==============================] - 0s 94us/sample - loss: 0.2522 - accuracy: 0.9005 - val_loss: 0.2735 - val_accuracy: 0.8933\n",
      "Epoch 109/200\n",
      "1347/1347 [==============================] - 0s 100us/sample - loss: 0.2555 - accuracy: 0.8976 - val_loss: 0.2842 - val_accuracy: 0.8889\n"
     ]
    },
    {
     "name": "stdout",
     "output_type": "stream",
     "text": [
      "Epoch 110/200\n",
      "1347/1347 [==============================] - 0s 87us/sample - loss: 0.2581 - accuracy: 0.9065 - val_loss: 0.2780 - val_accuracy: 0.9022\n",
      "Epoch 111/200\n",
      "1347/1347 [==============================] - 0s 94us/sample - loss: 0.2549 - accuracy: 0.8998 - val_loss: 0.2760 - val_accuracy: 0.8933\n",
      "Epoch 112/200\n",
      "1347/1347 [==============================] - 0s 94us/sample - loss: 0.2502 - accuracy: 0.9027 - val_loss: 0.2730 - val_accuracy: 0.8978\n",
      "Epoch 113/200\n",
      "1347/1347 [==============================] - 0s 91us/sample - loss: 0.2505 - accuracy: 0.8990 - val_loss: 0.2781 - val_accuracy: 0.9000\n",
      "Epoch 114/200\n",
      "1347/1347 [==============================] - 0s 95us/sample - loss: 0.2511 - accuracy: 0.9035 - val_loss: 0.2737 - val_accuracy: 0.9000\n",
      "Epoch 115/200\n",
      "1347/1347 [==============================] - 0s 92us/sample - loss: 0.2480 - accuracy: 0.9013 - val_loss: 0.2761 - val_accuracy: 0.9000\n",
      "Epoch 116/200\n",
      "1347/1347 [==============================] - 0s 95us/sample - loss: 0.2480 - accuracy: 0.9057 - val_loss: 0.2785 - val_accuracy: 0.8911\n",
      "Epoch 117/200\n",
      "1347/1347 [==============================] - 0s 94us/sample - loss: 0.2560 - accuracy: 0.9072 - val_loss: 0.2773 - val_accuracy: 0.8956\n",
      "Epoch 118/200\n",
      "1347/1347 [==============================] - 0s 97us/sample - loss: 0.2491 - accuracy: 0.9050 - val_loss: 0.2761 - val_accuracy: 0.9067\n",
      "Epoch 119/200\n",
      "1347/1347 [==============================] - 0s 87us/sample - loss: 0.2479 - accuracy: 0.9072 - val_loss: 0.2748 - val_accuracy: 0.8978\n",
      "Epoch 120/200\n",
      "1347/1347 [==============================] - 0s 95us/sample - loss: 0.2514 - accuracy: 0.9020 - val_loss: 0.2781 - val_accuracy: 0.8978\n",
      "Epoch 121/200\n",
      "1347/1347 [==============================] - 0s 92us/sample - loss: 0.2512 - accuracy: 0.9027 - val_loss: 0.2789 - val_accuracy: 0.8933\n",
      "Epoch 122/200\n",
      "1347/1347 [==============================] - 0s 87us/sample - loss: 0.2510 - accuracy: 0.9050 - val_loss: 0.2823 - val_accuracy: 0.8911\n",
      "Epoch 123/200\n",
      "1347/1347 [==============================] - 0s 101us/sample - loss: 0.2487 - accuracy: 0.9094 - val_loss: 0.2768 - val_accuracy: 0.8978\n",
      "Epoch 124/200\n",
      "1347/1347 [==============================] - 0s 102us/sample - loss: 0.2488 - accuracy: 0.9072 - val_loss: 0.2776 - val_accuracy: 0.9000\n",
      "Epoch 125/200\n",
      "1347/1347 [==============================] - 0s 102us/sample - loss: 0.2546 - accuracy: 0.9013 - val_loss: 0.2751 - val_accuracy: 0.9044\n",
      "Epoch 126/200\n",
      "1347/1347 [==============================] - 0s 87us/sample - loss: 0.2579 - accuracy: 0.8976 - val_loss: 0.2740 - val_accuracy: 0.8956\n",
      "Epoch 127/200\n",
      "1347/1347 [==============================] - 0s 96us/sample - loss: 0.2520 - accuracy: 0.9020 - val_loss: 0.2768 - val_accuracy: 0.9000\n",
      "Epoch 128/200\n",
      "1347/1347 [==============================] - 0s 91us/sample - loss: 0.2674 - accuracy: 0.8998 - val_loss: 0.2941 - val_accuracy: 0.8844\n",
      "Epoch 129/200\n",
      "1347/1347 [==============================] - 0s 91us/sample - loss: 0.2541 - accuracy: 0.9079 - val_loss: 0.2828 - val_accuracy: 0.8933\n",
      "Epoch 130/200\n",
      "1347/1347 [==============================] - 0s 91us/sample - loss: 0.2525 - accuracy: 0.9005 - val_loss: 0.2821 - val_accuracy: 0.8933\n",
      "Epoch 131/200\n",
      "1347/1347 [==============================] - 0s 100us/sample - loss: 0.2494 - accuracy: 0.9035 - val_loss: 0.2752 - val_accuracy: 0.8956\n",
      "Epoch 132/200\n",
      "1347/1347 [==============================] - 0s 99us/sample - loss: 0.2473 - accuracy: 0.9035 - val_loss: 0.2836 - val_accuracy: 0.8933\n",
      "Epoch 133/200\n",
      "1347/1347 [==============================] - 0s 87us/sample - loss: 0.2509 - accuracy: 0.9005 - val_loss: 0.2738 - val_accuracy: 0.9044\n",
      "Epoch 134/200\n",
      "1347/1347 [==============================] - 0s 86us/sample - loss: 0.2476 - accuracy: 0.9065 - val_loss: 0.2744 - val_accuracy: 0.9067\n",
      "Epoch 135/200\n",
      "1347/1347 [==============================] - 0s 118us/sample - loss: 0.2513 - accuracy: 0.9072 - val_loss: 0.2766 - val_accuracy: 0.8889\n",
      "Epoch 136/200\n",
      "1347/1347 [==============================] - 0s 120us/sample - loss: 0.2518 - accuracy: 0.9027 - val_loss: 0.2752 - val_accuracy: 0.8978\n",
      "Epoch 137/200\n",
      "1347/1347 [==============================] - 0s 109us/sample - loss: 0.2575 - accuracy: 0.8968 - val_loss: 0.2833 - val_accuracy: 0.8911\n",
      "Epoch 138/200\n",
      "1347/1347 [==============================] - 0s 114us/sample - loss: 0.2613 - accuracy: 0.8983 - val_loss: 0.2794 - val_accuracy: 0.8978\n",
      "Epoch 139/200\n",
      "1347/1347 [==============================] - 0s 121us/sample - loss: 0.2686 - accuracy: 0.8983 - val_loss: 0.2809 - val_accuracy: 0.8911\n",
      "Epoch 140/200\n",
      "1347/1347 [==============================] - 0s 108us/sample - loss: 0.2572 - accuracy: 0.8983 - val_loss: 0.2797 - val_accuracy: 0.8911\n",
      "Epoch 141/200\n",
      "1347/1347 [==============================] - 0s 111us/sample - loss: 0.2557 - accuracy: 0.9050 - val_loss: 0.2945 - val_accuracy: 0.8867\n",
      "Epoch 142/200\n",
      "1347/1347 [==============================] - 0s 101us/sample - loss: 0.2504 - accuracy: 0.8990 - val_loss: 0.2741 - val_accuracy: 0.9000\n",
      "Epoch 143/200\n",
      "1347/1347 [==============================] - 0s 97us/sample - loss: 0.2503 - accuracy: 0.9042 - val_loss: 0.2925 - val_accuracy: 0.8867\n",
      "Epoch 144/200\n",
      "1347/1347 [==============================] - 0s 105us/sample - loss: 0.2608 - accuracy: 0.9013 - val_loss: 0.2798 - val_accuracy: 0.8956\n",
      "Epoch 145/200\n",
      "1347/1347 [==============================] - 0s 100us/sample - loss: 0.2520 - accuracy: 0.9035 - val_loss: 0.2762 - val_accuracy: 0.8978\n",
      "Epoch 146/200\n",
      "1347/1347 [==============================] - 0s 100us/sample - loss: 0.2615 - accuracy: 0.8968 - val_loss: 0.2878 - val_accuracy: 0.8889\n",
      "Epoch 147/200\n",
      "1347/1347 [==============================] - 0s 101us/sample - loss: 0.2509 - accuracy: 0.9035 - val_loss: 0.2731 - val_accuracy: 0.8978\n",
      "Epoch 148/200\n",
      "1347/1347 [==============================] - 0s 100us/sample - loss: 0.2471 - accuracy: 0.9013 - val_loss: 0.2855 - val_accuracy: 0.8867\n",
      "Epoch 149/200\n",
      "1347/1347 [==============================] - 0s 92us/sample - loss: 0.2516 - accuracy: 0.9035 - val_loss: 0.2750 - val_accuracy: 0.8978\n",
      "Epoch 150/200\n",
      "1347/1347 [==============================] - 0s 97us/sample - loss: 0.2531 - accuracy: 0.8968 - val_loss: 0.2730 - val_accuracy: 0.9044\n",
      "Epoch 151/200\n",
      "1347/1347 [==============================] - 0s 96us/sample - loss: 0.2507 - accuracy: 0.9042 - val_loss: 0.2742 - val_accuracy: 0.9000\n",
      "Epoch 152/200\n",
      "1347/1347 [==============================] - 0s 102us/sample - loss: 0.2500 - accuracy: 0.9027 - val_loss: 0.2786 - val_accuracy: 0.8956\n",
      "Epoch 153/200\n",
      "1347/1347 [==============================] - 0s 96us/sample - loss: 0.2625 - accuracy: 0.9013 - val_loss: 0.2740 - val_accuracy: 0.8933\n",
      "Epoch 154/200\n",
      "1347/1347 [==============================] - 0s 100us/sample - loss: 0.2500 - accuracy: 0.9079 - val_loss: 0.2744 - val_accuracy: 0.9044\n",
      "Epoch 155/200\n",
      "1347/1347 [==============================] - 0s 97us/sample - loss: 0.2526 - accuracy: 0.9020 - val_loss: 0.2736 - val_accuracy: 0.9044\n",
      "Epoch 156/200\n",
      "1347/1347 [==============================] - 0s 96us/sample - loss: 0.2552 - accuracy: 0.9020 - val_loss: 0.2725 - val_accuracy: 0.8933\n",
      "Epoch 157/200\n",
      "1347/1347 [==============================] - 0s 103us/sample - loss: 0.2516 - accuracy: 0.9057 - val_loss: 0.2757 - val_accuracy: 0.8956\n",
      "Epoch 158/200\n",
      "1347/1347 [==============================] - 0s 100us/sample - loss: 0.2611 - accuracy: 0.9005 - val_loss: 0.2982 - val_accuracy: 0.8822\n",
      "Epoch 159/200\n",
      "1347/1347 [==============================] - 0s 106us/sample - loss: 0.2567 - accuracy: 0.8953 - val_loss: 0.2785 - val_accuracy: 0.8933\n",
      "Epoch 160/200\n",
      "1347/1347 [==============================] - 0s 97us/sample - loss: 0.2487 - accuracy: 0.9087 - val_loss: 0.2827 - val_accuracy: 0.8911\n",
      "Epoch 161/200\n",
      "1347/1347 [==============================] - 0s 101us/sample - loss: 0.2501 - accuracy: 0.9027 - val_loss: 0.2767 - val_accuracy: 0.8978\n",
      "Epoch 162/200\n",
      "1347/1347 [==============================] - 0s 101us/sample - loss: 0.2628 - accuracy: 0.9020 - val_loss: 0.2799 - val_accuracy: 0.9000\n",
      "Epoch 163/200\n",
      "1347/1347 [==============================] - 0s 122us/sample - loss: 0.2503 - accuracy: 0.9072 - val_loss: 0.2749 - val_accuracy: 0.9000\n",
      "Epoch 164/200\n"
     ]
    },
    {
     "name": "stdout",
     "output_type": "stream",
     "text": [
      "1347/1347 [==============================] - 0s 115us/sample - loss: 0.2495 - accuracy: 0.9027 - val_loss: 0.2774 - val_accuracy: 0.8956\n",
      "Epoch 165/200\n",
      "1347/1347 [==============================] - 0s 96us/sample - loss: 0.2529 - accuracy: 0.9065 - val_loss: 0.2771 - val_accuracy: 0.9022\n",
      "Epoch 166/200\n",
      "1347/1347 [==============================] - 0s 97us/sample - loss: 0.2477 - accuracy: 0.9035 - val_loss: 0.2758 - val_accuracy: 0.8978\n",
      "Epoch 167/200\n",
      "1347/1347 [==============================] - 0s 88us/sample - loss: 0.2481 - accuracy: 0.9079 - val_loss: 0.2863 - val_accuracy: 0.8867\n",
      "Epoch 168/200\n",
      "1347/1347 [==============================] - 0s 91us/sample - loss: 0.2493 - accuracy: 0.9072 - val_loss: 0.2891 - val_accuracy: 0.8867\n",
      "Epoch 169/200\n",
      "1347/1347 [==============================] - 0s 91us/sample - loss: 0.2490 - accuracy: 0.9057 - val_loss: 0.2792 - val_accuracy: 0.8956\n",
      "Epoch 170/200\n",
      "1347/1347 [==============================] - 0s 93us/sample - loss: 0.2509 - accuracy: 0.9035 - val_loss: 0.2747 - val_accuracy: 0.8956\n",
      "Epoch 171/200\n",
      "1347/1347 [==============================] - 0s 102us/sample - loss: 0.2519 - accuracy: 0.9079 - val_loss: 0.3040 - val_accuracy: 0.8800\n",
      "Epoch 172/200\n",
      "1347/1347 [==============================] - 0s 92us/sample - loss: 0.2502 - accuracy: 0.8998 - val_loss: 0.2804 - val_accuracy: 0.8911\n",
      "Epoch 173/200\n",
      "1347/1347 [==============================] - 0s 94us/sample - loss: 0.2571 - accuracy: 0.9035 - val_loss: 0.2732 - val_accuracy: 0.9022\n",
      "Epoch 174/200\n",
      "1347/1347 [==============================] - 0s 87us/sample - loss: 0.2630 - accuracy: 0.9057 - val_loss: 0.2757 - val_accuracy: 0.8978\n",
      "Epoch 175/200\n",
      "1347/1347 [==============================] - 0s 97us/sample - loss: 0.2528 - accuracy: 0.9005 - val_loss: 0.2730 - val_accuracy: 0.9044\n",
      "Epoch 176/200\n",
      "1347/1347 [==============================] - 0s 90us/sample - loss: 0.2532 - accuracy: 0.9035 - val_loss: 0.2784 - val_accuracy: 0.9044\n",
      "Epoch 177/200\n",
      "1347/1347 [==============================] - 0s 93us/sample - loss: 0.2479 - accuracy: 0.9042 - val_loss: 0.2993 - val_accuracy: 0.8800\n",
      "Epoch 178/200\n",
      "1347/1347 [==============================] - 0s 90us/sample - loss: 0.2560 - accuracy: 0.9057 - val_loss: 0.2757 - val_accuracy: 0.8978\n",
      "Epoch 179/200\n",
      "1347/1347 [==============================] - 0s 92us/sample - loss: 0.2488 - accuracy: 0.8998 - val_loss: 0.2821 - val_accuracy: 0.8911\n",
      "Epoch 180/200\n",
      "1347/1347 [==============================] - 0s 90us/sample - loss: 0.2874 - accuracy: 0.8820 - val_loss: 0.2791 - val_accuracy: 0.8933\n",
      "Epoch 181/200\n",
      "1347/1347 [==============================] - 0s 86us/sample - loss: 0.2506 - accuracy: 0.9027 - val_loss: 0.2891 - val_accuracy: 0.8844\n",
      "Epoch 182/200\n",
      "1347/1347 [==============================] - 0s 94us/sample - loss: 0.2498 - accuracy: 0.9087 - val_loss: 0.2797 - val_accuracy: 0.8956\n",
      "Epoch 183/200\n",
      "1347/1347 [==============================] - 0s 93us/sample - loss: 0.2524 - accuracy: 0.9005 - val_loss: 0.2734 - val_accuracy: 0.9000\n",
      "Epoch 184/200\n",
      "1347/1347 [==============================] - 0s 97us/sample - loss: 0.2511 - accuracy: 0.8998 - val_loss: 0.3057 - val_accuracy: 0.8778\n",
      "Epoch 185/200\n",
      "1347/1347 [==============================] - 0s 99us/sample - loss: 0.2815 - accuracy: 0.8916 - val_loss: 0.2949 - val_accuracy: 0.8800\n",
      "Epoch 186/200\n",
      "1347/1347 [==============================] - 0s 91us/sample - loss: 0.2482 - accuracy: 0.8953 - val_loss: 0.2756 - val_accuracy: 0.9022\n",
      "Epoch 187/200\n",
      "1347/1347 [==============================] - 0s 85us/sample - loss: 0.2507 - accuracy: 0.9035 - val_loss: 0.2754 - val_accuracy: 0.9022\n",
      "Epoch 188/200\n",
      "1347/1347 [==============================] - 0s 96us/sample - loss: 0.2494 - accuracy: 0.9020 - val_loss: 0.2759 - val_accuracy: 0.8978\n",
      "Epoch 189/200\n",
      "1347/1347 [==============================] - 0s 86us/sample - loss: 0.2487 - accuracy: 0.9079 - val_loss: 0.2795 - val_accuracy: 0.8956\n",
      "Epoch 190/200\n",
      "1347/1347 [==============================] - 0s 95us/sample - loss: 0.2480 - accuracy: 0.9035 - val_loss: 0.2762 - val_accuracy: 0.9022\n",
      "Epoch 191/200\n",
      "1347/1347 [==============================] - 0s 81us/sample - loss: 0.2477 - accuracy: 0.9035 - val_loss: 0.2763 - val_accuracy: 0.8933\n",
      "Epoch 192/200\n",
      "1347/1347 [==============================] - 0s 94us/sample - loss: 0.2556 - accuracy: 0.9027 - val_loss: 0.2787 - val_accuracy: 0.8911\n",
      "Epoch 193/200\n",
      "1347/1347 [==============================] - 0s 93us/sample - loss: 0.2551 - accuracy: 0.9109 - val_loss: 0.2849 - val_accuracy: 0.8911\n",
      "Epoch 194/200\n",
      "1347/1347 [==============================] - 0s 91us/sample - loss: 0.2502 - accuracy: 0.9109 - val_loss: 0.2787 - val_accuracy: 0.8978\n",
      "Epoch 195/200\n",
      "1347/1347 [==============================] - 0s 91us/sample - loss: 0.2557 - accuracy: 0.9057 - val_loss: 0.2769 - val_accuracy: 0.8933\n",
      "Epoch 196/200\n",
      "1347/1347 [==============================] - 0s 93us/sample - loss: 0.2480 - accuracy: 0.9035 - val_loss: 0.3004 - val_accuracy: 0.8800\n",
      "Epoch 197/200\n",
      "1347/1347 [==============================] - 0s 88us/sample - loss: 0.2496 - accuracy: 0.9050 - val_loss: 0.2731 - val_accuracy: 0.9000\n",
      "Epoch 198/200\n",
      "1347/1347 [==============================] - 0s 95us/sample - loss: 0.2503 - accuracy: 0.9087 - val_loss: 0.2730 - val_accuracy: 0.9022\n",
      "Epoch 199/200\n",
      "1347/1347 [==============================] - 0s 99us/sample - loss: 0.2473 - accuracy: 0.9065 - val_loss: 0.2851 - val_accuracy: 0.8867\n",
      "Epoch 200/200\n",
      "1347/1347 [==============================] - 0s 99us/sample - loss: 0.2523 - accuracy: 0.9013 - val_loss: 0.2843 - val_accuracy: 0.8867\n"
     ]
    }
   ],
   "source": [
    "history = estimator.fit(X_train, categorical_labels_train, validation_data = (X_test, categorical_labels_test), epochs = 200, batch_size=32)"
   ]
  },
  {
   "cell_type": "code",
   "execution_count": 95,
   "metadata": {},
   "outputs": [],
   "source": [
    "pred = estimator.predict(X_test)"
   ]
  },
  {
   "cell_type": "code",
   "execution_count": 96,
   "metadata": {},
   "outputs": [],
   "source": [
    "init_labels = encoder.inverse_transform(pred)"
   ]
  },
  {
   "cell_type": "code",
   "execution_count": 97,
   "metadata": {},
   "outputs": [
    {
     "data": {
      "text/plain": [
       "(450,)"
      ]
     },
     "execution_count": 97,
     "metadata": {},
     "output_type": "execute_result"
    }
   ],
   "source": [
    "init_labels.shape"
   ]
  },
  {
   "cell_type": "code",
   "execution_count": 106,
   "metadata": {},
   "outputs": [
    {
     "data": {
      "text/plain": [
       "[<matplotlib.lines.Line2D at 0x7f93744683c8>]"
      ]
     },
     "execution_count": 106,
     "metadata": {},
     "output_type": "execute_result"
    },
    {
     "data": {
      "text/plain": [
       "[<matplotlib.lines.Line2D at 0x7f9374441080>]"
      ]
     },
     "execution_count": 106,
     "metadata": {},
     "output_type": "execute_result"
    },
    {
     "data": {
      "text/plain": [
       "Text(0.5, 1.0, 'mean accuracy')"
      ]
     },
     "execution_count": 106,
     "metadata": {},
     "output_type": "execute_result"
    },
    {
     "data": {
      "text/plain": [
       "Text(0, 0.5, 'accuracy')"
      ]
     },
     "execution_count": 106,
     "metadata": {},
     "output_type": "execute_result"
    },
    {
     "data": {
      "text/plain": [
       "Text(0.5, 0, 'epoch')"
      ]
     },
     "execution_count": 106,
     "metadata": {},
     "output_type": "execute_result"
    },
    {
     "data": {
      "text/plain": [
       "<matplotlib.legend.Legend at 0x7f937443afd0>"
      ]
     },
     "execution_count": 106,
     "metadata": {},
     "output_type": "execute_result"
    },
    {
     "data": {
      "image/png": "[encoded data removed]",
      "text/plain": [
       "<Figure size 432x288 with 1 Axes>"
      ]
     },
     "metadata": {
      "needs_background": "light"
     },
     "output_type": "display_data"
    }
   ],
   "source": [
    "plt.plot(history.history['accuracy'])\n",
    "plt.plot(history.history['val_accuracy'])\n",
    "plt.title('mean accuracy')\n",
    "plt.ylabel('accuracy')\n",
    "plt.xlabel('epoch')\n",
    "plt.legend(['train', 'test'], loc = 'lower right')"
   ]
  },
  {
   "cell_type": "code",
   "execution_count": 107,
   "metadata": {},
   "outputs": [
    {
     "data": {
      "text/plain": [
       "[<matplotlib.lines.Line2D at 0x7f93743e82b0>]"
      ]
     },
     "execution_count": 107,
     "metadata": {},
     "output_type": "execute_result"
    },
    {
     "data": {
      "text/plain": [
       "[<matplotlib.lines.Line2D at 0x7f9374425c50>]"
      ]
     },
     "execution_count": 107,
     "metadata": {},
     "output_type": "execute_result"
    },
    {
     "data": {
      "text/plain": [
       "Text(0.5, 1.0, 'loss')"
      ]
     },
     "execution_count": 107,
     "metadata": {},
     "output_type": "execute_result"
    },
    {
     "data": {
      "text/plain": [
       "Text(0, 0.5, 'loss')"
      ]
     },
     "execution_count": 107,
     "metadata": {},
     "output_type": "execute_result"
    },
    {
     "data": {
      "text/plain": [
       "Text(0.5, 0, 'epoch')"
      ]
     },
     "execution_count": 107,
     "metadata": {},
     "output_type": "execute_result"
    },
    {
     "data": {
      "text/plain": [
       "<matplotlib.legend.Legend at 0x7f93743c9eb8>"
      ]
     },
     "execution_count": 107,
     "metadata": {},
     "output_type": "execute_result"
    },
    {
     "data": {
      "image/png": "[encoded data removed]",
      "text/plain": [
       "<Figure size 432x288 with 1 Axes>"
      ]
     },
     "metadata": {
      "needs_background": "light"
     },
     "output_type": "display_data"
    }
   ],
   "source": [
    "plt.plot(history.history['loss'])\n",
    "plt.plot(history.history['val_loss'])\n",
    "plt.title('loss')\n",
    "plt.ylabel('loss')\n",
    "plt.xlabel('epoch')\n",
    "plt.legend(['train', 'test'], loc = 'upper right')"
   ]
  },
  {
   "cell_type": "markdown",
   "metadata": {},
   "source": [
    "# Congratulations ! You have completed assigment 4. "
   ]
  },
  {
   "cell_type": "code",
   "execution_count": null,
   "metadata": {},
   "outputs": [],
   "source": []
  }
 ],
 "metadata": {
  "kernelspec": {
   "display_name": "Python 3",
   "language": "python",
   "name": "python3"
  },
  "language_info": {
   "codemirror_mode": {
    "name": "ipython",
    "version": 3
   },
   "file_extension": ".py",
   "mimetype": "text/x-python",
   "name": "python",
   "nbconvert_exporter": "python",
   "pygments_lexer": "ipython3",
   "version": "3.6.8"
  },
  "toc": {
   "base_numbering": 1,
   "nav_menu": {},
   "number_sections": true,
   "sideBar": true,
   "skip_h1_title": false,
   "title_cell": "Table of Contents",
   "title_sidebar": "Contents",
   "toc_cell": false,
   "toc_position": {},
   "toc_section_display": true,
   "toc_window_display": false
  }
 },
 "nbformat": 4,
 "nbformat_minor": 2
}
