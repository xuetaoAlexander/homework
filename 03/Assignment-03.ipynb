{
 "cells": [
  {
   "cell_type": "markdown",
   "metadata": {},
   "source": [
    "## Assignment-03 First Step of Machine Learning: Model and Evaluation"
   ]
  },
  {
   "cell_type": "markdown",
   "metadata": {},
   "source": [
    "同学们，今天我们的学习了基本的机器学习概念，相比你已经对机器学习的这些方法有一个基本的认识了。值得说明的是，机器学习不仅仅是一系列方法，更重要的是一种思维体系，即：依据以往的、现有的数据，构建某种方法来解决未见过的问题。而且决策树，贝叶斯只是实现这个目标的一个方法，包括之后的神经网络。很有可能有一天，神经网络也会被淘汰，但是重要的是我们要理解机器学习的目标，就是尽可能的自动化解决未知的问题。"
   ]
  },
  {
   "cell_type": "markdown",
   "metadata": {},
   "source": [
    "![](https://timgsa.baidu.com/timg?image&quality=80&size=b9999_10000&sec=1571556399207&di=4a97dc15ad08dd49d3748d1edf6109b3&imgtype=0&src=http%3A%2F%2Fc.hiphotos.baidu.com%2Fzhidao%2Fwh%3D450%2C600%2Fsign%3Dae742c6aedcd7b89e93932873a146e91%2F5d6034a85edf8db1b16050c40223dd54574e74c7.jpg)"
   ]
  },
  {
   "cell_type": "markdown",
   "metadata": {},
   "source": [
    "## Part-1 Programming Review 编程回顾"
   ]
  },
  {
   "cell_type": "markdown",
   "metadata": {},
   "source": [
    "#### 1. Re-code the Linear-Regression Model using scikit-learning(10 points)"
   ]
  },
  {
   "cell_type": "markdown",
   "metadata": {},
   "source": [
    "<评阅点>： \n",
    "> + 是否完成线性回归模型 (4')\n",
    "+ 能够进行预测新数据(3')\n",
    "+ 能够进行可视化操作(3')"
   ]
  },
  {
   "cell_type": "code",
   "execution_count": 98,
   "metadata": {},
   "outputs": [],
   "source": [
    "# you code here"
   ]
  },
  {
   "cell_type": "markdown",
   "metadata": {},
   "source": [
    "##### 线性回归模型"
   ]
  },
  {
   "cell_type": "code",
   "execution_count": 1,
   "metadata": {},
   "outputs": [],
   "source": [
    "import numpy as np\n",
    "import matplotlib.pyplot as plt\n",
    "import random\n",
    "from sklearn.linear_model import LinearRegression\n",
    "from sklearn.metrics import mean_squared_error, r2_score\n",
    "%matplotlib inline"
   ]
  },
  {
   "cell_type": "code",
   "execution_count": 2,
   "metadata": {},
   "outputs": [],
   "source": [
    "random_data = np.random.random((20, 2))"
   ]
  },
  {
   "cell_type": "code",
   "execution_count": 3,
   "metadata": {},
   "outputs": [
    {
     "data": {
      "text/plain": [
       "array([[0.78280957, 0.07466719],\n",
       "       [0.71750364, 0.2078811 ],\n",
       "       [0.00391408, 0.2956553 ],\n",
       "       [0.33808434, 0.47555478],\n",
       "       [0.1066215 , 0.24377968],\n",
       "       [0.28747602, 0.57326931],\n",
       "       [0.65931265, 0.58455143],\n",
       "       [0.42263611, 0.50181252],\n",
       "       [0.3404695 , 0.86116225],\n",
       "       [0.03904261, 0.44804983],\n",
       "       [0.52753796, 0.37570323],\n",
       "       [0.56399506, 0.09259604],\n",
       "       [0.39716718, 0.04243816],\n",
       "       [0.81885824, 0.53791812],\n",
       "       [0.74537757, 0.26632304],\n",
       "       [0.66248671, 0.42028029],\n",
       "       [0.35535721, 0.27543171],\n",
       "       [0.49126319, 0.67979096],\n",
       "       [0.37997759, 0.76128546],\n",
       "       [0.0115467 , 0.84858114]])"
      ]
     },
     "execution_count": 3,
     "metadata": {},
     "output_type": "execute_result"
    }
   ],
   "source": [
    "random_data"
   ]
  },
  {
   "cell_type": "code",
   "execution_count": 4,
   "metadata": {},
   "outputs": [],
   "source": [
    "X = random_data[:, 0]"
   ]
  },
  {
   "cell_type": "code",
   "execution_count": 5,
   "metadata": {},
   "outputs": [
    {
     "data": {
      "text/plain": [
       "(20,)"
      ]
     },
     "execution_count": 5,
     "metadata": {},
     "output_type": "execute_result"
    },
    {
     "data": {
      "text/plain": [
       "(20, 1)"
      ]
     },
     "execution_count": 5,
     "metadata": {},
     "output_type": "execute_result"
    }
   ],
   "source": [
    "X.shape\n",
    "X = X.reshape(-1, 1)\n",
    "X.shape"
   ]
  },
  {
   "cell_type": "code",
   "execution_count": 6,
   "metadata": {},
   "outputs": [],
   "source": [
    "Y = random_data[:, 1]"
   ]
  },
  {
   "cell_type": "code",
   "execution_count": 7,
   "metadata": {},
   "outputs": [],
   "source": [
    "def assmuing_function(x):\n",
    "    return 13.4 * x + 5 + np.random.randint(-5, 5)"
   ]
  },
  {
   "cell_type": "code",
   "execution_count": 8,
   "metadata": {},
   "outputs": [],
   "source": [
    "y = [assmuing_function(x) for x in X]"
   ]
  },
  {
   "cell_type": "code",
   "execution_count": 9,
   "metadata": {},
   "outputs": [
    {
     "data": {
      "text/plain": [
       "[array([16.48964826]),\n",
       " array([9.61454876]),\n",
       " array([8.05244873]),\n",
       " array([11.53033018]),\n",
       " array([7.4287281]),\n",
       " array([4.85217864]),\n",
       " array([10.83478953]),\n",
       " array([10.66332393]),\n",
       " array([4.56229136]),\n",
       " array([0.52317101]),\n",
       " array([12.06900868]),\n",
       " array([7.55753375]),\n",
       " array([12.32204016]),\n",
       " array([17.97270036]),\n",
       " array([16.98805941]),\n",
       " array([15.87732192]),\n",
       " array([4.76178663]),\n",
       " array([12.58292675]),\n",
       " array([6.09169977]),\n",
       " array([5.15472579])]"
      ]
     },
     "execution_count": 9,
     "metadata": {},
     "output_type": "execute_result"
    }
   ],
   "source": [
    "y"
   ]
  },
  {
   "cell_type": "code",
   "execution_count": 10,
   "metadata": {},
   "outputs": [
    {
     "data": {
      "text/plain": [
       "<matplotlib.collections.PathCollection at 0x7f78026410b8>"
      ]
     },
     "execution_count": 10,
     "metadata": {},
     "output_type": "execute_result"
    },
    {
     "data": {
      "image/png": "[encoded data removed]",
      "text/plain": [
       "<Figure size 432x288 with 1 Axes>"
      ]
     },
     "metadata": {
      "needs_background": "light"
     },
     "output_type": "display_data"
    }
   ],
   "source": [
    "plt.scatter(X,y)"
   ]
  },
  {
   "cell_type": "code",
   "execution_count": 11,
   "metadata": {},
   "outputs": [],
   "source": [
    "reg = LinearRegression().fit(X, y)"
   ]
  },
  {
   "cell_type": "code",
   "execution_count": 12,
   "metadata": {},
   "outputs": [
    {
     "data": {
      "text/plain": [
       "0.5951360843984911"
      ]
     },
     "execution_count": 12,
     "metadata": {},
     "output_type": "execute_result"
    }
   ],
   "source": [
    "reg.score(X,y)"
   ]
  },
  {
   "cell_type": "code",
   "execution_count": 13,
   "metadata": {},
   "outputs": [
    {
     "data": {
      "text/plain": [
       "array([[14.38617559]])"
      ]
     },
     "execution_count": 13,
     "metadata": {},
     "output_type": "execute_result"
    }
   ],
   "source": [
    "reg.coef_"
   ]
  },
  {
   "cell_type": "code",
   "execution_count": 14,
   "metadata": {},
   "outputs": [
    {
     "data": {
      "text/plain": [
       "array([3.57340818])"
      ]
     },
     "execution_count": 14,
     "metadata": {},
     "output_type": "execute_result"
    }
   ],
   "source": [
    "reg.intercept_"
   ]
  },
  {
   "cell_type": "code",
   "execution_count": 15,
   "metadata": {},
   "outputs": [],
   "source": [
    "def f(x):\n",
    "    return reg.coef_ * x  + reg.intercept_"
   ]
  },
  {
   "cell_type": "markdown",
   "metadata": {},
   "source": [
    "##### 可视化"
   ]
  },
  {
   "cell_type": "code",
   "execution_count": 16,
   "metadata": {},
   "outputs": [
    {
     "data": {
      "text/plain": [
       "<matplotlib.collections.PathCollection at 0x7f77fe907278>"
      ]
     },
     "execution_count": 16,
     "metadata": {},
     "output_type": "execute_result"
    },
    {
     "data": {
      "text/plain": [
       "[<matplotlib.lines.Line2D at 0x7f77fed9bb70>]"
      ]
     },
     "execution_count": 16,
     "metadata": {},
     "output_type": "execute_result"
    },
    {
     "data": {
      "image/png": "[encoded data removed]",
      "text/plain": [
       "<Figure size 432x288 with 1 Axes>"
      ]
     },
     "metadata": {
      "needs_background": "light"
     },
     "output_type": "display_data"
    }
   ],
   "source": [
    "plt.scatter(X, y)\n",
    "plt.plot(X, f(X), color = 'red')"
   ]
  },
  {
   "cell_type": "markdown",
   "metadata": {},
   "source": [
    "##### predict new data"
   ]
  },
  {
   "cell_type": "code",
   "execution_count": 17,
   "metadata": {},
   "outputs": [],
   "source": [
    "test_data =  np.random.random((5, 2))"
   ]
  },
  {
   "cell_type": "code",
   "execution_count": 18,
   "metadata": {},
   "outputs": [],
   "source": [
    "test_data_x = test_data[:, 0]\n",
    "test_data_y = assmuing_function(test_data_x)"
   ]
  },
  {
   "cell_type": "code",
   "execution_count": 19,
   "metadata": {},
   "outputs": [],
   "source": [
    "test_predict = reg.predict(test_data_x.reshape(-1, 1))"
   ]
  },
  {
   "cell_type": "code",
   "execution_count": 20,
   "metadata": {},
   "outputs": [
    {
     "data": {
      "text/plain": [
       "array([[ 5.46404194],\n",
       "       [13.04891886],\n",
       "       [15.68098184],\n",
       "       [ 4.12232325],\n",
       "       [ 9.38727943]])"
      ]
     },
     "execution_count": 20,
     "metadata": {},
     "output_type": "execute_result"
    }
   ],
   "source": [
    "test_predict"
   ]
  },
  {
   "cell_type": "markdown",
   "metadata": {},
   "source": [
    "##### 模型评价"
   ]
  },
  {
   "cell_type": "code",
   "execution_count": 21,
   "metadata": {},
   "outputs": [
    {
     "name": "stdout",
     "output_type": "stream",
     "text": [
      "coefficients :\n",
      " [[14.38617559]]\n"
     ]
    }
   ],
   "source": [
    "print('coefficients :\\n', reg.coef_)"
   ]
  },
  {
   "cell_type": "code",
   "execution_count": 22,
   "metadata": {},
   "outputs": [
    {
     "name": "stdout",
     "output_type": "stream",
     "text": [
      "mean square error: 15.95\n"
     ]
    }
   ],
   "source": [
    "print(\"mean square error: %.2f\"\n",
    "     % mean_squared_error(test_data_y, test_predict))"
   ]
  },
  {
   "cell_type": "code",
   "execution_count": 23,
   "metadata": {},
   "outputs": [
    {
     "name": "stdout",
     "output_type": "stream",
     "text": [
      "variance score: 0.04\n"
     ]
    }
   ],
   "source": [
    "print('variance score: %.2f' % r2_score(test_data_y, test_predict))"
   ]
  },
  {
   "cell_type": "markdown",
   "metadata": {},
   "source": [
    "##### 可视化"
   ]
  },
  {
   "cell_type": "code",
   "execution_count": 24,
   "metadata": {},
   "outputs": [
    {
     "data": {
      "text/plain": [
       "<matplotlib.collections.PathCollection at 0x7f77fe8f8518>"
      ]
     },
     "execution_count": 24,
     "metadata": {},
     "output_type": "execute_result"
    },
    {
     "data": {
      "text/plain": [
       "[<matplotlib.lines.Line2D at 0x7f77fe8ca400>]"
      ]
     },
     "execution_count": 24,
     "metadata": {},
     "output_type": "execute_result"
    },
    {
     "data": {
      "image/png": "[encoded data removed]",
      "text/plain": [
       "<Figure size 432x288 with 1 Axes>"
      ]
     },
     "metadata": {
      "needs_background": "light"
     },
     "output_type": "display_data"
    }
   ],
   "source": [
    "plt.scatter(test_data_x, test_data_y)\n",
    "plt.plot(test_data_x, test_predict, color = 'red')\n",
    "plt.show()"
   ]
  },
  {
   "cell_type": "markdown",
   "metadata": {},
   "source": [
    "#### 2. Complete the unfinished KNN Model using pure python to solve the previous Line-Regression problem. (8 points)"
   ]
  },
  {
   "cell_type": "markdown",
   "metadata": {},
   "source": [
    "<评阅点>:\n",
    "> + 是否完成了KNN模型 (4')\n",
    "+ 是否能够预测新的数据 (4')"
   ]
  },
  {
   "cell_type": "code",
   "execution_count": 25,
   "metadata": {},
   "outputs": [],
   "source": [
    "# you code here"
   ]
  },
  {
   "cell_type": "markdown",
   "metadata": {},
   "source": [
    "##### KNN模型（以鸢尾花数据为例）"
   ]
  },
  {
   "cell_type": "code",
   "execution_count": 26,
   "metadata": {},
   "outputs": [],
   "source": [
    "from sklearn import datasets\n",
    "from scipy.spatial.distance import cosine\n",
    "from sklearn.model_selection import train_test_split\n",
    "from collections import Counter\n",
    "from matplotlib.colors import ListedColormap"
   ]
  },
  {
   "cell_type": "code",
   "execution_count": 27,
   "metadata": {},
   "outputs": [],
   "source": [
    "iris = datasets.load_iris()"
   ]
  },
  {
   "cell_type": "code",
   "execution_count": 28,
   "metadata": {},
   "outputs": [
    {
     "data": {
      "text/plain": [
       "(150, 2)"
      ]
     },
     "execution_count": 28,
     "metadata": {},
     "output_type": "execute_result"
    },
    {
     "data": {
      "text/plain": [
       "(150,)"
      ]
     },
     "execution_count": 28,
     "metadata": {},
     "output_type": "execute_result"
    }
   ],
   "source": [
    "X = iris.data[:, :2]\n",
    "y = iris.target\n",
    "X.shape\n",
    "y.shape"
   ]
  },
  {
   "cell_type": "code",
   "execution_count": 29,
   "metadata": {},
   "outputs": [],
   "source": [
    "x_train, x_test, y_train, y_test = train_test_split(X, y, test_size = 0.1)"
   ]
  },
  {
   "cell_type": "code",
   "execution_count": 30,
   "metadata": {},
   "outputs": [],
   "source": [
    "def model(X, y):\n",
    "    return [(Xi, yi) for Xi, yi in zip(X, y)]"
   ]
  },
  {
   "cell_type": "code",
   "execution_count": 31,
   "metadata": {},
   "outputs": [],
   "source": [
    "def distance(x1, x2):\n",
    "    return cosine(x1, x2)"
   ]
  },
  {
   "cell_type": "code",
   "execution_count": 32,
   "metadata": {},
   "outputs": [],
   "source": [
    " def predict(x, k = 5):\n",
    "    X = x_train\n",
    "    y = y_train\n",
    "    most_similaries = sorted(model(X, y), key = lambda xi : distance(xi[0], x))[:k]\n",
    "    most_categories = [x[1] for x in most_similaries] \n",
    "    return Counter(most_categories).most_common(1)[0][0]"
   ]
  },
  {
   "cell_type": "markdown",
   "metadata": {},
   "source": [
    "##### 预测新数据"
   ]
  },
  {
   "cell_type": "markdown",
   "metadata": {},
   "source": [
    "**单个数据预测**"
   ]
  },
  {
   "cell_type": "code",
   "execution_count": 33,
   "metadata": {},
   "outputs": [
    {
     "data": {
      "text/plain": [
       "0"
      ]
     },
     "execution_count": 33,
     "metadata": {},
     "output_type": "execute_result"
    },
    {
     "data": {
      "text/plain": [
       "0"
      ]
     },
     "execution_count": 33,
     "metadata": {},
     "output_type": "execute_result"
    }
   ],
   "source": [
    "y_test[1]\n",
    "predict(x_test[1])"
   ]
  },
  {
   "cell_type": "markdown",
   "metadata": {},
   "source": [
    "**用网格法批量预测并可视化**"
   ]
  },
  {
   "cell_type": "code",
   "execution_count": 34,
   "metadata": {},
   "outputs": [],
   "source": [
    "x_min, x_max = x_test[:, 0].min() - 1, x_test[:, 0].max() + 1\n",
    "y_min, y_max = x_test[:, 1].min() - 1, x_test[:, 1].max() + 1"
   ]
  },
  {
   "cell_type": "code",
   "execution_count": 35,
   "metadata": {},
   "outputs": [],
   "source": [
    "xx, yy = np.meshgrid(np.arange(x_min, x_max, 0.02),\n",
    "                    np.arange(y_min, y_max, 0.02))"
   ]
  },
  {
   "cell_type": "code",
   "execution_count": 36,
   "metadata": {},
   "outputs": [
    {
     "name": "stdout",
     "output_type": "stream",
     "text": [
      "1000\n",
      "2000\n",
      "3000\n",
      "4000\n",
      "5000\n",
      "6000\n",
      "7000\n",
      "8000\n",
      "9000\n",
      "10000\n",
      "11000\n",
      "12000\n",
      "13000\n",
      "14000\n",
      "15000\n",
      "16000\n",
      "17000\n",
      "18000\n",
      "19000\n",
      "20000\n",
      "21000\n",
      "22000\n",
      "23000\n",
      "24000\n",
      "25000\n",
      "26000\n",
      "27000\n",
      "28000\n",
      "29000\n",
      "30000\n",
      "31000\n",
      "32000\n",
      "33000\n",
      "34000\n",
      "35000\n",
      "36000\n",
      "37000\n",
      "38000\n"
     ]
    }
   ],
   "source": [
    "Z = []\n",
    "i = 0\n",
    "for x in np.c_[xx.ravel(), yy.ravel()]:\n",
    "    i = i + 1\n",
    "    if i % 1000 == 0:\n",
    "        print(i)\n",
    "    Z.append(predict(x, k = 5))"
   ]
  },
  {
   "cell_type": "code",
   "execution_count": 37,
   "metadata": {},
   "outputs": [
    {
     "data": {
      "text/plain": [
       "(160, 240)"
      ]
     },
     "execution_count": 37,
     "metadata": {},
     "output_type": "execute_result"
    }
   ],
   "source": [
    "Z = np.array(Z).reshape(xx.shape)\n",
    "Z.shape"
   ]
  },
  {
   "cell_type": "markdown",
   "metadata": {},
   "source": [
    "##### 预测并可视化"
   ]
  },
  {
   "cell_type": "code",
   "execution_count": 38,
   "metadata": {},
   "outputs": [],
   "source": [
    "cmap_light = ListedColormap(['#FFAAAA', '#AAFFAA', '#AAAAFF'])\n",
    "cmap_bold = ListedColormap(['#FF0000', '#00FF00', '#0000FF'])"
   ]
  },
  {
   "cell_type": "code",
   "execution_count": 39,
   "metadata": {},
   "outputs": [
    {
     "data": {
      "text/plain": [
       "<Figure size 432x288 with 0 Axes>"
      ]
     },
     "execution_count": 39,
     "metadata": {},
     "output_type": "execute_result"
    },
    {
     "data": {
      "text/plain": [
       "<matplotlib.collections.QuadMesh at 0x7f77fe35d550>"
      ]
     },
     "execution_count": 39,
     "metadata": {},
     "output_type": "execute_result"
    },
    {
     "data": {
      "text/plain": [
       "<matplotlib.collections.PathCollection at 0x7f77fe86ed68>"
      ]
     },
     "execution_count": 39,
     "metadata": {},
     "output_type": "execute_result"
    },
    {
     "data": {
      "text/plain": [
       "(3.8, 8.580000000000005)"
      ]
     },
     "execution_count": 39,
     "metadata": {},
     "output_type": "execute_result"
    },
    {
     "data": {
      "text/plain": [
       "(1.7999999999999998, 4.980000000000002)"
      ]
     },
     "execution_count": 39,
     "metadata": {},
     "output_type": "execute_result"
    },
    {
     "data": {
      "text/plain": [
       "Text(0.5, 1.0, '3-Class classification k = 5 of trian data')"
      ]
     },
     "execution_count": 39,
     "metadata": {},
     "output_type": "execute_result"
    },
    {
     "data": {
      "image/png": "[encoded data removed]",
      "text/plain": [
       "<Figure size 432x288 with 1 Axes>"
      ]
     },
     "metadata": {
      "needs_background": "light"
     },
     "output_type": "display_data"
    }
   ],
   "source": [
    "plt.figure()\n",
    "plt.pcolormesh(xx, yy, Z, cmap=cmap_light)\n",
    "\n",
    "plt.scatter(x_train[:, 0], x_train[:, 1], c=y_train, cmap=cmap_bold,\n",
    "            edgecolor='k', s=20)\n",
    "plt.xlim(xx.min(), xx.max())\n",
    "plt.ylim(yy.min(), yy.max())\n",
    "plt.title(\"3-Class classification k = 5 of trian data\") "
   ]
  },
  {
   "cell_type": "code",
   "execution_count": 40,
   "metadata": {},
   "outputs": [
    {
     "data": {
      "text/plain": [
       "<Figure size 432x288 with 0 Axes>"
      ]
     },
     "execution_count": 40,
     "metadata": {},
     "output_type": "execute_result"
    },
    {
     "data": {
      "text/plain": [
       "<matplotlib.collections.QuadMesh at 0x7f77fe341588>"
      ]
     },
     "execution_count": 40,
     "metadata": {},
     "output_type": "execute_result"
    },
    {
     "data": {
      "text/plain": [
       "<matplotlib.collections.PathCollection at 0x7f77fe341978>"
      ]
     },
     "execution_count": 40,
     "metadata": {},
     "output_type": "execute_result"
    },
    {
     "data": {
      "text/plain": [
       "(3.8, 8.580000000000005)"
      ]
     },
     "execution_count": 40,
     "metadata": {},
     "output_type": "execute_result"
    },
    {
     "data": {
      "text/plain": [
       "(1.7999999999999998, 4.980000000000002)"
      ]
     },
     "execution_count": 40,
     "metadata": {},
     "output_type": "execute_result"
    },
    {
     "data": {
      "text/plain": [
       "Text(0.5, 1.0, '3-Class classification k = 5 of test data')"
      ]
     },
     "execution_count": 40,
     "metadata": {},
     "output_type": "execute_result"
    },
    {
     "data": {
      "image/png": "[encoded data removed]",
      "text/plain": [
       "<Figure size 432x288 with 1 Axes>"
      ]
     },
     "metadata": {
      "needs_background": "light"
     },
     "output_type": "display_data"
    }
   ],
   "source": [
    "plt.figure()\n",
    "plt.pcolormesh(xx, yy, Z, cmap=cmap_light)\n",
    "\n",
    "plt.scatter(x_test[:, 0], x_test[:, 1], c=y_test, cmap=cmap_bold,\n",
    "            edgecolor='k', s=20)\n",
    "plt.xlim(xx.min(), xx.max())\n",
    "plt.ylim(yy.min(), yy.max())\n",
    "plt.title(\"3-Class classification k = 5 of test data\") "
   ]
  },
  {
   "cell_type": "markdown",
   "metadata": {},
   "source": [
    "#### 3. Re-code the Decision Tree, which could sort the features by salience. (12 points)"
   ]
  },
  {
   "cell_type": "markdown",
   "metadata": {},
   "source": [
    "<评阅点>\n",
    "> + 是否实现了信息熵 (1' )\n",
    "+ 是否实现了最优先特征点的选择(5')\n",
    "+ 是否实现了持续的特征选则(6')"
   ]
  },
  {
   "cell_type": "code",
   "execution_count": 41,
   "metadata": {},
   "outputs": [],
   "source": [
    "# you code here"
   ]
  },
  {
   "cell_type": "markdown",
   "metadata": {},
   "source": [
    "##### 实现信息熵"
   ]
  },
  {
   "cell_type": "code",
   "execution_count": 42,
   "metadata": {},
   "outputs": [
    {
     "name": "stdout",
     "output_type": "stream",
     "text": [
      "Looking in indexes: https://pypi.tuna.tsinghua.edu.cn/simple\n",
      "Requirement already satisfied: icecream in /home/xuetaozhang/.local/lib/python3.6/site-packages (2.0.0)\n",
      "Requirement already satisfied: asttokens>=2.0.1 in /home/xuetaozhang/.local/lib/python3.6/site-packages (from icecream) (2.0.2)\n",
      "Requirement already satisfied: pygments>=2.2.0 in /home/xuetaozhang/.local/lib/python3.6/site-packages (from icecream) (2.4.2)\n",
      "Requirement already satisfied: colorama>=0.3.9 in /home/xuetaozhang/.local/lib/python3.6/site-packages (from icecream) (0.4.1)\n",
      "Requirement already satisfied: executing>=0.3.1 in /home/xuetaozhang/.local/lib/python3.6/site-packages (from icecream) (0.3.2)\n",
      "Requirement already satisfied: six in /home/xuetaozhang/.local/lib/python3.6/site-packages (from asttokens>=2.0.1->icecream) (1.12.0)\n",
      "\u001b[33mWARNING: You are using pip version 19.2.3, however version 19.3.1 is available.\n",
      "You should consider upgrading via the 'pip install --upgrade pip' command.\u001b[0m\n"
     ]
    }
   ],
   "source": [
    "!pip3 install icecream  --user"
   ]
  },
  {
   "cell_type": "code",
   "execution_count": 43,
   "metadata": {},
   "outputs": [],
   "source": [
    "from icecream import ic\n",
    "import pandas as pd"
   ]
  },
  {
   "cell_type": "code",
   "execution_count": 44,
   "metadata": {},
   "outputs": [],
   "source": [
    "def entropy(elements):\n",
    "    counter = Counter(elements)\n",
    "    probs = [counter[c] / len(elements) for c in set(elements)]\n",
    "    ic(probs)\n",
    "    return - sum(p * np.log(p) for p in probs)"
   ]
  },
  {
   "cell_type": "code",
   "execution_count": 45,
   "metadata": {},
   "outputs": [
    {
     "name": "stderr",
     "output_type": "stream",
     "text": [
      "ic| probs: [1.0]\n"
     ]
    },
    {
     "data": {
      "text/plain": [
       "-0.0"
      ]
     },
     "execution_count": 45,
     "metadata": {},
     "output_type": "execute_result"
    }
   ],
   "source": [
    "entropy([1, 1, 1, 1])"
   ]
  },
  {
   "cell_type": "code",
   "execution_count": 46,
   "metadata": {},
   "outputs": [
    {
     "name": "stderr",
     "output_type": "stream",
     "text": [
      "ic| probs: [0.25, 0.25, 0.25, 0.25]\n"
     ]
    },
    {
     "data": {
      "text/plain": [
       "1.3862943611198906"
      ]
     },
     "execution_count": 46,
     "metadata": {},
     "output_type": "execute_result"
    }
   ],
   "source": [
    "entropy([1, 2, 3, 4])"
   ]
  },
  {
   "cell_type": "code",
   "execution_count": 47,
   "metadata": {},
   "outputs": [
    {
     "name": "stderr",
     "output_type": "stream",
     "text": [
      "ic| probs: [0.25, 0.5, 0.25]\n"
     ]
    },
    {
     "data": {
      "text/plain": [
       "1.0397207708399179"
      ]
     },
     "execution_count": 47,
     "metadata": {},
     "output_type": "execute_result"
    }
   ],
   "source": [
    "entropy([1, 2, 2, 4])"
   ]
  },
  {
   "cell_type": "code",
   "execution_count": 48,
   "metadata": {},
   "outputs": [
    {
     "name": "stderr",
     "output_type": "stream",
     "text": [
      "ic| probs: [0.25, 0.75]\n"
     ]
    },
    {
     "data": {
      "text/plain": [
       "0.5623351446188083"
      ]
     },
     "execution_count": 48,
     "metadata": {},
     "output_type": "execute_result"
    }
   ],
   "source": [
    "entropy([1, 2, 2, 2])"
   ]
  },
  {
   "cell_type": "code",
   "execution_count": 49,
   "metadata": {},
   "outputs": [
    {
     "name": "stderr",
     "output_type": "stream",
     "text": [
      "ic| probs: [0.75, 0.25]\n"
     ]
    },
    {
     "data": {
      "text/plain": [
       "0.5623351446188083"
      ]
     },
     "execution_count": 49,
     "metadata": {},
     "output_type": "execute_result"
    }
   ],
   "source": [
    "entropy([0, 0, 0, 2])"
   ]
  },
  {
   "cell_type": "markdown",
   "metadata": {},
   "source": [
    "##### 特征点选择"
   ]
  },
  {
   "cell_type": "code",
   "execution_count": 198,
   "metadata": {},
   "outputs": [],
   "source": [
    "mock_data = {\n",
    "    'gender' :['F', 'F', 'F', 'F', 'M', 'M', 'M'],\n",
    "    'income' :['+10', '-10', '+10', '+10', '+10', '+10', '-10'],\n",
    "    'family_number' :[1, 1, 2, 1, 1, 1, 2],\n",
    "    'bought' :[1, 1, 1, 0, 0, 0, 1]\n",
    "}"
   ]
  },
  {
   "cell_type": "code",
   "execution_count": 199,
   "metadata": {},
   "outputs": [],
   "source": [
    "dataset = pd.DataFrame.from_dict(mock_data)"
   ]
  },
  {
   "cell_type": "code",
   "execution_count": 200,
   "metadata": {},
   "outputs": [
    {
     "data": {
      "text/html": [
       "<div>\n",
       "<style scoped>\n",
       "    .dataframe tbody tr th:only-of-type {\n",
       "        vertical-align: middle;\n",
       "    }\n",
       "\n",
       "    .dataframe tbody tr th {\n",
       "        vertical-align: top;\n",
       "    }\n",
       "\n",
       "    .dataframe thead th {\n",
       "        text-align: right;\n",
       "    }\n",
       "</style>\n",
       "<table border=\"1\" class=\"dataframe\">\n",
       "  <thead>\n",
       "    <tr style=\"text-align: right;\">\n",
       "      <th></th>\n",
       "      <th>gender</th>\n",
       "      <th>income</th>\n",
       "      <th>family_number</th>\n",
       "      <th>bought</th>\n",
       "    </tr>\n",
       "  </thead>\n",
       "  <tbody>\n",
       "    <tr>\n",
       "      <td>0</td>\n",
       "      <td>F</td>\n",
       "      <td>+10</td>\n",
       "      <td>1</td>\n",
       "      <td>1</td>\n",
       "    </tr>\n",
       "    <tr>\n",
       "      <td>1</td>\n",
       "      <td>F</td>\n",
       "      <td>-10</td>\n",
       "      <td>1</td>\n",
       "      <td>1</td>\n",
       "    </tr>\n",
       "    <tr>\n",
       "      <td>2</td>\n",
       "      <td>F</td>\n",
       "      <td>+10</td>\n",
       "      <td>2</td>\n",
       "      <td>1</td>\n",
       "    </tr>\n",
       "    <tr>\n",
       "      <td>3</td>\n",
       "      <td>F</td>\n",
       "      <td>+10</td>\n",
       "      <td>1</td>\n",
       "      <td>0</td>\n",
       "    </tr>\n",
       "    <tr>\n",
       "      <td>4</td>\n",
       "      <td>M</td>\n",
       "      <td>+10</td>\n",
       "      <td>1</td>\n",
       "      <td>0</td>\n",
       "    </tr>\n",
       "    <tr>\n",
       "      <td>5</td>\n",
       "      <td>M</td>\n",
       "      <td>+10</td>\n",
       "      <td>1</td>\n",
       "      <td>0</td>\n",
       "    </tr>\n",
       "    <tr>\n",
       "      <td>6</td>\n",
       "      <td>M</td>\n",
       "      <td>-10</td>\n",
       "      <td>2</td>\n",
       "      <td>1</td>\n",
       "    </tr>\n",
       "  </tbody>\n",
       "</table>\n",
       "</div>"
      ],
      "text/plain": [
       "  gender income  family_number  bought\n",
       "0      F    +10              1       1\n",
       "1      F    -10              1       1\n",
       "2      F    +10              2       1\n",
       "3      F    +10              1       0\n",
       "4      M    +10              1       0\n",
       "5      M    +10              1       0\n",
       "6      M    -10              2       1"
      ]
     },
     "execution_count": 200,
     "metadata": {},
     "output_type": "execute_result"
    }
   ],
   "source": [
    "dataset"
   ]
  },
  {
   "cell_type": "code",
   "execution_count": 201,
   "metadata": {},
   "outputs": [
    {
     "data": {
      "text/plain": [
       "{1, 2}"
      ]
     },
     "execution_count": 201,
     "metadata": {},
     "output_type": "execute_result"
    },
    {
     "data": {
      "text/plain": [
       "[1, 1, 2, 1, 1, 1, 2]"
      ]
     },
     "execution_count": 201,
     "metadata": {},
     "output_type": "execute_result"
    }
   ],
   "source": [
    "set(mock_data['family_number'])\n",
    "mock_data['family_number']"
   ]
  },
  {
   "cell_type": "code",
   "execution_count": 202,
   "metadata": {},
   "outputs": [],
   "source": [
    "sub_split_1 = dataset[dataset['family_number'] == 1]['bought'].to_list()"
   ]
  },
  {
   "cell_type": "code",
   "execution_count": 203,
   "metadata": {},
   "outputs": [],
   "source": [
    "sub_split_2 = dataset[dataset['family_number'] != 1]['bought'].to_list()"
   ]
  },
  {
   "cell_type": "code",
   "execution_count": 204,
   "metadata": {},
   "outputs": [
    {
     "data": {
      "text/plain": [
       "[1, 1, 0, 0, 0]"
      ]
     },
     "execution_count": 204,
     "metadata": {},
     "output_type": "execute_result"
    },
    {
     "data": {
      "text/plain": [
       "[1, 1]"
      ]
     },
     "execution_count": 204,
     "metadata": {},
     "output_type": "execute_result"
    }
   ],
   "source": [
    "sub_split_1\n",
    "sub_split_2"
   ]
  },
  {
   "cell_type": "code",
   "execution_count": 205,
   "metadata": {},
   "outputs": [],
   "source": [
    "_sub_split_1 = dataset[dataset['gender'] == 'M']['bought'].to_list()"
   ]
  },
  {
   "cell_type": "code",
   "execution_count": 206,
   "metadata": {},
   "outputs": [],
   "source": [
    "_sub_split_2 = dataset[dataset['gender'] == 'F']['bought'].to_list()"
   ]
  },
  {
   "cell_type": "code",
   "execution_count": 207,
   "metadata": {},
   "outputs": [
    {
     "data": {
      "text/plain": [
       "[0, 0, 1]"
      ]
     },
     "execution_count": 207,
     "metadata": {},
     "output_type": "execute_result"
    },
    {
     "data": {
      "text/plain": [
       "[1, 1, 1, 0]"
      ]
     },
     "execution_count": 207,
     "metadata": {},
     "output_type": "execute_result"
    }
   ],
   "source": [
    "_sub_split_1\n",
    "_sub_split_2"
   ]
  },
  {
   "cell_type": "code",
   "execution_count": 208,
   "metadata": {},
   "outputs": [
    {
     "name": "stderr",
     "output_type": "stream",
     "text": [
      "ic| probs: [0.6, 0.4]\n",
      "ic| probs: [1.0]\n"
     ]
    },
    {
     "data": {
      "text/plain": [
       "0.6730116670092565"
      ]
     },
     "execution_count": 208,
     "metadata": {},
     "output_type": "execute_result"
    }
   ],
   "source": [
    "entropy(sub_split_1) + entropy(sub_split_2) "
   ]
  },
  {
   "cell_type": "code",
   "execution_count": 209,
   "metadata": {},
   "outputs": [
    {
     "name": "stderr",
     "output_type": "stream",
     "text": [
      "ic| probs: [0.6666666666666666, 0.3333333333333333]\n",
      "ic| probs: [0.25, 0.75]\n"
     ]
    },
    {
     "data": {
      "text/plain": [
       "1.198849312913621"
      ]
     },
     "execution_count": 209,
     "metadata": {},
     "output_type": "execute_result"
    }
   ],
   "source": [
    "entropy(_sub_split_1) + entropy(_sub_split_2) "
   ]
  },
  {
   "cell_type": "code",
   "execution_count": 210,
   "metadata": {},
   "outputs": [
    {
     "data": {
      "text/plain": [
       "['gender', 'income', 'family_number', 'bought']"
      ]
     },
     "execution_count": 210,
     "metadata": {},
     "output_type": "execute_result"
    }
   ],
   "source": [
    "dataset.columns.tolist()"
   ]
  },
  {
   "cell_type": "markdown",
   "metadata": {},
   "source": [
    "##### 持续的特征点选择"
   ]
  },
  {
   "cell_type": "code",
   "execution_count": 213,
   "metadata": {},
   "outputs": [],
   "source": [
    "def find_the_min_spliter(training_data: pd.DataFrame, target: str) -> str:\n",
    "    x_fields = set(training_data.columns.tolist()) - {target}\n",
    "    ic(x_fields)\n",
    "    \n",
    "    spliter = None\n",
    "    min_entropy = float('inf')\n",
    "    \n",
    "    for f in x_fields:\n",
    "        ic(f)\n",
    "        values = set(training_data[f])\n",
    "        ic(values)\n",
    "        for v in values:\n",
    "            sub_split_1 = training_data[training_data[f] == v][target].tolist()\n",
    "            ic(sub_split_1)\n",
    "            entropy_1 = entropy(sub_split_1)\n",
    "            ic(entropy_1)\n",
    "            \n",
    "            sub_split_2 = training_data[training_data[f] != v][target].tolist()\n",
    "            ic(sub_split_2)\n",
    "            entropy_2 = entropy(sub_split_2)\n",
    "            ic(entropy_2)\n",
    "            \n",
    "            entropy_v = entropy_1 + entropy_2\n",
    "            ic(entropy_v)\n",
    "            \n",
    "            if entropy_v <= min_entropy:\n",
    "                min_entropy = entropy_v\n",
    "                spliter = (f, v)\n",
    "            \n",
    "            \n",
    "    print('spliter is: {}'.format(spliter))\n",
    "    print('the min entropy is: {}'.format(min_entropy))\n",
    "    \n",
    "    return spliter\n",
    "    "
   ]
  },
  {
   "cell_type": "code",
   "execution_count": 214,
   "metadata": {},
   "outputs": [
    {
     "name": "stderr",
     "output_type": "stream",
     "text": [
      "ic| x_fields: {'family_number', 'income', 'gender'}\n",
      "ic| f: 'family_number'\n",
      "ic| values: {1, 2}\n",
      "ic| sub_split_1: [1, 1, 0, 0, 0]\n",
      "ic| probs: [0.6, 0.4]\n",
      "ic| entropy_1: 0.6730116670092565\n",
      "ic| sub_split_2: [1, 1]\n",
      "ic| probs: [1.0]\n",
      "ic| entropy_2: -0.0\n",
      "ic| entropy_v: 0.6730116670092565\n",
      "ic| sub_split_1: [1, 1]\n",
      "ic| probs: [1.0]\n",
      "ic| entropy_1: -0.0\n",
      "ic| sub_split_2: [1, 1, 0, 0, 0]\n",
      "ic| probs: [0.6, 0.4]\n",
      "ic| entropy_2: 0.6730116670092565\n",
      "ic| entropy_v: 0.6730116670092565\n",
      "ic| f: 'income'\n",
      "ic| values: {'-10', '+10'}\n",
      "ic| sub_split_1: [1, 1]\n",
      "ic| probs: [1.0]\n",
      "ic| entropy_1: -0.0\n",
      "ic| sub_split_2: [1, 1, 0, 0, 0]\n",
      "ic| probs: [0.6, 0.4]\n",
      "ic| entropy_2: 0.6730116670092565\n",
      "ic| entropy_v: 0.6730116670092565\n",
      "ic| sub_split_1: [1, 1, 0, 0, 0]\n",
      "ic| probs: [0.6, 0.4]\n",
      "ic| entropy_1: 0.6730116670092565\n",
      "ic| sub_split_2: [1, 1]\n",
      "ic| probs: [1.0]\n",
      "ic| entropy_2: -0.0\n",
      "ic| entropy_v: 0.6730116670092565\n",
      "ic| f: 'gender'\n",
      "ic| values: {'F', 'M'}\n",
      "ic| sub_split_1: [1, 1, 1, 0]\n",
      "ic| probs: [0.25, 0.75]\n",
      "ic| entropy_1: 0.5623351446188083\n",
      "ic| sub_split_2: [0, 0, 1]\n",
      "ic| probs: [0.6666666666666666, 0.3333333333333333]\n",
      "ic| entropy_2: 0.6365141682948128\n",
      "ic| entropy_v: 1.198849312913621\n",
      "ic| sub_split_1: [0, 0, 1]\n",
      "ic| probs: [0.6666666666666666, 0.3333333333333333]\n",
      "ic| entropy_1: 0.6365141682948128\n",
      "ic| sub_split_2: [1, 1, 1, 0]\n",
      "ic| probs: [0.25, 0.75]\n",
      "ic| entropy_2: 0.5623351446188083\n",
      "ic| entropy_v: 1.198849312913621\n"
     ]
    },
    {
     "name": "stdout",
     "output_type": "stream",
     "text": [
      "spliter is: ('income', '+10')\n",
      "the min entropy is: 0.6730116670092565\n"
     ]
    },
    {
     "data": {
      "text/plain": [
       "('income', '+10')"
      ]
     },
     "execution_count": 214,
     "metadata": {},
     "output_type": "execute_result"
    }
   ],
   "source": [
    "find_the_min_spliter(dataset, 'bought')"
   ]
  },
  {
   "cell_type": "code",
   "execution_count": null,
   "metadata": {},
   "outputs": [],
   "source": [
    "dataset[dataset['income'] == '+10']"
   ]
  },
  {
   "cell_type": "code",
   "execution_count": null,
   "metadata": {},
   "outputs": [],
   "source": [
    "dataset[dataset['income'] == '-10']"
   ]
  },
  {
   "cell_type": "code",
   "execution_count": null,
   "metadata": {},
   "outputs": [],
   "source": [
    "find_the_min_spliter(dataset[dataset['income'] == '+10'], 'bought')"
   ]
  },
  {
   "cell_type": "code",
   "execution_count": null,
   "metadata": {},
   "outputs": [],
   "source": [
    "sub_df = dataset[dataset['income'] == \"+10\"]"
   ]
  },
  {
   "cell_type": "code",
   "execution_count": null,
   "metadata": {},
   "outputs": [],
   "source": [
    "sub_df[sub_df['family_number'] == 1]"
   ]
  },
  {
   "cell_type": "code",
   "execution_count": null,
   "metadata": {},
   "outputs": [],
   "source": [
    "sub_df[sub_df['family_number'] == 2]"
   ]
  },
  {
   "cell_type": "code",
   "execution_count": null,
   "metadata": {},
   "outputs": [],
   "source": [
    "find_the_min_spliter(sub_df[sub_df['family_number'] == 1], 'bought')"
   ]
  },
  {
   "cell_type": "markdown",
   "metadata": {},
   "source": [
    "#### 4. Finish the K-Means using 2-D matplotlib (8 points)"
   ]
  },
  {
   "cell_type": "markdown",
   "metadata": {},
   "source": [
    "<评阅点>\n",
    "> + 是否完成了KMeans模型，基于scikit-learning (3')\n",
    "+ 是否完成了可视化任务（5'）"
   ]
  },
  {
   "cell_type": "markdown",
   "metadata": {},
   "source": [
    "##### KMeans 模型"
   ]
  },
  {
   "cell_type": "code",
   "execution_count": null,
   "metadata": {},
   "outputs": [],
   "source": [
    "from sklearn.cluster import KMeans\n",
    "from collections import defaultdict"
   ]
  },
  {
   "cell_type": "code",
   "execution_count": null,
   "metadata": {},
   "outputs": [],
   "source": [
    "X = [np.random.randint(0, 100) for _ in range(100)]\n",
    "Y = [np.random.randint(0, 100) for _ in range(100)]"
   ]
  },
  {
   "cell_type": "code",
   "execution_count": null,
   "metadata": {},
   "outputs": [],
   "source": [
    "plt.scatter(X, Y)"
   ]
  },
  {
   "cell_type": "code",
   "execution_count": null,
   "metadata": {},
   "outputs": [],
   "source": [
    "trainning_data = [[x, y] for x, y in zip(X, Y)]"
   ]
  },
  {
   "cell_type": "code",
   "execution_count": null,
   "metadata": {},
   "outputs": [],
   "source": [
    "cluster = KMeans(n_clusters=6, max_iter=500)"
   ]
  },
  {
   "cell_type": "code",
   "execution_count": null,
   "metadata": {},
   "outputs": [],
   "source": [
    "cluster.fit(trainning_data)"
   ]
  },
  {
   "cell_type": "code",
   "execution_count": null,
   "metadata": {},
   "outputs": [],
   "source": [
    "cluster.cluster_centers_"
   ]
  },
  {
   "cell_type": "code",
   "execution_count": null,
   "metadata": {},
   "outputs": [],
   "source": [
    "cluster.labels_"
   ]
  },
  {
   "cell_type": "code",
   "execution_count": null,
   "metadata": {},
   "outputs": [],
   "source": [
    "centers = defaultdict(list)"
   ]
  },
  {
   "cell_type": "code",
   "execution_count": null,
   "metadata": {},
   "outputs": [],
   "source": [
    "cluster.labels_.shape"
   ]
  },
  {
   "cell_type": "code",
   "execution_count": null,
   "metadata": {},
   "outputs": [],
   "source": [
    "for label, location in zip(cluster.labels_, trainning_data):\n",
    "    centers[label].append(location)"
   ]
  },
  {
   "cell_type": "markdown",
   "metadata": {},
   "source": [
    "##### 可视化"
   ]
  },
  {
   "cell_type": "code",
   "execution_count": null,
   "metadata": {},
   "outputs": [],
   "source": [
    "color  = ['red', 'green', 'grey', 'black', 'yellow', 'orange']\n",
    "\n",
    "for i, c in enumerate(centers):\n",
    "    for location in centers[c]:\n",
    "        plt.scatter(*location, c = color[i])\n",
    "\n",
    "for centers in cluster.cluster_centers_:\n",
    "    plt.scatter(*centers, s = 100)"
   ]
  },
  {
   "cell_type": "markdown",
   "metadata": {},
   "source": [
    "## Part-2 Question and Answer 问答"
   ]
  },
  {
   "cell_type": "markdown",
   "metadata": {},
   "source": [
    "#### 1. What's the *model*? why  all the models are wrong, but some are useful? (5 points) "
   ]
  },
  {
   "cell_type": "markdown",
   "metadata": {},
   "source": [
    "Ans:"
   ]
  },
  {
   "cell_type": "markdown",
   "metadata": {},
   "source": [
    "<评阅点>\n",
    "> + 对模型的理解是否正确,对模型的抽象性是否正确(5')"
   ]
  },
  {
   "cell_type": "markdown",
   "metadata": {},
   "source": [
    "**what is model?**：\n",
    "模型是用来描述客观世界的数学模型，是从数据中抽象出来的，在进行数据分析的时候，我们通常手上只有数据，然后根据数据找规律，找到的规律就是模型。"
   ]
  },
  {
   "cell_type": "markdown",
   "metadata": {},
   "source": [
    "**why all the models are wrong, but some are useful?**: 前半句的意思是影响现实的因素非常多，人类不可能站在“上帝视角”对现实世界进行完全模拟，因此我们得到模型也就不是绝对意义上的正确的模型, 是有误差的。后半句的意思是，模型虽然不能对现实进行完全的模拟，但是可以帮助我们找到一些有规律的东西，从而利用这个规律解决现实问题。"
   ]
  },
  {
   "cell_type": "markdown",
   "metadata": {},
   "source": [
    "#### 2. What's the underfitting and overfitting? List the reasons that could make model overfitting or underfitting. (10 points)"
   ]
  },
  {
   "cell_type": "markdown",
   "metadata": {},
   "source": [
    "Ans:"
   ]
  },
  {
   "cell_type": "markdown",
   "metadata": {},
   "source": [
    "**What's the underfitting and overfitting?**:  \n",
    "**欠拟合**: 就是模型没有很好的捕捉到数据特征，不能很好的拟合数据.  \n",
    "**欠拟合的原因**：模型复杂度过低，训练迭代的次数不够，不能很好的拟合所有的数据，训练误差大；  \n",
    "**避免欠拟合**：  \n",
    "1, 增加模型复杂度，如采用高阶模型（预测）,添加多项式特征  \n",
    "2, 引入更多特征（分类）等.  \n",
    "3, 减少正则化参数  \n",
    "**过拟合** :模型对你数据过度拟合，以至于把噪声数据也学习到了，这样就导致在后期测试的时候不能很好的识别数据，即不能正确的分类，模型的泛化能力太差。  \n",
    "**过拟合的原因**:   \n",
    "1, 建模样本抽取错误  \n",
    "2， 样本里的噪音数据干扰过大  \n",
    "3， 参数太多， 模型复杂度高  \n",
    "**过拟合的原因**：模型复杂度过高，训练数据过少，训练误差小，测试误差大；  \n",
    "避免过拟合：降低模型复杂度，如加上正则惩罚项，如L1，L2，增加训练数据等。  \n",
    "**避免过拟合**:   \n",
    "1,增加样本的全面性和数据  \n",
    "２，控制模型的复杂度  \n",
    "３，不要过度训练  \n",
    "４，模型融合"
   ]
  },
  {
   "cell_type": "markdown",
   "metadata": {},
   "source": [
    "<评阅点>\n",
    "> + 对过拟合和欠拟合的理解是否正确 (3')\n",
    "+ 对欠拟合产生的原因是否理解正确(2')\n",
    "+ 对过拟合产生的原因是否理解正确(5')"
   ]
  },
  {
   "cell_type": "markdown",
   "metadata": {},
   "source": [
    "#### 3. What's the precision, recall, AUC, F1, F2score. What are they mainly target on? (12')"
   ]
  },
  {
   "cell_type": "markdown",
   "metadata": {},
   "source": [
    "Ans:"
   ]
  },
  {
   "cell_type": "markdown",
   "metadata": {},
   "source": [
    "<评阅点>\n",
    "> + 对precision, recall, AUC, F1, F2 理解是否正确(6‘)\n",
    "+ 对precision, recall, AUC, F1, F2的使用侧重点是否理解正确 (6’)"
   ]
  },
  {
   "cell_type": "markdown",
   "metadata": {},
   "source": []
  },
  {
   "cell_type": "markdown",
   "metadata": {},
   "source": [
    "|   | 1                 |         0        |\n",
    "|:----:|:-------------------:|:------------------:|\n",
    "| 1 | True Positive(TP) | False Positive(FP) |\n",
    "| 0 | False Negative(FN)| True Negative(TN)  |"
   ]
  },
  {
   "cell_type": "markdown",
   "metadata": {},
   "source": [
    "根据混淆矩阵，　TP为预测正确为正例的数量， FP为预测错误为正例的数量，FN为预测错误为负例的数量，TN为预测正确为负例的数量  \n",
    "**precision**  \n",
    "precision为 $TP/(TP + FP)$， 即为预测为正例的样本中，实际真正为正例的比例  \n",
    "在对精确率敏感的场景比如反欺诈领域，由于模型的结果会对正常客户产生干扰，造成误杀，营销客户体验，因此模型需要在保证精确率的前提下提高召回率。  \n",
    "**recall**  \n",
    "$TP/(TP + FN)$， 即为实际真正为正例的样本中，被预测为正例的比例  \n",
    "在对精确率不敏感但是对召回率敏感的场景，如精准营销中，可以适当调低阈值增加召回率。  \n",
    "**F1**  \n",
    "F1值是精确率和召回率的调和均值，即$F1 = 2 * precision * recall / (precision + recall)$，相当于精确率和召回率的综合评价指标  \n",
    "**F2**  \n",
    "$F1 = 5 * precision * recall / (4 * precision + recall)$  \n",
    "**F$\\alpha$**  \n",
    "$F\\alpha = (1 + \\alpha^2) * precision * recall / (\\alpha^2 * precision + recall)$  \n",
    "**AUC**  \n",
    "取不同的阈值对正列和反例进行预测可以得到不同的TPR和FPR.以TPR为y轴，以FPR为x轴，做图得到的曲线是ROC曲线，AUC曲线下的面积就是AUC.AUC越接近1，说明模型预测效果越好。  \n",
    "\n",
    "对于有监督的二分类问题，在正负样本都足够的情况下，可以直接使用ROC评价模型效果，在确定阈值过程中，可以根据Precision,Recall或者F1来评价模型分类效果。  \n",
    "\n",
    "对于多分类问题，可以对每一类分别计算Precision,Recall和F1，综合作为模型评价指标\n"
   ]
  },
  {
   "cell_type": "markdown",
   "metadata": {},
   "source": [
    "#### 4. Based on our course and yourself mind, what's the machine learning?  (8')"
   ]
  },
  {
   "cell_type": "markdown",
   "metadata": {},
   "source": [
    "Ans:传统的分析式编程是基于规则的，为了达到目的，我们会写各种规则对条件进行约束，进而求到结果。这种方式的缺点是在很多场景下，我们很难穷举出所有规则，当出现了不在我们规则范围内的数据时，就会得到错误答案。  \n",
    "机器学习这种思维方式克服了传统分析式编程的缺点，它能够自动的从数据中学习到规律，从而使程序变得更聪明。当有新数据过来时，机器学习模型可以根据学到的知识，对新数据进行预测，这种方式节省了大量的人力劳动，并且做到了传统方式无法做到的事情。"
   ]
  },
  {
   "cell_type": "markdown",
   "metadata": {},
   "source": [
    "<评阅点> 开放式问题，是否能说出来机器学习这种思维方式和传统的分析式编程的区别（8'）"
   ]
  },
  {
   "cell_type": "markdown",
   "metadata": {},
   "source": [
    "#### 5. \"正确定义了机器学习模型的评价标准(evaluation)， 问题基本上就已经解决一半\". 这句话是否正确？你是怎么看待的？ (8‘)"
   ]
  },
  {
   "cell_type": "markdown",
   "metadata": {},
   "source": [
    "<评阅点> 开放式问题，主要看能理解评价指标对机器学习模型的重要性."
   ]
  },
  {
   "cell_type": "markdown",
   "metadata": {},
   "source": [
    "## Part-03 Programming Practice 编程练习"
   ]
  },
  {
   "cell_type": "markdown",
   "metadata": {},
   "source": [
    "1. In our course and previous practice, we complete some importance components of Decision Tree. In this problem, you need to build a **completed** Decision Tree Model. You show finish a `predicate()` function, which accepts three parameters **<gender, income, family_number>**, and outputs the predicated 'bought': 1 or 0.  (20 points)"
   ]
  },
  {
   "cell_type": "code",
   "execution_count": 179,
   "metadata": {},
   "outputs": [
    {
     "data": {
      "text/plain": [
       "array([1, 4])"
      ]
     },
     "execution_count": 179,
     "metadata": {},
     "output_type": "execute_result"
    }
   ],
   "source": [
    "b = np.array([1,2,3,4])\n",
    "b[[0, 3]]"
   ]
  },
  {
   "cell_type": "code",
   "execution_count": 174,
   "metadata": {},
   "outputs": [
    {
     "data": {
      "text/html": [
       "<div>\n",
       "<style scoped>\n",
       "    .dataframe tbody tr th:only-of-type {\n",
       "        vertical-align: middle;\n",
       "    }\n",
       "\n",
       "    .dataframe tbody tr th {\n",
       "        vertical-align: top;\n",
       "    }\n",
       "\n",
       "    .dataframe thead th {\n",
       "        text-align: right;\n",
       "    }\n",
       "</style>\n",
       "<table border=\"1\" class=\"dataframe\">\n",
       "  <thead>\n",
       "    <tr style=\"text-align: right;\">\n",
       "      <th></th>\n",
       "      <th>gender</th>\n",
       "      <th>income</th>\n",
       "      <th>family_number</th>\n",
       "      <th>bought</th>\n",
       "    </tr>\n",
       "  </thead>\n",
       "  <tbody>\n",
       "    <tr>\n",
       "      <td>0</td>\n",
       "      <td>F</td>\n",
       "      <td>+10</td>\n",
       "      <td>1</td>\n",
       "      <td>1</td>\n",
       "    </tr>\n",
       "    <tr>\n",
       "      <td>1</td>\n",
       "      <td>F</td>\n",
       "      <td>-10</td>\n",
       "      <td>1</td>\n",
       "      <td>1</td>\n",
       "    </tr>\n",
       "    <tr>\n",
       "      <td>2</td>\n",
       "      <td>F</td>\n",
       "      <td>+10</td>\n",
       "      <td>2</td>\n",
       "      <td>1</td>\n",
       "    </tr>\n",
       "    <tr>\n",
       "      <td>3</td>\n",
       "      <td>F</td>\n",
       "      <td>+10</td>\n",
       "      <td>1</td>\n",
       "      <td>0</td>\n",
       "    </tr>\n",
       "    <tr>\n",
       "      <td>4</td>\n",
       "      <td>M</td>\n",
       "      <td>+10</td>\n",
       "      <td>1</td>\n",
       "      <td>0</td>\n",
       "    </tr>\n",
       "    <tr>\n",
       "      <td>5</td>\n",
       "      <td>M</td>\n",
       "      <td>+10</td>\n",
       "      <td>1</td>\n",
       "      <td>0</td>\n",
       "    </tr>\n",
       "    <tr>\n",
       "      <td>6</td>\n",
       "      <td>M</td>\n",
       "      <td>-10</td>\n",
       "      <td>2</td>\n",
       "      <td>1</td>\n",
       "    </tr>\n",
       "  </tbody>\n",
       "</table>\n",
       "</div>"
      ],
      "text/plain": [
       "  gender income  family_number  bought\n",
       "0      F    +10              1       1\n",
       "1      F    -10              1       1\n",
       "2      F    +10              2       1\n",
       "3      F    +10              1       0\n",
       "4      M    +10              1       0\n",
       "5      M    +10              1       0\n",
       "6      M    -10              2       1"
      ]
     },
     "execution_count": 174,
     "metadata": {},
     "output_type": "execute_result"
    },
    {
     "data": {
      "text/plain": [
       "array([['F', '+10', 1, 1],\n",
       "       ['F', '-10', 1, 1],\n",
       "       ['F', '+10', 2, 1],\n",
       "       ['F', '+10', 1, 0],\n",
       "       ['M', '+10', 1, 0],\n",
       "       ['M', '+10', 1, 0],\n",
       "       ['M', '-10', 2, 1]], dtype=object)"
      ]
     },
     "execution_count": 174,
     "metadata": {},
     "output_type": "execute_result"
    }
   ],
   "source": [
    "dataset\n",
    "dataSet = dataset.values\n",
    "dataSet"
   ]
  },
  {
   "cell_type": "code",
   "execution_count": 180,
   "metadata": {},
   "outputs": [
    {
     "data": {
      "text/plain": [
       "array([['F', '+10', 1, 1],\n",
       "       ['F', '-10', 1, 1],\n",
       "       ['F', '+10', 2, 1],\n",
       "       ['F', '+10', 1, 0],\n",
       "       ['M', '+10', 1, 0],\n",
       "       ['M', '+10', 1, 0],\n",
       "       ['M', '-10', 2, 1]], dtype=object)"
      ]
     },
     "execution_count": 180,
     "metadata": {},
     "output_type": "execute_result"
    }
   ],
   "source": [
    "dataSet"
   ]
  },
  {
   "cell_type": "code",
   "execution_count": 186,
   "metadata": {},
   "outputs": [],
   "source": [
    "v = 'M'"
   ]
  },
  {
   "cell_type": "code",
   "execution_count": 187,
   "metadata": {},
   "outputs": [
    {
     "data": {
      "text/plain": [
       "[0, 0, 1]"
      ]
     },
     "execution_count": 187,
     "metadata": {},
     "output_type": "execute_result"
    }
   ],
   "source": [
    "[line[-1] for line in dataSet if line[0] == v]"
   ]
  },
  {
   "cell_type": "code",
   "execution_count": 281,
   "metadata": {},
   "outputs": [],
   "source": [
    "import operator"
   ]
  },
  {
   "cell_type": "code",
   "execution_count": 282,
   "metadata": {},
   "outputs": [],
   "source": [
    "def find_the_min_spliter(training_data: np.array):\n",
    "    training_data = np.array(training_data)\n",
    "    fields_index = [i for i in range(np.array(training_data).shape[1] - 1)]\n",
    "    \n",
    "    spliter = None\n",
    "    min_entropy = float('inf')\n",
    "    \n",
    "    for f in fields_index:\n",
    "        ic(f)\n",
    "        values = set(training_data[:, f])\n",
    "        ic(values)\n",
    "        for v in values:\n",
    "            sub_split_1 = [line[-1] for line in dataSet if line[0] == v]\n",
    "            ic(sub_split_1)\n",
    "            entropy_1 = entropy(sub_split_1)\n",
    "            ic(entropy_1)\n",
    "            \n",
    "            sub_split_2 =[line[-1] for line in dataSet if line[0] != v]\n",
    "            ic(sub_split_2)\n",
    "            entropy_2 = entropy(sub_split_2)\n",
    "            ic(entropy_2)\n",
    "            \n",
    "            entropy_v = entropy_1 + entropy_2\n",
    "            ic(entropy_v)\n",
    "            \n",
    "            if entropy_v <= min_entropy:\n",
    "                min_entropy = entropy_v\n",
    "                spliter = (f, v)\n",
    "            \n",
    "            \n",
    "    print('spliter is: {}'.format(spliter))\n",
    "    print('the min entropy is: {}'.format(min_entropy))\n",
    "    \n",
    "    return spliter\n",
    "    "
   ]
  },
  {
   "cell_type": "code",
   "execution_count": 283,
   "metadata": {},
   "outputs": [
    {
     "name": "stderr",
     "output_type": "stream",
     "text": [
      "ic| f: 0\n",
      "ic| values: {'F', 'M'}\n",
      "ic| sub_split_1: [1, 1, 1, 0]\n",
      "ic| probs: [0.25, 0.75]\n",
      "ic| entropy_1: 0.5623351446188083\n",
      "ic| sub_split_2: [0, 0, 1]\n",
      "ic| probs: [0.6666666666666666, 0.3333333333333333]\n",
      "ic| entropy_2: 0.6365141682948128\n",
      "ic| entropy_v: 1.198849312913621\n",
      "ic| sub_split_1: [0, 0, 1]\n",
      "ic| probs: [0.6666666666666666, 0.3333333333333333]\n",
      "ic| entropy_1: 0.6365141682948128\n",
      "ic| sub_split_2: [1, 1, 1, 0]\n",
      "ic| probs: [0.25, 0.75]\n",
      "ic| entropy_2: 0.5623351446188083\n",
      "ic| entropy_v: 1.198849312913621\n",
      "ic| f: 1\n",
      "ic| values: {'-10', '+10'}\n",
      "ic| sub_split_1: []\n",
      "ic| probs: []\n",
      "ic| entropy_1: 0\n",
      "ic| sub_split_2: [1, 1, 1, 0, 0, 0, 1]\n",
      "ic| probs: [0.42857142857142855, 0.5714285714285714]\n",
      "ic| entropy_2: 0.6829081047004717\n",
      "ic| entropy_v: 0.6829081047004717\n",
      "ic| sub_split_1: []\n",
      "ic| probs: []\n",
      "ic| entropy_1: 0\n",
      "ic| sub_split_2: [1, 1, 1, 0, 0, 0, 1]\n",
      "ic| probs: [0.42857142857142855, 0.5714285714285714]\n",
      "ic| entropy_2: 0.6829081047004717\n",
      "ic| entropy_v: 0.6829081047004717\n",
      "ic| f: 2\n",
      "ic| values: {1, 2}\n",
      "ic| sub_split_1: []\n",
      "ic| probs: []\n",
      "ic| entropy_1: 0\n",
      "ic| sub_split_2: [1, 1, 1, 0, 0, 0, 1]\n",
      "ic| probs: [0.42857142857142855, 0.5714285714285714]\n",
      "ic| entropy_2: 0.6829081047004717\n",
      "ic| entropy_v: 0.6829081047004717\n",
      "ic| sub_split_1: []\n",
      "ic| probs: []\n",
      "ic| entropy_1: 0\n",
      "ic| sub_split_2: [1, 1, 1, 0, 0, 0, 1]\n",
      "ic| probs: [0.42857142857142855, 0.5714285714285714]\n",
      "ic| entropy_2: 0.6829081047004717\n",
      "ic| entropy_v: 0.6829081047004717\n"
     ]
    },
    {
     "name": "stdout",
     "output_type": "stream",
     "text": [
      "spliter is: (2, 2)\n",
      "the min entropy is: 0.6829081047004717\n"
     ]
    },
    {
     "data": {
      "text/plain": [
       "(2, 2)"
      ]
     },
     "execution_count": 283,
     "metadata": {},
     "output_type": "execute_result"
    }
   ],
   "source": [
    "find_the_min_spliter(dataSet)"
   ]
  },
  {
   "cell_type": "code",
   "execution_count": 305,
   "metadata": {},
   "outputs": [],
   "source": [
    "# you code here\n",
    "def splitDataSet(dataSet, axis, value):\n",
    "    \"\"\"\n",
    "    根据特征和特征对应的值对数据集进行划分\n",
    "    \"\"\"\n",
    "    retDataSet = []\n",
    "    for featVec in dataSet:\n",
    "        if featVec[axis] == value:\n",
    "            reduceFeatVec = list(featVec[:axis])\n",
    "            reduceFeatVec.extend(list(featVec[axis + 1:]))\n",
    "            retDataSet.append(reduceFeatVec)\n",
    "    return retDataSet\n",
    "    \n",
    "def majorityCnt(classList):\n",
    "    \"\"\"\n",
    "    如果已经使用了所有的特征但是分类标签任然不唯一的时候，采用投票法进行分类\n",
    "    \"\"\"\n",
    "    classCount = {}\n",
    "    for vote in classList:\n",
    "        if vote not in classCount.keys():\n",
    "            classCount[vote] = 0\n",
    "        classCount[vote] += 1\n",
    "        sortedClassCount = sorted(classCount.items(), key = operator.itemgetter(1), reverse = True)\n",
    "        return sortedClassCount[0][0]\n",
    "\n",
    "def buildTree(dataset, labels):\n",
    "    \"\"\"\n",
    "    递归构建决策树\n",
    "    \"\"\"\n",
    "    ic(dataset)\n",
    "    classList = [example[-1] for example in dataset]\n",
    "    if classList.count(classList[0]) == len(classList):\n",
    "        return classList[0]\n",
    "    ic(dataset[0])\n",
    "    \n",
    "    if len(dataset[0]) == 1:\n",
    "        return majorityCnt(classList)\n",
    "    \n",
    "    bestFeat = find_the_min_spliter(dataset)[0]\n",
    "    ic(bestFeat)\n",
    "    bestFeatLabel = labels[bestFeat]\n",
    "    ic(bestFeatLabel)\n",
    "    \n",
    "    \n",
    "    myTree = {bestFeatLabel:{}}\n",
    "    \n",
    "    ic(labels)\n",
    "    bestFeat = labels.index(bestFeatLabel)\n",
    "    ic(bestFeat)\n",
    "    del(labels[bestFeat])\n",
    "    ic(labels)\n",
    "    \n",
    "    featValues = [example[bestFeat] for example in dataset]\n",
    "    ic(featValues)\n",
    "    \n",
    "    uniqueVals = set(featValues)\n",
    "    ic(uniqueVals)\n",
    "    \n",
    "    for value in uniqueVals:\n",
    "        subLabels = labels[:]\n",
    "        myTree[bestFeatLabel][value] = buildTree(splitDataSet(dataset, bestFeat, value), subLabels)\n",
    "        \n",
    "    return myTree\n",
    "\n",
    "def predictOne(inputTree, featLabels, testVec):\n",
    "    \"\"\"\n",
    "    输入测试数据进行预测\n",
    "    \"\"\"\n",
    "    ic(inputTree)\n",
    "    firstStr = list(inputTree.keys())[0]\n",
    "    ic(firstStr)\n",
    "    secondDict = inputTree[firstStr]\n",
    "    featIndex = featLabels.index(firstStr)\n",
    "    for key in secondDict.keys():\n",
    "        if testVec[featIndex] == key:\n",
    "            if type(secondDict[key]).__name__ == 'dict':\n",
    "                classLabel = predictOne(secondDict[key], featLabels, testVec)\n",
    "            else :\n",
    "                classLabel = secondDict[key]\n",
    "            return classLabel\n",
    "\n",
    "def predict(inputTree, featLabels, testDataSet):\n",
    "    predictLabels = []\n",
    "    for testVec in testDataSet:\n",
    "        predictLabels.append(predictOne(inputTree, featLabels, testVec))\n",
    "    return predictLabels\n",
    "    \n"
   ]
  },
  {
   "cell_type": "code",
   "execution_count": 306,
   "metadata": {},
   "outputs": [
    {
     "data": {
      "text/html": [
       "<div>\n",
       "<style scoped>\n",
       "    .dataframe tbody tr th:only-of-type {\n",
       "        vertical-align: middle;\n",
       "    }\n",
       "\n",
       "    .dataframe tbody tr th {\n",
       "        vertical-align: top;\n",
       "    }\n",
       "\n",
       "    .dataframe thead th {\n",
       "        text-align: right;\n",
       "    }\n",
       "</style>\n",
       "<table border=\"1\" class=\"dataframe\">\n",
       "  <thead>\n",
       "    <tr style=\"text-align: right;\">\n",
       "      <th></th>\n",
       "      <th>gender</th>\n",
       "      <th>income</th>\n",
       "      <th>family_number</th>\n",
       "      <th>bought</th>\n",
       "    </tr>\n",
       "  </thead>\n",
       "  <tbody>\n",
       "    <tr>\n",
       "      <td>0</td>\n",
       "      <td>F</td>\n",
       "      <td>+10</td>\n",
       "      <td>1</td>\n",
       "      <td>1</td>\n",
       "    </tr>\n",
       "    <tr>\n",
       "      <td>1</td>\n",
       "      <td>F</td>\n",
       "      <td>-10</td>\n",
       "      <td>1</td>\n",
       "      <td>1</td>\n",
       "    </tr>\n",
       "    <tr>\n",
       "      <td>2</td>\n",
       "      <td>F</td>\n",
       "      <td>+10</td>\n",
       "      <td>2</td>\n",
       "      <td>1</td>\n",
       "    </tr>\n",
       "    <tr>\n",
       "      <td>3</td>\n",
       "      <td>F</td>\n",
       "      <td>+10</td>\n",
       "      <td>1</td>\n",
       "      <td>0</td>\n",
       "    </tr>\n",
       "    <tr>\n",
       "      <td>4</td>\n",
       "      <td>M</td>\n",
       "      <td>+10</td>\n",
       "      <td>1</td>\n",
       "      <td>0</td>\n",
       "    </tr>\n",
       "    <tr>\n",
       "      <td>5</td>\n",
       "      <td>M</td>\n",
       "      <td>+10</td>\n",
       "      <td>1</td>\n",
       "      <td>0</td>\n",
       "    </tr>\n",
       "    <tr>\n",
       "      <td>6</td>\n",
       "      <td>M</td>\n",
       "      <td>-10</td>\n",
       "      <td>2</td>\n",
       "      <td>1</td>\n",
       "    </tr>\n",
       "  </tbody>\n",
       "</table>\n",
       "</div>"
      ],
      "text/plain": [
       "  gender income  family_number  bought\n",
       "0      F    +10              1       1\n",
       "1      F    -10              1       1\n",
       "2      F    +10              2       1\n",
       "3      F    +10              1       0\n",
       "4      M    +10              1       0\n",
       "5      M    +10              1       0\n",
       "6      M    -10              2       1"
      ]
     },
     "execution_count": 306,
     "metadata": {},
     "output_type": "execute_result"
    },
    {
     "data": {
      "text/plain": [
       "['gender', 'income', 'family_number']"
      ]
     },
     "execution_count": 306,
     "metadata": {},
     "output_type": "execute_result"
    }
   ],
   "source": [
    "dataset\n",
    "labels = dataset.columns[:-1].tolist()\n",
    "labels_tmp = labels[:]\n",
    "labels_tmp"
   ]
  },
  {
   "cell_type": "code",
   "execution_count": 307,
   "metadata": {},
   "outputs": [
    {
     "data": {
      "text/plain": [
       "array([['F', '+10', 1, 1],\n",
       "       ['F', '-10', 1, 1],\n",
       "       ['F', '+10', 2, 1],\n",
       "       ['F', '+10', 1, 0],\n",
       "       ['M', '+10', 1, 0],\n",
       "       ['M', '+10', 1, 0],\n",
       "       ['M', '-10', 2, 1]], dtype=object)"
      ]
     },
     "execution_count": 307,
     "metadata": {},
     "output_type": "execute_result"
    }
   ],
   "source": [
    "#把前面dataframe格式的数据集转成数组格式\n",
    "dataSet = dataset.values\n",
    "dataSet"
   ]
  },
  {
   "cell_type": "code",
   "execution_count": 308,
   "metadata": {},
   "outputs": [
    {
     "name": "stderr",
     "output_type": "stream",
     "text": [
      "ic| dataset: array([['F', '+10', 1, 1],\n",
      "                    ['F', '-10', 1, 1],\n",
      "                    ['F', '+10', 2, 1],\n",
      "                    ['F', '+10', 1, 0],\n",
      "                    ['M', '+10', 1, 0],\n",
      "                    ['M', '+10', 1, 0],\n",
      "                    ['M', '-10', 2, 1]], dtype=object)\n",
      "ic| dataset[0]: array(['F', '+10', 1, 1], dtype=object)\n",
      "ic| f: 0\n",
      "ic| values: {'F', 'M'}\n",
      "ic| sub_split_1: [1, 1, 1, 0]\n",
      "ic| probs: [0.25, 0.75]\n",
      "ic| entropy_1: 0.5623351446188083\n",
      "ic| sub_split_2: [0, 0, 1]\n",
      "ic| probs: [0.6666666666666666, 0.3333333333333333]\n",
      "ic| entropy_2: 0.6365141682948128\n",
      "ic| entropy_v: 1.198849312913621\n",
      "ic| sub_split_1: [0, 0, 1]\n",
      "ic| probs: [0.6666666666666666, 0.3333333333333333]\n",
      "ic| entropy_1: 0.6365141682948128\n",
      "ic| sub_split_2: [1, 1, 1, 0]\n",
      "ic| probs: [0.25, 0.75]\n",
      "ic| entropy_2: 0.5623351446188083\n",
      "ic| entropy_v: 1.198849312913621\n",
      "ic| f: 1\n",
      "ic| values: {'-10', '+10'}\n",
      "ic| sub_split_1: []\n",
      "ic| probs: []\n",
      "ic| entropy_1: 0\n",
      "ic| sub_split_2: [1, 1, 1, 0, 0, 0, 1]\n",
      "ic| probs: [0.42857142857142855, 0.5714285714285714]\n",
      "ic| entropy_2: 0.6829081047004717\n",
      "ic| entropy_v: 0.6829081047004717\n",
      "ic| sub_split_1: []\n",
      "ic| probs: []\n",
      "ic| entropy_1: 0\n",
      "ic| sub_split_2: [1, 1, 1, 0, 0, 0, 1]\n",
      "ic| probs: [0.42857142857142855, 0.5714285714285714]\n",
      "ic| entropy_2: 0.6829081047004717\n",
      "ic| entropy_v: 0.6829081047004717\n",
      "ic| f: 2\n",
      "ic| values: {1, 2}\n",
      "ic| sub_split_1: []\n",
      "ic| probs: []\n",
      "ic| entropy_1: 0\n",
      "ic| sub_split_2: [1, 1, 1, 0, 0, 0, 1]\n",
      "ic| probs: [0.42857142857142855, 0.5714285714285714]\n",
      "ic| entropy_2: 0.6829081047004717\n",
      "ic| entropy_v: 0.6829081047004717\n",
      "ic| sub_split_1: []\n",
      "ic| probs: []\n",
      "ic| entropy_1: 0\n",
      "ic| sub_split_2: [1, 1, 1, 0, 0, 0, 1]\n",
      "ic| probs: [0.42857142857142855, 0.5714285714285714]\n",
      "ic| entropy_2: 0.6829081047004717\n",
      "ic| entropy_v: 0.6829081047004717\n",
      "ic| bestFeat: 2\n",
      "ic| bestFeatLabel: 'family_number'\n",
      "ic| labels: ['gender', 'income', 'family_number']\n",
      "ic| bestFeat: 2\n",
      "ic| labels: ['gender', 'income']\n",
      "ic| featValues: [1, 1, 2, 1, 1, 1, 2]\n",
      "ic"
     ]
    },
    {
     "name": "stdout",
     "output_type": "stream",
     "text": [
      "spliter is: (2, 2)\n",
      "the min entropy is: 0.6829081047004717\n"
     ]
    },
    {
     "name": "stderr",
     "output_type": "stream",
     "text": [
      "| uniqueVals: {1, 2}\n",
      "ic| dataset: [['F', '+10', 1],\n",
      "              ['F', '-10', 1],\n",
      "              ['F', '+10', 0],\n",
      "              ['M', '+10', 0],\n",
      "              ['M', '+10', 0]]\n",
      "ic| dataset[0]: ['F', '+10', 1]\n",
      "ic| f: 0\n",
      "ic| values: {'F', 'M'}\n",
      "ic| sub_split_1: [1, 1, 1, 0]\n",
      "ic| probs: [0.25, 0.75]\n",
      "ic| entropy_1: 0.5623351446188083\n",
      "ic| sub_split_2: [0, 0, 1]\n",
      "ic| probs: [0.6666666666666666, 0.3333333333333333]\n",
      "ic| entropy_2: 0.6365141682948128\n",
      "ic| entropy_v: 1.198849312913621\n",
      "ic| sub_split_1: [0, 0, 1]\n",
      "ic| probs: [0.6666666666666666, 0.3333333333333333]\n",
      "ic| entropy_1: 0.6365141682948128\n",
      "ic| sub_split_2: [1, 1, 1, 0]\n",
      "ic| probs: [0.25, 0.75]\n",
      "ic| entropy_2: 0.5623351446188083\n",
      "ic| entropy_v: 1.198849312913621\n",
      "ic| f: 1\n",
      "ic| values: {'-10', '+10'}\n",
      "ic| sub_split_1: []\n",
      "ic| probs: []\n",
      "ic| entropy_1: 0\n",
      "ic| sub_split_2: [1, 1, 1, 0, 0, 0, 1]\n",
      "ic| probs: [0.42857142857142855, 0.5714285714285714]\n",
      "ic| entropy_2: 0.6829081047004717\n",
      "ic| entropy_v: 0.6829081047004717\n",
      "ic| sub_split_1: []\n",
      "ic| probs: []\n",
      "ic| entropy_1: 0\n",
      "ic| sub_split_2: [1, 1, 1, 0, 0, 0, 1]\n",
      "ic| probs: [0.42857142857142855, 0.5714285714285714]\n",
      "ic| entropy_2: 0.6829081047004717\n",
      "ic| entropy_v: 0.6829081047004717\n",
      "ic| bestFeat: 1\n",
      "ic| bestFeatLabel: 'income'\n",
      "ic| labels: ['gender', 'income']\n",
      "ic| bestFeat: 1\n",
      "ic| labels: ['gender']\n",
      "ic| featValues: ['+10', '-10', '+10', '+10', '+10']\n",
      "ic| uniqueVals: {'-10', '+10'}\n",
      "ic| dataset: [['F', 1]]\n"
     ]
    },
    {
     "name": "stdout",
     "output_type": "stream",
     "text": [
      "spliter is: (1, '+10')\n",
      "the min entropy is: 0.6829081047004717\n"
     ]
    },
    {
     "name": "stderr",
     "output_type": "stream",
     "text": [
      "ic| dataset: [['F', 1], ['F', 0], ['M', 0], ['M', 0]]\n",
      "ic| dataset[0]: ['F', 1]\n",
      "ic| f: 0\n",
      "ic| values: {'F', 'M'}\n",
      "ic| sub_split_1: [1, 1, 1, 0]\n",
      "ic| probs: [0.25, 0.75]\n",
      "ic| entropy_1: 0.5623351446188083\n",
      "ic| sub_split_2: [0, 0, 1]\n",
      "ic| probs: [0.6666666666666666, 0.3333333333333333]\n",
      "ic| entropy_2: 0.6365141682948128\n",
      "ic| entropy_v: 1.198849312913621\n",
      "ic| sub_split_1: [0, 0, 1]\n",
      "ic| probs: [0.6666666666666666, 0.3333333333333333]\n",
      "ic| entropy_1: 0.6365141682948128\n",
      "ic| sub_split_2: [1, 1, 1, 0]\n",
      "ic| probs: [0.25, 0.75]\n",
      "ic| entropy_2: 0.5623351446188083\n",
      "ic| entropy_v: 1.198849312913621\n",
      "ic| bestFeat: 0\n",
      "ic| bestFeatLabel: 'gender'\n",
      "ic| labels: ['gender']\n",
      "ic| bestFeat: 0\n",
      "ic| labels: []\n",
      "ic| featValues: ['F', 'F', 'M', 'M']\n",
      "ic| uniqueVals: {'F', 'M'}\n",
      "ic| dataset: [[1], [0]]\n",
      "ic| dataset[0]: [1]\n"
     ]
    },
    {
     "name": "stdout",
     "output_type": "stream",
     "text": [
      "spliter is: (0, 'M')\n",
      "the min entropy is: 1.198849312913621\n"
     ]
    },
    {
     "name": "stderr",
     "output_type": "stream",
     "text": [
      "ic| dataset: [[0], [0]]\n",
      "ic| dataset: [['F', '+10', 1], ['M', '-10', 1]]\n"
     ]
    }
   ],
   "source": [
    "desicionTree = buildTree(dataSet, labels_tmp)"
   ]
  },
  {
   "cell_type": "code",
   "execution_count": 313,
   "metadata": {},
   "outputs": [
    {
     "name": "stderr",
     "output_type": "stream",
     "text": [
      "ic| inputTree: {'family_number': {1: {'income': {'+10': {'gender': {'F': 1, 'M': 0}},\n",
      "                                                 '-10': 1}},\n",
      "                                  2: 1}}\n",
      "ic| firstStr: 'family_number'\n",
      "ic| inputTree: {'income': {'+10': {'gender': {'F': 1, 'M': 0}}, '-10': 1}}\n",
      "ic| firstStr: 'income'\n"
     ]
    },
    {
     "data": {
      "text/plain": [
       "[1]"
      ]
     },
     "execution_count": 313,
     "metadata": {},
     "output_type": "execute_result"
    }
   ],
   "source": [
    "predict(desicionTree, labels, [['M','-10', 1]])"
   ]
  },
  {
   "cell_type": "markdown",
   "metadata": {},
   "source": [
    "<评阅点>\n",
    "> + 是否将之前的决策树模型的部分进行合并组装， predicate函数能够顺利运行(8')\n",
    "+ 是够能够输入未曾见过的X变量，例如gender, income, family_number 分别是： <M, -10, 1>, 模型能够预测出结果 (12')"
   ]
  },
  {
   "cell_type": "markdown",
   "metadata": {},
   "source": [
    "2. 将上一节课(第二节课)的线性回归问题中的Loss函数改成\"绝对值\"，并且改变其偏导的求值方式，观察其结果的变化。(19 point)"
   ]
  },
  {
   "cell_type": "code",
   "execution_count": null,
   "metadata": {},
   "outputs": [],
   "source": [
    "# you code here"
   ]
  },
  {
   "cell_type": "code",
   "execution_count": 14,
   "metadata": {},
   "outputs": [],
   "source": [
    "from sklearn.datasets import load_boston"
   ]
  },
  {
   "cell_type": "code",
   "execution_count": 15,
   "metadata": {},
   "outputs": [],
   "source": [
    "dataset = load_boston()"
   ]
  },
  {
   "cell_type": "code",
   "execution_count": 16,
   "metadata": {},
   "outputs": [
    {
     "data": {
      "text/plain": [
       "(506, 13)"
      ]
     },
     "execution_count": 16,
     "metadata": {},
     "output_type": "execute_result"
    }
   ],
   "source": [
    "dataset['data'].shape"
   ]
  },
  {
   "cell_type": "code",
   "execution_count": 17,
   "metadata": {},
   "outputs": [
    {
     "data": {
      "text/plain": [
       "(506,)"
      ]
     },
     "execution_count": 17,
     "metadata": {},
     "output_type": "execute_result"
    }
   ],
   "source": [
    "x, y = dataset['data'], dataset['target']\n",
    "X_rm = x[:, 5] \n",
    "X_rm.shape"
   ]
  },
  {
   "cell_type": "code",
   "execution_count": 18,
   "metadata": {},
   "outputs": [
    {
     "data": {
      "text/plain": [
       "<matplotlib.collections.PathCollection at 0x7f273f3183c8>"
      ]
     },
     "execution_count": 18,
     "metadata": {},
     "output_type": "execute_result"
    },
    {
     "data": {
      "image/png": "[encoded data removed]",
      "text/plain": [
       "<Figure size 432x288 with 1 Axes>"
      ]
     },
     "metadata": {
      "needs_background": "light"
     },
     "output_type": "display_data"
    }
   ],
   "source": [
    "plt.scatter(X_rm, y)"
   ]
  },
  {
   "cell_type": "code",
   "execution_count": 22,
   "metadata": {},
   "outputs": [],
   "source": [
    "def price(rm, k , b):\n",
    "    return k * rm + b"
   ]
  },
  {
   "cell_type": "markdown",
   "metadata": {},
   "source": [
    "##### Loss改为绝对值"
   ]
  },
  {
   "cell_type": "code",
   "execution_count": 23,
   "metadata": {},
   "outputs": [],
   "source": [
    "def loss(y, y_hat):\n",
    "    return sum(abs(y_i - y_hat) for y_i, y_hat in zip(list(y), list(y_hat))) / len(list(y))"
   ]
  },
  {
   "cell_type": "markdown",
   "metadata": {},
   "source": [
    "##### 重新定义偏导数"
   ]
  },
  {
   "cell_type": "code",
   "execution_count": 26,
   "metadata": {},
   "outputs": [],
   "source": [
    "def partial_derivative_k(x, y, y_hat):\n",
    "    n = len(y)\n",
    "    gradient = 0\n",
    "    for x_i, y_i, y_hat_i in zip(list(x), list(y), list(y_hat)):\n",
    "        if y_i > y_hat_i:\n",
    "            gradient += -x_i\n",
    "        else:\n",
    "            gradient += x_i\n",
    "    return gradient / n\n",
    "    \n",
    "def partial_derivative_b(y, y_hat):\n",
    "    n = len(y)\n",
    "    gradient = 0\n",
    "    for y_i, y_hat_i in zip(list(y), list(y_hat)):\n",
    "        if y_i > y_hat_i:\n",
    "            gradient += -1\n",
    "        else:\n",
    "            gradient += 1  \n",
    "    return gradient / n\n",
    "        "
   ]
  },
  {
   "cell_type": "markdown",
   "metadata": {},
   "source": [
    "##### 验证loss是否收敛"
   ]
  },
  {
   "cell_type": "code",
   "execution_count": 27,
   "metadata": {},
   "outputs": [
    {
     "name": "stdout",
     "output_type": "stream",
     "text": [
      "Iteration 0, the loss is 377.90462025646025, parameters k is 57.93273652453138 and b is 36.35135846511068\n",
      "Iteration 1, the loss is 377.8641236270776, parameters k is 57.92645189014403 and b is 36.35035846511068\n",
      "Iteration 2, the loss is 377.82362699769516, parameters k is 57.92016725575668 and b is 36.34935846511068\n",
      "Iteration 3, the loss is 377.78313036831247, parameters k is 57.91388262136933 and b is 36.348358465110685\n",
      "Iteration 4, the loss is 377.7426337389295, parameters k is 57.90759798698198 and b is 36.34735846511069\n",
      "Iteration 5, the loss is 377.70213710954744, parameters k is 57.901313352594634 and b is 36.34635846511069\n",
      "Iteration 6, the loss is 377.6616404801646, parameters k is 57.895028718207286 and b is 36.34535846511069\n",
      "Iteration 7, the loss is 377.6211438507816, parameters k is 57.88874408381994 and b is 36.344358465110695\n",
      "Iteration 8, the loss is 377.58064722139846, parameters k is 57.88245944943259 and b is 36.3433584651107\n",
      "Iteration 9, the loss is 377.5401505920161, parameters k is 57.87617481504524 and b is 36.3423584651107\n",
      "Iteration 10, the loss is 377.49965396263366, parameters k is 57.86989018065789 and b is 36.3413584651107\n",
      "Iteration 11, the loss is 377.459157333251, parameters k is 57.86360554627054 and b is 36.340358465110704\n",
      "Iteration 12, the loss is 377.4186607038681, parameters k is 57.85732091188319 and b is 36.339358465110706\n",
      "Iteration 13, the loss is 377.37816407448537, parameters k is 57.851036277495844 and b is 36.33835846511071\n",
      "Iteration 14, the loss is 377.33766744510274, parameters k is 57.844751643108495 and b is 36.33735846511071\n",
      "Iteration 15, the loss is 377.29717081572056, parameters k is 57.838467008721146 and b is 36.33635846511071\n",
      "Iteration 16, the loss is 377.2566741863373, parameters k is 57.8321823743338 and b is 36.335358465110716\n",
      "Iteration 17, the loss is 377.2161775569546, parameters k is 57.82589773994645 and b is 36.33435846511072\n",
      "Iteration 18, the loss is 377.1756809275726, parameters k is 57.8196131055591 and b is 36.33335846511072\n",
      "Iteration 19, the loss is 377.13518429818953, parameters k is 57.81332847117175 and b is 36.33235846511072\n",
      "Iteration 20, the loss is 377.094687668807, parameters k is 57.8070438367844 and b is 36.331358465110725\n",
      "Iteration 21, the loss is 377.05419103942455, parameters k is 57.80075920239705 and b is 36.33035846511073\n",
      "Iteration 22, the loss is 377.01369441004147, parameters k is 57.794474568009704 and b is 36.32935846511073\n",
      "Iteration 23, the loss is 376.97319778065923, parameters k is 57.788189933622355 and b is 36.32835846511073\n",
      "Iteration 24, the loss is 376.93270115127655, parameters k is 57.78190529923501 and b is 36.327358465110734\n",
      "Iteration 25, the loss is 376.8922045218939, parameters k is 57.77562066484766 and b is 36.32635846511074\n",
      "Iteration 26, the loss is 376.85170789251094, parameters k is 57.76933603046031 and b is 36.32535846511074\n",
      "Iteration 27, the loss is 376.81121126312803, parameters k is 57.76305139607296 and b is 36.32435846511074\n",
      "Iteration 28, the loss is 376.77071463374557, parameters k is 57.75676676168561 and b is 36.32335846511074\n",
      "Iteration 29, the loss is 376.73021800436294, parameters k is 57.75048212729826 and b is 36.322358465110746\n",
      "Iteration 30, the loss is 376.6897213749801, parameters k is 57.744197492910914 and b is 36.32135846511075\n",
      "Iteration 31, the loss is 376.6492247455975, parameters k is 57.737912858523565 and b is 36.32035846511075\n",
      "Iteration 32, the loss is 376.6087281162148, parameters k is 57.731628224136216 and b is 36.31935846511075\n",
      "Iteration 33, the loss is 376.56823148683236, parameters k is 57.72534358974887 and b is 36.318358465110755\n",
      "Iteration 34, the loss is 376.5277348574497, parameters k is 57.71905895536152 and b is 36.31735846511076\n",
      "Iteration 35, the loss is 376.4872382280671, parameters k is 57.71277432097417 and b is 36.31635846511076\n",
      "Iteration 36, the loss is 376.4467415986844, parameters k is 57.70648968658682 and b is 36.31535846511076\n",
      "Iteration 37, the loss is 376.4062449693012, parameters k is 57.70020505219947 and b is 36.314358465110764\n",
      "Iteration 38, the loss is 376.3657483399191, parameters k is 57.69392041781212 and b is 36.31335846511077\n",
      "Iteration 39, the loss is 376.3252517105367, parameters k is 57.687635783424774 and b is 36.31235846511077\n",
      "Iteration 40, the loss is 376.28475508115383, parameters k is 57.681351149037425 and b is 36.31135846511077\n",
      "Iteration 41, the loss is 376.2442584517714, parameters k is 57.67506651465008 and b is 36.310358465110774\n",
      "Iteration 42, the loss is 376.2037618223889, parameters k is 57.66878188026273 and b is 36.309358465110776\n",
      "Iteration 43, the loss is 376.163265193006, parameters k is 57.66249724587538 and b is 36.30835846511078\n",
      "Iteration 44, the loss is 376.1227685636231, parameters k is 57.65621261148803 and b is 36.30735846511078\n",
      "Iteration 45, the loss is 376.08227193424045, parameters k is 57.64992797710068 and b is 36.30635846511078\n",
      "Iteration 46, the loss is 376.0417753048578, parameters k is 57.64364334271333 and b is 36.305358465110785\n",
      "Iteration 47, the loss is 376.00127867547553, parameters k is 57.63735870832598 and b is 36.30435846511079\n",
      "Iteration 48, the loss is 375.96078204609245, parameters k is 57.631074073938635 and b is 36.30335846511079\n",
      "Iteration 49, the loss is 375.9202854167097, parameters k is 57.624789439551286 and b is 36.30235846511079\n",
      "Iteration 50, the loss is 375.8797887873271, parameters k is 57.61850480516394 and b is 36.301358465110795\n",
      "Iteration 51, the loss is 375.83929215794444, parameters k is 57.61222017077659 and b is 36.3003584651108\n",
      "Iteration 52, the loss is 375.7987955285616, parameters k is 57.60593553638924 and b is 36.2993584651108\n",
      "Iteration 53, the loss is 375.75829889917907, parameters k is 57.59965090200189 and b is 36.2983584651108\n",
      "Iteration 54, the loss is 375.7178022697966, parameters k is 57.59336626761454 and b is 36.297358465110804\n",
      "Iteration 55, the loss is 375.67730564041386, parameters k is 57.58708163322719 and b is 36.296358465110806\n",
      "Iteration 56, the loss is 375.6368090110311, parameters k is 57.580796998839844 and b is 36.29535846511081\n",
      "Iteration 57, the loss is 375.59631238164815, parameters k is 57.574512364452495 and b is 36.29435846511081\n",
      "Iteration 58, the loss is 375.55581575226574, parameters k is 57.568227730065146 and b is 36.29335846511081\n",
      "Iteration 59, the loss is 375.51531912288317, parameters k is 57.5619430956778 and b is 36.292358465110816\n",
      "Iteration 60, the loss is 375.47482249350065, parameters k is 57.55565846129045 and b is 36.29135846511082\n",
      "Iteration 61, the loss is 375.4343258641178, parameters k is 57.5493738269031 and b is 36.29035846511082\n",
      "Iteration 62, the loss is 375.3938292347355, parameters k is 57.54308919251575 and b is 36.28935846511082\n",
      "Iteration 63, the loss is 375.3533326053525, parameters k is 57.5368045581284 and b is 36.288358465110825\n",
      "Iteration 64, the loss is 375.3128359759696, parameters k is 57.53051992374105 and b is 36.28735846511083\n",
      "Iteration 65, the loss is 375.2723393465872, parameters k is 57.524235289353705 and b is 36.28635846511083\n",
      "Iteration 66, the loss is 375.2318427172045, parameters k is 57.517950654966356 and b is 36.28535846511083\n",
      "Iteration 67, the loss is 375.1913460878217, parameters k is 57.51166602057901 and b is 36.284358465110834\n",
      "Iteration 68, the loss is 375.1508494584392, parameters k is 57.50538138619166 and b is 36.28335846511084\n",
      "Iteration 69, the loss is 375.1103528290568, parameters k is 57.49909675180431 and b is 36.28235846511084\n",
      "Iteration 70, the loss is 375.069856199674, parameters k is 57.49281211741696 and b is 36.28135846511084\n",
      "Iteration 71, the loss is 375.0293595702913, parameters k is 57.48652748302961 and b is 36.280358465110844\n",
      "Iteration 72, the loss is 374.9888629409087, parameters k is 57.48024284864226 and b is 36.279358465110846\n",
      "Iteration 73, the loss is 374.94836631152566, parameters k is 57.473958214254914 and b is 36.27835846511085\n",
      "Iteration 74, the loss is 374.90786968214314, parameters k is 57.467673579867565 and b is 36.27735846511085\n",
      "Iteration 75, the loss is 374.8673730527601, parameters k is 57.461388945480216 and b is 36.27635846511085\n",
      "Iteration 76, the loss is 374.82687642337794, parameters k is 57.45510431109287 and b is 36.275358465110855\n",
      "Iteration 77, the loss is 374.78637979399474, parameters k is 57.44881967670552 and b is 36.27435846511086\n",
      "Iteration 78, the loss is 374.74588316461245, parameters k is 57.44253504231817 and b is 36.27335846511086\n",
      "Iteration 79, the loss is 374.7053865352298, parameters k is 57.43625040793082 and b is 36.27235846511086\n",
      "Iteration 80, the loss is 374.6648899058474, parameters k is 57.42996577354347 and b is 36.271358465110865\n",
      "Iteration 81, the loss is 374.62439327646433, parameters k is 57.42368113915612 and b is 36.27035846511087\n",
      "Iteration 82, the loss is 374.583896647082, parameters k is 57.417396504768774 and b is 36.26935846511087\n",
      "Iteration 83, the loss is 374.5434000176993, parameters k is 57.411111870381426 and b is 36.26835846511087\n",
      "Iteration 84, the loss is 374.50290338831695, parameters k is 57.40482723599408 and b is 36.267358465110874\n",
      "Iteration 85, the loss is 374.4624067589334, parameters k is 57.39854260160673 and b is 36.266358465110876\n",
      "Iteration 86, the loss is 374.42191012955124, parameters k is 57.39225796721938 and b is 36.26535846511088\n",
      "Iteration 87, the loss is 374.38141350016855, parameters k is 57.38597333283203 and b is 36.26435846511088\n",
      "Iteration 88, the loss is 374.34091687078575, parameters k is 57.37968869844468 and b is 36.26335846511088\n",
      "Iteration 89, the loss is 374.3004202414034, parameters k is 57.37340406405733 and b is 36.262358465110886\n",
      "Iteration 90, the loss is 374.2599236120204, parameters k is 57.367119429669984 and b is 36.26135846511089\n",
      "Iteration 91, the loss is 374.2194269826376, parameters k is 57.360834795282635 and b is 36.26035846511089\n",
      "Iteration 92, the loss is 374.17893035325517, parameters k is 57.354550160895286 and b is 36.25935846511089\n",
      "Iteration 93, the loss is 374.13843372387237, parameters k is 57.34826552650794 and b is 36.258358465110895\n",
      "Iteration 94, the loss is 374.0979370944898, parameters k is 57.34198089212059 and b is 36.2573584651109\n",
      "Iteration 95, the loss is 374.05744046510716, parameters k is 57.33569625773324 and b is 36.2563584651109\n",
      "Iteration 96, the loss is 374.01694383572476, parameters k is 57.32941162334589 and b is 36.2553584651109\n",
      "Iteration 97, the loss is 373.9764472063419, parameters k is 57.32312698895854 and b is 36.254358465110904\n",
      "Iteration 98, the loss is 373.93595057695916, parameters k is 57.31684235457119 and b is 36.25335846511091\n",
      "Iteration 99, the loss is 373.8954539475766, parameters k is 57.310557720183844 and b is 36.25235846511091\n",
      "Iteration 100, the loss is 373.8549573181939, parameters k is 57.304273085796495 and b is 36.25135846511091\n",
      "Iteration 101, the loss is 373.81446068881166, parameters k is 57.29798845140915 and b is 36.250358465110914\n",
      "Iteration 102, the loss is 373.77396405942847, parameters k is 57.2917038170218 and b is 36.249358465110916\n",
      "Iteration 103, the loss is 373.73346743004635, parameters k is 57.28541918263445 and b is 36.24835846511092\n",
      "Iteration 104, the loss is 373.69297080066303, parameters k is 57.2791345482471 and b is 36.24735846511092\n",
      "Iteration 105, the loss is 373.65247417128046, parameters k is 57.27284991385975 and b is 36.24635846511092\n",
      "Iteration 106, the loss is 373.61197754189783, parameters k is 57.2665652794724 and b is 36.245358465110925\n",
      "Iteration 107, the loss is 373.5714809125152, parameters k is 57.260280645085054 and b is 36.24435846511093\n",
      "Iteration 108, the loss is 373.5309842831327, parameters k is 57.253996010697705 and b is 36.24335846511093\n",
      "Iteration 109, the loss is 373.4904876537504, parameters k is 57.247711376310356 and b is 36.24235846511093\n",
      "Iteration 110, the loss is 373.4499910243672, parameters k is 57.24142674192301 and b is 36.241358465110935\n",
      "Iteration 111, the loss is 373.4094943949849, parameters k is 57.23514210753566 and b is 36.24035846511094\n",
      "Iteration 112, the loss is 373.3689977656019, parameters k is 57.22885747314831 and b is 36.23935846511094\n",
      "Iteration 113, the loss is 373.328501136219, parameters k is 57.22257283876096 and b is 36.23835846511094\n",
      "Iteration 114, the loss is 373.28800450683616, parameters k is 57.21628820437361 and b is 36.237358465110944\n",
      "Iteration 115, the loss is 373.2475078774537, parameters k is 57.21000356998626 and b is 36.236358465110946\n",
      "Iteration 116, the loss is 373.2070112480715, parameters k is 57.203718935598914 and b is 36.23535846511095\n",
      "Iteration 117, the loss is 373.1665146186883, parameters k is 57.197434301211565 and b is 36.23435846511095\n",
      "Iteration 118, the loss is 373.12601798930604, parameters k is 57.19114966682422 and b is 36.23335846511095\n",
      "Iteration 119, the loss is 373.08552135992323, parameters k is 57.18486503243687 and b is 36.232358465110956\n",
      "Iteration 120, the loss is 373.0450247305406, parameters k is 57.17858039804952 and b is 36.23135846511096\n",
      "Iteration 121, the loss is 373.0045281011582, parameters k is 57.17229576366217 and b is 36.23035846511096\n",
      "Iteration 122, the loss is 372.9640314717758, parameters k is 57.16601112927482 and b is 36.22935846511096\n",
      "Iteration 123, the loss is 372.92353484239254, parameters k is 57.15972649488747 and b is 36.228358465110965\n",
      "Iteration 124, the loss is 372.8830382130097, parameters k is 57.15344186050012 and b is 36.22735846511097\n",
      "Iteration 125, the loss is 372.8425415836271, parameters k is 57.147157226112775 and b is 36.22635846511097\n",
      "Iteration 126, the loss is 372.80204495424465, parameters k is 57.140872591725426 and b is 36.22535846511097\n",
      "Iteration 127, the loss is 372.76154832486236, parameters k is 57.13458795733808 and b is 36.224358465110974\n",
      "Iteration 128, the loss is 372.7210516954791, parameters k is 57.12830332295073 and b is 36.22335846511098\n",
      "Iteration 129, the loss is 372.68055506609664, parameters k is 57.12201868856338 and b is 36.22235846511098\n",
      "Iteration 130, the loss is 372.64005843671407, parameters k is 57.11573405417603 and b is 36.22135846511098\n",
      "Iteration 131, the loss is 372.59956180733155, parameters k is 57.10944941978868 and b is 36.220358465110984\n",
      "Iteration 132, the loss is 372.559065177949, parameters k is 57.10316478540133 and b is 36.219358465110986\n",
      "Iteration 133, the loss is 372.518568548566, parameters k is 57.096880151013984 and b is 36.21835846511099\n",
      "Iteration 134, the loss is 372.47807191918326, parameters k is 57.090595516626635 and b is 36.21735846511099\n",
      "Iteration 135, the loss is 372.43757528980103, parameters k is 57.084310882239286 and b is 36.21635846511099\n",
      "Iteration 136, the loss is 372.39707866041783, parameters k is 57.07802624785194 and b is 36.215358465110995\n",
      "Iteration 137, the loss is 372.3565820310354, parameters k is 57.07174161346459 and b is 36.214358465111\n",
      "Iteration 138, the loss is 372.3160854016528, parameters k is 57.06545697907724 and b is 36.213358465111\n",
      "Iteration 139, the loss is 372.27558877226977, parameters k is 57.05917234468989 and b is 36.212358465111\n",
      "Iteration 140, the loss is 372.2350921428876, parameters k is 57.05288771030254 and b is 36.211358465111005\n",
      "Iteration 141, the loss is 372.1945955135051, parameters k is 57.04660307591519 and b is 36.21035846511101\n",
      "Iteration 142, the loss is 372.15409888412194, parameters k is 57.040318441527845 and b is 36.20935846511101\n",
      "Iteration 143, the loss is 372.1136022547392, parameters k is 57.034033807140496 and b is 36.20835846511101\n",
      "Iteration 144, the loss is 372.07310562535616, parameters k is 57.02774917275315 and b is 36.207358465111014\n",
      "Iteration 145, the loss is 372.0326089959741, parameters k is 57.0214645383658 and b is 36.206358465111016\n",
      "Iteration 146, the loss is 371.99211236659147, parameters k is 57.01517990397845 and b is 36.20535846511102\n",
      "Iteration 147, the loss is 371.95161573720833, parameters k is 57.0088952695911 and b is 36.20435846511102\n",
      "Iteration 148, the loss is 371.9111191078261, parameters k is 57.00261063520375 and b is 36.20335846511102\n",
      "Iteration 149, the loss is 371.87062247844324, parameters k is 56.9963260008164 and b is 36.202358465111026\n",
      "Iteration 150, the loss is 371.83012584906044, parameters k is 56.990041366429054 and b is 36.20135846511103\n",
      "Iteration 151, the loss is 371.7896292196779, parameters k is 56.983756732041705 and b is 36.20035846511103\n",
      "Iteration 152, the loss is 371.7491325902953, parameters k is 56.977472097654356 and b is 36.19935846511103\n",
      "Iteration 153, the loss is 371.70863596091283, parameters k is 56.97118746326701 and b is 36.198358465111035\n",
      "Iteration 154, the loss is 371.6681393315301, parameters k is 56.96490282887966 and b is 36.19735846511104\n",
      "Iteration 155, the loss is 371.62764270214745, parameters k is 56.95861819449231 and b is 36.19635846511104\n",
      "Iteration 156, the loss is 371.5871460727643, parameters k is 56.95233356010496 and b is 36.19535846511104\n",
      "Iteration 157, the loss is 371.54664944338214, parameters k is 56.94604892571761 and b is 36.194358465111044\n",
      "Iteration 158, the loss is 371.50615281399865, parameters k is 56.93976429133026 and b is 36.19335846511105\n",
      "Iteration 159, the loss is 371.46565618461676, parameters k is 56.933479656942914 and b is 36.19235846511105\n",
      "Iteration 160, the loss is 371.425159555234, parameters k is 56.927195022555566 and b is 36.19135846511105\n",
      "Iteration 161, the loss is 371.38466292585167, parameters k is 56.92091038816822 and b is 36.19035846511105\n",
      "Iteration 162, the loss is 371.3441662964694, parameters k is 56.91462575378087 and b is 36.189358465111056\n",
      "Iteration 163, the loss is 371.30366966708624, parameters k is 56.90834111939352 and b is 36.18835846511106\n",
      "Iteration 164, the loss is 371.2631730377034, parameters k is 56.90205648500617 and b is 36.18735846511106\n",
      "Iteration 165, the loss is 371.2226764083213, parameters k is 56.89577185061882 and b is 36.18635846511106\n",
      "Iteration 166, the loss is 371.1821797789384, parameters k is 56.88948721623147 and b is 36.185358465111065\n",
      "Iteration 167, the loss is 371.14168314955526, parameters k is 56.883202581844124 and b is 36.18435846511107\n",
      "Iteration 168, the loss is 371.1011865201726, parameters k is 56.876917947456775 and b is 36.18335846511107\n",
      "Iteration 169, the loss is 371.0606898907903, parameters k is 56.870633313069426 and b is 36.18235846511107\n",
      "Iteration 170, the loss is 371.0201932614071, parameters k is 56.86434867868208 and b is 36.181358465111074\n",
      "Iteration 171, the loss is 370.97969663202485, parameters k is 56.85806404429473 and b is 36.18035846511108\n",
      "Iteration 172, the loss is 370.93920000264194, parameters k is 56.85177940990738 and b is 36.17935846511108\n",
      "Iteration 173, the loss is 370.898703373259, parameters k is 56.84549477552003 and b is 36.17835846511108\n",
      "Iteration 174, the loss is 370.8582067438769, parameters k is 56.83921014113268 and b is 36.177358465111084\n",
      "Iteration 175, the loss is 370.8177101144944, parameters k is 56.83292550674533 and b is 36.176358465111086\n",
      "Iteration 176, the loss is 370.7772134851116, parameters k is 56.826640872357984 and b is 36.17535846511109\n",
      "Iteration 177, the loss is 370.736716855729, parameters k is 56.820356237970636 and b is 36.17435846511109\n",
      "Iteration 178, the loss is 370.69622022634604, parameters k is 56.81407160358329 and b is 36.17335846511109\n",
      "Iteration 179, the loss is 370.6557235969636, parameters k is 56.80778696919594 and b is 36.172358465111095\n",
      "Iteration 180, the loss is 370.6152269675806, parameters k is 56.80150233480859 and b is 36.1713584651111\n",
      "Iteration 181, the loss is 370.57473033819804, parameters k is 56.79521770042124 and b is 36.1703584651111\n",
      "Iteration 182, the loss is 370.53423370881535, parameters k is 56.78893306603389 and b is 36.1693584651111\n",
      "Iteration 183, the loss is 370.493737079433, parameters k is 56.78264843164654 and b is 36.168358465111105\n",
      "Iteration 184, the loss is 370.4532404500503, parameters k is 56.776363797259194 and b is 36.16735846511111\n",
      "Iteration 185, the loss is 370.4127438206675, parameters k is 56.770079162871845 and b is 36.16635846511111\n",
      "Iteration 186, the loss is 370.3722471912846, parameters k is 56.763794528484496 and b is 36.16535846511111\n",
      "Iteration 187, the loss is 370.3317505619023, parameters k is 56.75750989409715 and b is 36.164358465111114\n",
      "Iteration 188, the loss is 370.29125393251974, parameters k is 56.7512252597098 and b is 36.163358465111116\n",
      "Iteration 189, the loss is 370.25075730313705, parameters k is 56.74494062532245 and b is 36.16235846511112\n",
      "Iteration 190, the loss is 370.21026067375425, parameters k is 56.7386559909351 and b is 36.16135846511112\n",
      "Iteration 191, the loss is 370.16976404437156, parameters k is 56.73237135654775 and b is 36.16035846511112\n",
      "Iteration 192, the loss is 370.1292674149889, parameters k is 56.7260867221604 and b is 36.159358465111126\n",
      "Iteration 193, the loss is 370.088770785606, parameters k is 56.719802087773054 and b is 36.15835846511113\n",
      "Iteration 194, the loss is 370.0482741562238, parameters k is 56.713517453385705 and b is 36.15735846511113\n",
      "Iteration 195, the loss is 370.00777752684075, parameters k is 56.70723281899836 and b is 36.15635846511113\n",
      "Iteration 196, the loss is 369.96728089745847, parameters k is 56.70094818461101 and b is 36.155358465111135\n",
      "Iteration 197, the loss is 369.9267842680751, parameters k is 56.69466355022366 and b is 36.15435846511114\n",
      "Iteration 198, the loss is 369.8862876386926, parameters k is 56.68837891583631 and b is 36.15335846511114\n",
      "Iteration 199, the loss is 369.84579100931023, parameters k is 56.68209428144896 and b is 36.15235846511114\n"
     ]
    }
   ],
   "source": [
    "import random\n",
    "k = random.random() * 200 - 100\n",
    "b = random.random() * 200 - 100\n",
    "\n",
    "learning_rate = 1e-3\n",
    "\n",
    "iteration_num = 200\n",
    "losses = []\n",
    "for i in range(iteration_num):\n",
    "    \n",
    "    price_use_current_parameters = [price(r, k, b) for r in X_rm]\n",
    "    current_loss = loss(y, price_use_current_parameters)\n",
    "    losses.append(current_loss)\n",
    "    print(\"Iteration {}, the loss is {}, parameters k is {} and b is {}\".format(i, current_loss, k, b))\n",
    "    k_gradient = partial_derivative_k(X_rm, y, price_use_current_parameters)\n",
    "    b_gradient = partial_derivative_b(y, price_use_current_parameters)\n",
    "    \n",
    "    k = k - learning_rate * k_gradient\n",
    "    b = b - learning_rate * b_gradient\n",
    "    \n",
    "best_k = k \n",
    "best_b = b"
   ]
  },
  {
   "cell_type": "markdown",
   "metadata": {},
   "source": [
    "**观察结果发现，无法收敛**"
   ]
  },
  {
   "cell_type": "markdown",
   "metadata": {},
   "source": [
    "<评阅点>\n",
    "+ 是否将Loss改成了“绝对值”(3')\n",
    "+ 是否完成了偏导的重新定义(5')\n",
    "+ 新的模型Loss是否能够收敛 (11’)"
   ]
  },
  {
   "cell_type": "markdown",
   "metadata": {},
   "source": []
  }
 ],
 "metadata": {
  "kernelspec": {
   "display_name": "Python 3",
   "language": "python",
   "name": "python3"
  },
  "language_info": {
   "codemirror_mode": {
    "name": "ipython",
    "version": 3
   },
   "file_extension": ".py",
   "mimetype": "text/x-python",
   "name": "python",
   "nbconvert_exporter": "python",
   "pygments_lexer": "ipython3",
   "version": "3.6.8"
  },
  "toc": {
   "base_numbering": 1,
   "nav_menu": {},
   "number_sections": true,
   "sideBar": true,
   "skip_h1_title": false,
   "title_cell": "Table of Contents",
   "title_sidebar": "Contents",
   "toc_cell": false,
   "toc_position": {},
   "toc_section_display": true,
   "toc_window_display": false
  }
 },
 "nbformat": 4,
 "nbformat_minor": 2
}
